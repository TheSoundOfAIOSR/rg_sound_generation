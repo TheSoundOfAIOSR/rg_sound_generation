{
 "nbformat": 4,
 "nbformat_minor": 0,
 "metadata": {
  "colab": {
   "name": "Evaluate.ipynb",
   "provenance": [],
   "collapsed_sections": []
  },
  "kernelspec": {
   "name": "python3",
   "display_name": "Python 3"
  },
  "language_info": {
   "name": "python"
  }
 },
 "cells": [
  {
   "cell_type": "code",
   "metadata": {
    "id": "J0MXBk4JQz_N"
   },
   "source": [
    "!git clone https://github.com/TheSoundOfAIOSR/rg_sound_generation.git\n",
    "%cd rg_sound_generation"
   ],
   "execution_count": null,
   "outputs": []
  },
  {
   "cell_type": "code",
   "metadata": {
    "id": "dGbX34VcRAMW"
   },
   "source": [
    "!pip install -q -r requirements_colab.txt"
   ],
   "execution_count": null,
   "outputs": []
  },
  {
   "cell_type": "code",
   "metadata": {
    "id": "zmoGJkijRJwL"
   },
   "source": [
    "from google.colab import drive\n",
    "drive.mount('/content/drive', force_remount=False)"
   ],
   "execution_count": null,
   "outputs": []
  },
  {
   "cell_type": "code",
   "metadata": {
    "id": "SnAPH0sHROn5"
   },
   "source": [
    "import os\n",
    "import tensorflow as tf\n",
    "import numpy as np\n",
    "import pandas as pd\n",
    "import soundfile as sf\n",
    "import tsms\n",
    "from tqdm import tqdm\n",
    "from tcae.train import ModelWrapper\n",
    "from tcae.model import TCAEModel\n",
    "from tcae.localconfig import LocalConfig\n",
    "from tcae.dataset import get_dataset\n",
    "\n",
    "\n",
    "conf = LocalConfig()\n",
    "\n",
    "target_dir = \"/content/drive/MyDrive/the_sound_of_ai/new_data/sounds_measures\""
   ],
   "execution_count": null,
   "outputs": []
  },
  {
   "cell_type": "code",
   "metadata": {
    "id": "EDrn_hnVRdFq"
   },
   "source": [
    "# Architecture\n",
    "conf.use_encoder = True\n",
    "conf.simple_encoder = True\n",
    "conf.simple_decoder = True\n",
    "conf.using_categorical = False\n",
    "conf.latent_dim = 5\n",
    "conf.use_embeddings = False\n",
    "conf.lc_dropout_rate = 0.0\n",
    "\n",
    "conf.use_note_number = True\n",
    "conf.use_velocity = True\n",
    "conf.use_instrument_id = False\n",
    "conf.use_heuristics = True\n",
    "conf.use_one_hot_conditioning = True\n",
    "conf.create_decoder_function = 'lc'\n",
    "\n",
    "conf.print_model_summary = False\n",
    "\n",
    "# Outputs\n",
    "conf.data_handler.update_losses_weights(\n",
    "    f0_shifts=1.0,\n",
    "    h_freq_shifts=1.0,\n",
    "    mag_env=1.0,\n",
    "    h_mag_dist=1.0,\n",
    "    h_mag=1.0,\n",
    "    h_phase_diff=0.0,\n",
    "    measures=1.0)\n",
    "\n",
    "conf.data_handler.compact_measures_logs = False\n",
    "conf.data_handler.freq_scale_fn = 'tanh'  # 'none', 'tanh'\n",
    "conf.data_handler.mag_scale_fn = 'exp_sigmoid'  # 'none', 'exp_sigmoid'\n",
    "conf.data_handler.phase_scale_fn = 'tanh'  # 'none', 'tanh'\n",
    "\n",
    "# Training\n",
    "conf.batch_size = 32\n",
    "conf.learning_rate = 3e-04\n",
    "conf.lr_factor = 0.5\n",
    "conf.lr_plateau = 10\n",
    "conf.model_name = \"mt_new_decoder_5_measures\"\n",
    "conf.early_stopping = 100\n",
    "\n",
    "\n",
    "conf.dataset_dir = \"/content/drive/MyDrive/the_sound_of_ai/new_data\"\n",
    "conf.batch_size = 1"
   ],
   "execution_count": null,
   "outputs": []
  },
  {
   "cell_type": "code",
   "metadata": {
    "id": "hcXW1bM7RruZ"
   },
   "source": [
    "model = ModelWrapper(TCAEModel(conf), conf.data_handler.loss)\n",
    "\n",
    "_, valid_dataset, test_dataset = get_dataset(conf)"
   ],
   "execution_count": null,
   "outputs": []
  },
  {
   "cell_type": "code",
   "metadata": {
    "id": "_xNCuGm_KJKH"
   },
   "source": [
    "x, y = next(iter(valid_dataset))\n",
    "_ = model(x)\n",
    "\n",
    "model.compile(optimizer=tf.keras.optimizers.Adam(learning_rate=conf.learning_rate))\n",
    "model.load_weights(\"/content/drive/MyDrive/the_sound_of_ai/new_data/checkpoints/mt_measures/mt_new_decoder_5_measures_23_0.00930.ckpt\")"
   ],
   "execution_count": null,
   "outputs": []
  },
  {
   "cell_type": "code",
   "metadata": {
    "id": "bXapIWgZNlUL"
   },
   "source": [
    "loss_keys = [\"loss\"] + [x + \"_loss\" for x in list(conf.data_handler.losses_weights.keys()) if conf.data_handler.losses_weights[x] > 0]\n",
    "loss_keys += [x + \"_loss\" for x in conf.data_handler.measures_losses_weights.keys()]\n",
    "\n",
    "loss_keys"
   ],
   "execution_count": null,
   "outputs": []
  },
  {
   "cell_type": "code",
   "metadata": {
    "id": "dxV63yDySL3h"
   },
   "source": [
    "results = dict((k, []) for k in loss_keys)\n",
    "results[\"name\"] = []\n",
    "\n",
    "class EvalCallback(tf.keras.callbacks.Callback):\n",
    "    def on_test_batch_end(self, batch, logs=None):\n",
    "        for key in loss_keys:\n",
    "            results[key].append(logs.get(key))\n",
    "\n",
    "\n",
    "for x, y in tqdm(iter(test_dataset)):\n",
    "    losses = model.evaluate(x, y, verbose=False, callbacks=[EvalCallback()])\n",
    "    name = x[\"name:\"][0]\n",
    "    name = name.numpy()[0].decode()\n",
    "    results[\"name\"].append(name)\n",
    "    \n",
    "    note_number = x[\"note_number\"]\n",
    "    note_number = tf.argmax(note_number, axis=-1) + conf.starting_midi_pitch\n",
    "    \n",
    "    preds = model.predict(x)\n",
    "    transformed = conf.data_handler.output_transform({}, preds)\n",
    "    transformed[\"mask\"] = x[\"mask\"]\n",
    "    transformed[\"note_number\"] = note_number\n",
    "\n",
    "    h_freq, h_mag, h_phase = conf.data_handler.denormalize(transformed)\n",
    "    audio = tsms.core.harmonic_synthesis(h_freq, h_mag, h_phase, conf.sample_rate, conf.frame_size)\n",
    "    audio = audio[0]\n",
    "    audio = np.array(audio) / np.max(np.abs(audio))\n",
    "\n",
    "    target_path = os.path.join(target_dir, f\"{name}.wav\")\n",
    "    sf.write(target_path, audio, samplerate=conf.sample_rate)"
   ],
   "execution_count": null,
   "outputs": []
  },
  {
   "cell_type": "code",
   "metadata": {
    "id": "GDz2MgbRW_Al"
   },
   "source": [
    "df = pd.DataFrame(results)\n",
    "df.head()"
   ],
   "execution_count": null,
   "outputs": []
  },
  {
   "cell_type": "code",
   "metadata": {
    "id": "7upSofaKrs31"
   },
   "source": [
    "df.to_csv(\"test_results_with_measures_loss.csv\")"
   ],
   "execution_count": null,
   "outputs": []
  },
  {
   "cell_type": "markdown",
   "metadata": {
    "id": "m4FoDxSduP_a"
   },
   "source": [
    "Export synthesised audio for ground truth"
   ]
  },
  {
   "cell_type": "code",
   "metadata": {
    "id": "tIetw3Zrrts1"
   },
   "source": [
    "for x, y in tqdm(iter(test_dataset)):\n",
    "    name = x[\"name:\"][0]\n",
    "    name = name.numpy()[0].decode()\n",
    "\n",
    "    # Check denormalize if the following maybe required\n",
    "    # note_number = x[\"note_number\"]\n",
    "    # note_number = tf.argmax(note_number, axis=-1) + conf.starting_midi_pitch\n",
    "    # x[\"note_number\"] = note_number\n",
    "\n",
    "    h_freq, h_mag, h_phase = conf.data_handler.denormalize(x)\n",
    "    audio = tsms.core.harmonic_synthesis(h_freq, h_mag, h_phase, conf.sample_rate, conf.frame_size)\n",
    "    audio = audio[0]\n",
    "    audio = np.array(audio) / np.max(np.abs(audio))\n",
    "\n",
    "    target_path = os.path.join(target_dir, f\"{name}_true.wav\")\n",
    "    sf.write(target_path, audio, samplerate=conf.sample_rate)"
   ],
   "execution_count": null,
   "outputs": []
  },
  {
   "cell_type": "code",
   "metadata": {
    "id": "QEPuK_-rhc4U"
   },
   "source": [
    ""
   ],
   "execution_count": null,
   "outputs": []
  }
 ]
}
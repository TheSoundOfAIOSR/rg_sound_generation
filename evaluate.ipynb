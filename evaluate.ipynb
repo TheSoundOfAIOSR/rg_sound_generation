{
 "nbformat": 4,
 "nbformat_minor": 0,
 "metadata": {
  "colab": {
   "name": "evaluate.ipynb",
   "provenance": [],
   "collapsed_sections": []
  },
  "kernelspec": {
   "name": "python3",
   "display_name": "Python 3"
  },
  "language_info": {
   "name": "python"
  },
  "accelerator": "GPU"
 },
 "cells": [
  {
   "cell_type": "code",
   "metadata": {
    "id": "J0MXBk4JQz_N",
    "colab": {
     "base_uri": "https://localhost:8080/"
    },
    "executionInfo": {
     "status": "ok",
     "timestamp": 1633681995285,
     "user_tz": -60,
     "elapsed": 518,
     "user": {
      "displayName": "Amit Yadav",
      "photoUrl": "https://lh3.googleusercontent.com/a-/AOh14GhPlsR49pVenE006oG1QDmA4uQZFm5zND0AfTfoPA=s64",
      "userId": "06019965579715007028"
     }
    },
    "outputId": "65478ece-96f1-439f-e074-8748c8bcbbe6"
   },
   "source": [
    "!git clone -b dataset https://github.com/TheSoundOfAIOSR/rg_sound_generation.git\n",
    "%cd rg_sound_generation"
   ],
   "execution_count": 1,
   "outputs": [
    {
     "output_type": "stream",
     "name": "stdout",
     "text": [
      "fatal: destination path 'rg_sound_generation' already exists and is not an empty directory.\n",
      "/content/rg_sound_generation\n"
     ]
    }
   ]
  },
  {
   "cell_type": "code",
   "metadata": {
    "id": "dGbX34VcRAMW",
    "executionInfo": {
     "status": "ok",
     "timestamp": 1633682001060,
     "user_tz": -60,
     "elapsed": 2832,
     "user": {
      "displayName": "Amit Yadav",
      "photoUrl": "https://lh3.googleusercontent.com/a-/AOh14GhPlsR49pVenE006oG1QDmA4uQZFm5zND0AfTfoPA=s64",
      "userId": "06019965579715007028"
     }
    }
   },
   "source": [
    "!pip install -q -r requirements_colab.txt"
   ],
   "execution_count": 2,
   "outputs": []
  },
  {
   "cell_type": "code",
   "metadata": {
    "id": "zmoGJkijRJwL",
    "colab": {
     "base_uri": "https://localhost:8080/"
    },
    "executionInfo": {
     "status": "ok",
     "timestamp": 1633682001061,
     "user_tz": -60,
     "elapsed": 9,
     "user": {
      "displayName": "Amit Yadav",
      "photoUrl": "https://lh3.googleusercontent.com/a-/AOh14GhPlsR49pVenE006oG1QDmA4uQZFm5zND0AfTfoPA=s64",
      "userId": "06019965579715007028"
     }
    },
    "outputId": "89ea62d9-7bfb-47d4-a070-57e07cda78fe"
   },
   "source": [
    "from google.colab import drive\n",
    "drive.mount('/content/drive', force_remount=False)"
   ],
   "execution_count": 3,
   "outputs": [
    {
     "output_type": "stream",
     "name": "stdout",
     "text": [
      "Drive already mounted at /content/drive; to attempt to forcibly remount, call drive.mount(\"/content/drive\", force_remount=True).\n"
     ]
    }
   ]
  },
  {
   "cell_type": "code",
   "metadata": {
    "id": "SnAPH0sHROn5",
    "executionInfo": {
     "status": "ok",
     "timestamp": 1633682009668,
     "user_tz": -60,
     "elapsed": 2734,
     "user": {
      "displayName": "Amit Yadav",
      "photoUrl": "https://lh3.googleusercontent.com/a-/AOh14GhPlsR49pVenE006oG1QDmA4uQZFm5zND0AfTfoPA=s64",
      "userId": "06019965579715007028"
     }
    }
   },
   "source": [
    "import os\n",
    "import tensorflow as tf\n",
    "import numpy as np\n",
    "import pandas as pd\n",
    "import soundfile as sf\n",
    "import tsms\n",
    "from tqdm import tqdm\n",
    "from tcae.train import ModelWrapper\n",
    "from tcae.model import TCAEModel\n",
    "from tcae.localconfig import LocalConfig\n",
    "from tcae.dataset import get_dataset\n",
    "\n",
    "\n",
    "conf = LocalConfig()"
   ],
   "execution_count": 4,
   "outputs": []
  },
  {
   "cell_type": "code",
   "metadata": {
    "id": "EDrn_hnVRdFq",
    "executionInfo": {
     "status": "ok",
     "timestamp": 1633682012067,
     "user_tz": -60,
     "elapsed": 344,
     "user": {
      "displayName": "Amit Yadav",
      "photoUrl": "https://lh3.googleusercontent.com/a-/AOh14GhPlsR49pVenE006oG1QDmA4uQZFm5zND0AfTfoPA=s64",
      "userId": "06019965579715007028"
     }
    }
   },
   "source": [
    "conf.dataset_dir = \"/content/drive/MyDrive/the_sound_of_ai/dataset/nsynth_guitar_splits\"\n",
    "conf.checkpoints_dir = \"/content/drive/MyDrive/the_sound_of_ai/dataset/checkpoints\"\n",
    "\n",
    "# Architecture\n",
    "conf.use_encoder = False\n",
    "conf.simple_encoder = True\n",
    "conf.using_categorical = False\n",
    "conf.latent_dim = 2\n",
    "conf.use_embeddings = False\n",
    "conf.lc_dropout_rate = 0.0\n",
    "\n",
    "conf.use_note_number = True\n",
    "conf.use_velocity = True\n",
    "conf.use_instrument_id = True\n",
    "conf.use_heuristics = False\n",
    "conf.use_one_hot_conditioning = False\n",
    "conf.create_decoder_function = 'lc'\n",
    "\n",
    "conf.print_model_summary = False\n",
    "\n",
    "# Outputs\n",
    "conf.data_handler.update_losses_weights(\n",
    "    audio=1.0,\n",
    "    h_freq=0.0,\n",
    "    f0_shifts=0.0,\n",
    "    h_freq_shifts=0.0,\n",
    "    h_mag=1.0,\n",
    "    mag_env=0.0,\n",
    "    h_mag_dist=0.0,\n",
    "    measures=0.0)\n",
    "\n",
    "conf.data_handler.compact_measures_logs = False\n",
    "conf.data_handler.freq_scale_fn = 'tanh'  # 'none', 'tanh'\n",
    "conf.data_handler.mag_scale_fn = 'exp_sigmoid'  # 'none', 'exp_sigmoid'\n",
    "conf.data_handler.phase_scale_fn = 'tanh'  # 'none', 'tanh'\n",
    "conf.data_handler.measures_mapping_type = 'linear'\n",
    "\n",
    "# conf.pretrained_model_path = \"/content/drive/MyDrive/the_sound_of_ai/checkpoints/lc_2/lc_2_59_0.00644.ckpt\"\n",
    "\n",
    "# Training\n",
    "conf.batch_size = 32\n",
    "conf.learning_rate = 3e-04\n",
    "conf.lr_factor = 0.5\n",
    "conf.lr_plateau = 7\n",
    "conf.model_name = \"aud_mag\"\n",
    "\n",
    "conf.batch_size = 1"
   ],
   "execution_count": 5,
   "outputs": []
  },
  {
   "cell_type": "code",
   "metadata": {
    "id": "hcXW1bM7RruZ",
    "executionInfo": {
     "status": "ok",
     "timestamp": 1633682023316,
     "user_tz": -60,
     "elapsed": 5442,
     "user": {
      "displayName": "Amit Yadav",
      "photoUrl": "https://lh3.googleusercontent.com/a-/AOh14GhPlsR49pVenE006oG1QDmA4uQZFm5zND0AfTfoPA=s64",
      "userId": "06019965579715007028"
     }
    }
   },
   "source": [
    "model = ModelWrapper(TCAEModel(conf), conf.data_handler.loss)\n",
    "\n",
    "_, valid_dataset, _ = get_dataset(conf)"
   ],
   "execution_count": 6,
   "outputs": []
  },
  {
   "cell_type": "code",
   "metadata": {
    "id": "wJSKSIFp8hS1",
    "executionInfo": {
     "status": "ok",
     "timestamp": 1633682030658,
     "user_tz": -60,
     "elapsed": 5440,
     "user": {
      "displayName": "Amit Yadav",
      "photoUrl": "https://lh3.googleusercontent.com/a-/AOh14GhPlsR49pVenE006oG1QDmA4uQZFm5zND0AfTfoPA=s64",
      "userId": "06019965579715007028"
     }
    }
   },
   "source": [
    "x, y = next(iter(valid_dataset))\n",
    "p = model(x)"
   ],
   "execution_count": 7,
   "outputs": []
  },
  {
   "cell_type": "code",
   "metadata": {
    "id": "_xNCuGm_KJKH",
    "colab": {
     "base_uri": "https://localhost:8080/"
    },
    "executionInfo": {
     "status": "ok",
     "timestamp": 1633682035837,
     "user_tz": -60,
     "elapsed": 917,
     "user": {
      "displayName": "Amit Yadav",
      "photoUrl": "https://lh3.googleusercontent.com/a-/AOh14GhPlsR49pVenE006oG1QDmA4uQZFm5zND0AfTfoPA=s64",
      "userId": "06019965579715007028"
     }
    },
    "outputId": "6a1a3607-c805-4b88-a902-2f3249e1b96c"
   },
   "source": [
    "model.compile(optimizer=tf.keras.optimizers.Adam(learning_rate=conf.learning_rate))\n",
    "model.load_weights(\"/content/drive/MyDrive/the_sound_of_ai/dataset/checkpoints/aud_mag_278_0.00911.ckpt\")"
   ],
   "execution_count": 8,
   "outputs": [
    {
     "output_type": "execute_result",
     "data": {
      "text/plain": [
       "<tensorflow.python.training.tracking.util.CheckpointLoadStatus at 0x7f307d7640d0>"
      ]
     },
     "metadata": {},
     "execution_count": 8
    }
   ]
  },
  {
   "cell_type": "code",
   "metadata": {
    "id": "bXapIWgZNlUL",
    "colab": {
     "base_uri": "https://localhost:8080/"
    },
    "executionInfo": {
     "status": "ok",
     "timestamp": 1633642490183,
     "user_tz": -60,
     "elapsed": 209,
     "user": {
      "displayName": "Amit Yadav",
      "photoUrl": "https://lh3.googleusercontent.com/a-/AOh14GhPlsR49pVenE006oG1QDmA4uQZFm5zND0AfTfoPA=s64",
      "userId": "06019965579715007028"
     }
    },
    "outputId": "eb97356a-ac5e-4b0f-caef-efceca7351f5"
   },
   "source": [
    "loss_keys = [\"loss\"] + [x + \"_loss\" for x in list(conf.data_handler.losses_weights.keys()) if conf.data_handler.losses_weights[x] > 0]\n",
    "loss_keys += [x + \"_loss\" for x in conf.data_handler.measures_losses_weights.keys()]\n",
    "\n",
    "loss_keys"
   ],
   "execution_count": null,
   "outputs": [
    {
     "output_type": "execute_result",
     "data": {
      "text/plain": [
       "['loss',\n",
       " 'audio_loss',\n",
       " 'h_mag_loss',\n",
       " 'inharmonic_loss',\n",
       " 'even_odd_loss',\n",
       " 'sparse_rich_loss',\n",
       " 'attack_rms_loss',\n",
       " 'decay_rms_loss',\n",
       " 'attack_time_loss',\n",
       " 'decay_time_loss',\n",
       " 'bass_loss',\n",
       " 'mid_loss',\n",
       " 'high_mid_loss',\n",
       " 'high_loss']"
      ]
     },
     "metadata": {},
     "execution_count": 8
    }
   ]
  },
  {
   "cell_type": "code",
   "metadata": {
    "id": "Tfx-ygH2CfDd",
    "executionInfo": {
     "status": "ok",
     "timestamp": 1633682072890,
     "user_tz": -60,
     "elapsed": 405,
     "user": {
      "displayName": "Amit Yadav",
      "photoUrl": "https://lh3.googleusercontent.com/a-/AOh14GhPlsR49pVenE006oG1QDmA4uQZFm5zND0AfTfoPA=s64",
      "userId": "06019965579715007028"
     }
    }
   },
   "source": [
    "loss_keys = ['loss',\n",
    "    'audio_loss',\n",
    "    'h_mag_loss']"
   ],
   "execution_count": 9,
   "outputs": []
  },
  {
   "cell_type": "code",
   "metadata": {
    "id": "dxV63yDySL3h",
    "colab": {
     "base_uri": "https://localhost:8080/"
    },
    "executionInfo": {
     "status": "ok",
     "timestamp": 1633683659649,
     "user_tz": -60,
     "elapsed": 1573317,
     "user": {
      "displayName": "Amit Yadav",
      "photoUrl": "https://lh3.googleusercontent.com/a-/AOh14GhPlsR49pVenE006oG1QDmA4uQZFm5zND0AfTfoPA=s64",
      "userId": "06019965579715007028"
     }
    },
    "outputId": "74b6a1c5-546f-43f6-ff78-80cef065160f"
   },
   "source": [
    "target_dir = \"/content/drive/MyDrive/the_sound_of_ai/dataset/eval\"\n",
    "\n",
    "results = dict((k, []) for k in loss_keys)\n",
    "results[\"name\"] = []\n",
    "\n",
    "class EvalCallback(tf.keras.callbacks.Callback):\n",
    "    def on_test_batch_end(self, batch, logs=None):\n",
    "        for key in loss_keys:\n",
    "            results[key].append(logs.get(key))\n",
    "\n",
    "for x, y in tqdm(iter(valid_dataset)):\n",
    "    losses = model.evaluate(x, y, verbose=False, callbacks=[EvalCallback()])\n",
    "    name = x[\"name\"][0]\n",
    "    name = name.numpy()[0].decode()\n",
    "    results[\"name\"].append(name)\n",
    "    \n",
    "    note_number = x[\"note_number\"] * conf.num_pitches + conf.starting_midi_pitch\n",
    "    \n",
    "    preds = model.predict(x)\n",
    "    transformed = conf.data_handler.output_transform({}, preds)\n",
    "    transformed[\"mask\"] = x[\"mask\"]\n",
    "    transformed[\"note_number\"] = note_number\n",
    "\n",
    "    h_freq, h_mag, h_phase = conf.data_handler.denormalize(transformed)\n",
    "    audio = tsms.core.harmonic_synthesis(h_freq, h_mag, h_phase, conf.sample_rate, conf.frame_size)\n",
    "    audio = audio[0]\n",
    "    audio = np.array(audio) / np.max(np.abs(audio))\n",
    "\n",
    "    target_path = os.path.join(target_dir, f\"{name}.wav\")\n",
    "    sf.write(target_path, audio, samplerate=conf.sample_rate)"
   ],
   "execution_count": 10,
   "outputs": [
    {
     "output_type": "stream",
     "name": "stderr",
     "text": [
      "1508it [26:12,  1.04s/it]\n"
     ]
    }
   ]
  },
  {
   "cell_type": "code",
   "metadata": {
    "id": "GDz2MgbRW_Al",
    "colab": {
     "base_uri": "https://localhost:8080/",
     "height": 206
    },
    "executionInfo": {
     "status": "ok",
     "timestamp": 1633683672723,
     "user_tz": -60,
     "elapsed": 268,
     "user": {
      "displayName": "Amit Yadav",
      "photoUrl": "https://lh3.googleusercontent.com/a-/AOh14GhPlsR49pVenE006oG1QDmA4uQZFm5zND0AfTfoPA=s64",
      "userId": "06019965579715007028"
     }
    },
    "outputId": "36436809-0103-46c0-dc68-09cd7a2ca88d"
   },
   "source": [
    "df = pd.DataFrame(results)\n",
    "df.head()"
   ],
   "execution_count": 11,
   "outputs": [
    {
     "output_type": "execute_result",
     "data": {
      "text/html": [
       "<div>\n",
       "<style scoped>\n",
       "    .dataframe tbody tr th:only-of-type {\n",
       "        vertical-align: middle;\n",
       "    }\n",
       "\n",
       "    .dataframe tbody tr th {\n",
       "        vertical-align: top;\n",
       "    }\n",
       "\n",
       "    .dataframe thead th {\n",
       "        text-align: right;\n",
       "    }\n",
       "</style>\n",
       "<table border=\"1\" class=\"dataframe\">\n",
       "  <thead>\n",
       "    <tr style=\"text-align: right;\">\n",
       "      <th></th>\n",
       "      <th>loss</th>\n",
       "      <th>audio_loss</th>\n",
       "      <th>h_mag_loss</th>\n",
       "      <th>name</th>\n",
       "    </tr>\n",
       "  </thead>\n",
       "  <tbody>\n",
       "    <tr>\n",
       "      <th>0</th>\n",
       "      <td>0.008995</td>\n",
       "      <td>0.004387</td>\n",
       "      <td>0.004608</td>\n",
       "      <td>guitar_synthetic_012-046-127</td>\n",
       "    </tr>\n",
       "    <tr>\n",
       "      <th>1</th>\n",
       "      <td>0.017445</td>\n",
       "      <td>0.012292</td>\n",
       "      <td>0.005153</td>\n",
       "      <td>guitar_electronic_039-052-025</td>\n",
       "    </tr>\n",
       "    <tr>\n",
       "      <th>2</th>\n",
       "      <td>0.003839</td>\n",
       "      <td>0.000162</td>\n",
       "      <td>0.003677</td>\n",
       "      <td>guitar_synthetic_001-077-100</td>\n",
       "    </tr>\n",
       "    <tr>\n",
       "      <th>3</th>\n",
       "      <td>0.008353</td>\n",
       "      <td>0.001363</td>\n",
       "      <td>0.006991</td>\n",
       "      <td>guitar_acoustic_007-056-050</td>\n",
       "    </tr>\n",
       "    <tr>\n",
       "      <th>4</th>\n",
       "      <td>0.005851</td>\n",
       "      <td>0.001957</td>\n",
       "      <td>0.003893</td>\n",
       "      <td>guitar_acoustic_033-047-025</td>\n",
       "    </tr>\n",
       "  </tbody>\n",
       "</table>\n",
       "</div>"
      ],
      "text/plain": [
       "       loss  audio_loss  h_mag_loss                           name\n",
       "0  0.008995    0.004387    0.004608   guitar_synthetic_012-046-127\n",
       "1  0.017445    0.012292    0.005153  guitar_electronic_039-052-025\n",
       "2  0.003839    0.000162    0.003677   guitar_synthetic_001-077-100\n",
       "3  0.008353    0.001363    0.006991    guitar_acoustic_007-056-050\n",
       "4  0.005851    0.001957    0.003893    guitar_acoustic_033-047-025"
      ]
     },
     "metadata": {},
     "execution_count": 11
    }
   ]
  },
  {
   "cell_type": "code",
   "metadata": {
    "id": "7upSofaKrs31",
    "executionInfo": {
     "status": "ok",
     "timestamp": 1633683677844,
     "user_tz": -60,
     "elapsed": 264,
     "user": {
      "displayName": "Amit Yadav",
      "photoUrl": "https://lh3.googleusercontent.com/a-/AOh14GhPlsR49pVenE006oG1QDmA4uQZFm5zND0AfTfoPA=s64",
      "userId": "06019965579715007028"
     }
    }
   },
   "source": [
    "df.to_csv(\"valid_losses.csv\")"
   ],
   "execution_count": 12,
   "outputs": []
  },
  {
   "cell_type": "markdown",
   "metadata": {
    "id": "m4FoDxSduP_a"
   },
   "source": [
    "Export synthesised audio for ground truth"
   ]
  },
  {
   "cell_type": "code",
   "metadata": {
    "id": "tIetw3Zrrts1",
    "colab": {
     "base_uri": "https://localhost:8080/"
    },
    "executionInfo": {
     "status": "ok",
     "timestamp": 1633684933755,
     "user_tz": -60,
     "elapsed": 1162607,
     "user": {
      "displayName": "Amit Yadav",
      "photoUrl": "https://lh3.googleusercontent.com/a-/AOh14GhPlsR49pVenE006oG1QDmA4uQZFm5zND0AfTfoPA=s64",
      "userId": "06019965579715007028"
     }
    },
    "outputId": "039c67b5-f9f8-4d93-9965-2d52692574e7"
   },
   "source": [
    "for x, y in tqdm(iter(valid_dataset)):\n",
    "    name = x[\"name\"][0]\n",
    "    name = name.numpy()[0].decode()\n",
    "\n",
    "    note_number = x[\"note_number\"] * conf.num_pitches + conf.starting_midi_pitch\n",
    "    x[\"note_number\"] = note_number\n",
    "\n",
    "    h_freq, h_mag, h_phase = conf.data_handler.denormalize(x)\n",
    "    audio = tsms.core.harmonic_synthesis(h_freq, h_mag, h_phase, conf.sample_rate, conf.frame_size)\n",
    "    audio = audio[0]\n",
    "    audio = np.array(audio) / np.max(np.abs(audio))\n",
    "\n",
    "    target_path = os.path.join(target_dir, f\"{name}_true.wav\")\n",
    "    sf.write(target_path, audio, samplerate=conf.sample_rate)"
   ],
   "execution_count": 13,
   "outputs": [
    {
     "output_type": "stream",
     "name": "stderr",
     "text": [
      "1508it [19:00,  1.32it/s]\n"
     ]
    }
   ]
  },
  {
   "cell_type": "code",
   "metadata": {
    "id": "QEPuK_-rhc4U"
   },
   "source": [
    ""
   ],
   "execution_count": null,
   "outputs": []
  }
 ]
}
{
 "cells": [
  {
   "cell_type": "code",
   "execution_count": null,
   "id": "60ed5924",
   "metadata": {},
   "outputs": [],
   "source": [
    "from sound_generator import SoundGenerator\n",
    "from IPython.display import Audio"
   ]
  },
  {
   "cell_type": "markdown",
   "id": "41c9ffa2",
   "metadata": {
    "pycharm": {
     "name": "#%% md\n"
    }
   },
   "source": [
    "Start by creating an instance of SoundGenerator"
   ]
  },
  {
   "cell_type": "code",
   "execution_count": null,
   "id": "9b0a3f05",
   "metadata": {
    "pycharm": {
     "name": "#%%\n"
    }
   },
   "outputs": [],
   "source": [
    "sg = SoundGenerator()"
   ]
  },
  {
   "cell_type": "markdown",
   "id": "beaec638",
   "metadata": {
    "pycharm": {
     "name": "#%% md\n"
    }
   },
   "source": [
    "In the initial call, you might want to use qualities to find a suitable preset\n",
    "\n",
    "If this is the case, set `load_preset` flag to `True`"
   ]
  },
  {
   "cell_type": "code",
   "execution_count": null,
   "id": "a9c1c33e",
   "metadata": {
    "pycharm": {
     "name": "#%%\n"
    }
   },
   "outputs": [],
   "source": [
    "result = sg.get_prediction({\n",
    "    \"pitch\": 60,\n",
    "    \"velocity\": 75,\n",
    "    \"qualities\": [\"hard\", \"dark\", \"hollow\"],\n",
    "    \"load_preset\": True\n",
    "})\n",
    "\n",
    "success = result[\"success\"]\n",
    "audio = result[\"audio\"]\n",
    "\n",
    "assert success"
   ]
  },
  {
   "cell_type": "markdown",
   "id": "ca134eca",
   "metadata": {
    "pycharm": {
     "name": "#%% md\n"
    }
   },
   "source": [
    "An initial audio sample is returned"
   ]
  },
  {
   "cell_type": "code",
   "execution_count": null,
   "id": "11ea301e",
   "metadata": {},
   "outputs": [],
   "source": [
    "Audio(audio, rate=16000)"
   ]
  },
  {
   "cell_type": "markdown",
   "id": "4404cd38",
   "metadata": {
    "pycharm": {
     "name": "#%% md\n"
    }
   },
   "source": [
    "Along with the audio, slider values for the measures as well as initial Z values are also returned\n",
    "\n",
    "These values are all between 0 and 1"
   ]
  },
  {
   "cell_type": "code",
   "execution_count": null,
   "id": "2bd8970b",
   "metadata": {
    "pycharm": {
     "name": "#%%\n"
    }
   },
   "outputs": [],
   "source": [
    "sliders = result[\"measures_sliders\"]\n",
    "z = result[\"z\"]\n",
    "\n",
    "print(sliders)\n",
    "print(z)"
   ]
  },
  {
   "cell_type": "markdown",
   "id": "755c8638",
   "metadata": {
    "pycharm": {
     "name": "#%% md\n"
    }
   },
   "source": [
    "The measures sliders will correspond to the following tuple"
   ]
  },
  {
   "cell_type": "code",
   "execution_count": null,
   "id": "5363c91c",
   "metadata": {
    "pycharm": {
     "name": "#%%\n"
    }
   },
   "outputs": [],
   "source": [
    "sg.measures_names"
   ]
  },
  {
   "cell_type": "markdown",
   "id": "0301d3f8",
   "metadata": {
    "pycharm": {
     "name": "#%% md\n"
    }
   },
   "source": [
    "Let's say you decide to reduce the inharmonic measure. You can use the previous slider value with the new value for inharmonic measure"
   ]
  },
  {
   "cell_type": "code",
   "execution_count": null,
   "id": "71ab07cb",
   "metadata": {
    "pycharm": {
     "name": "#%%\n"
    }
   },
   "outputs": [],
   "source": [
    "new_sliders = [0.1] + sliders[1: ]\n",
    "new_sliders"
   ]
  },
  {
   "cell_type": "markdown",
   "id": "0815df44",
   "metadata": {
    "pycharm": {
     "name": "#%% md\n"
    }
   },
   "source": [
    "Now you can get the updated sample with new slider value. This time, we don't want to load a preset"
   ]
  },
  {
   "cell_type": "code",
   "execution_count": null,
   "id": "c8ac9310",
   "metadata": {
    "pycharm": {
     "name": "#%%\n"
    }
   },
   "outputs": [],
   "source": [
    "result = sg.get_prediction({\n",
    "    \"pitch\": 60,\n",
    "    \"velocity\": 75,\n",
    "    \"load_preset\": False,\n",
    "    \"heuristic_measures\": new_sliders,\n",
    "    \"latent_sample\": z\n",
    "})\n",
    "\n",
    "success = result[\"success\"]\n",
    "audio = result[\"audio\"]\n",
    "\n",
    "assert success"
   ]
  },
  {
   "cell_type": "code",
   "execution_count": null,
   "id": "8274346b",
   "metadata": {
    "pycharm": {
     "name": "#%%\n"
    }
   },
   "outputs": [],
   "source": [
    "Audio(audio, rate=16000)"
   ]
  },
  {
   "cell_type": "code",
   "execution_count": null,
   "id": "91a44a1c",
   "metadata": {
    "pycharm": {
     "name": "#%%\n"
    }
   },
   "outputs": [],
   "source": []
  }
 ],
 "metadata": {
  "kernelspec": {
   "display_name": "Python 3 (ipykernel)",
   "language": "python",
   "name": "python3"
  },
  "language_info": {
   "codemirror_mode": {
    "name": "ipython",
    "version": 3
   },
   "file_extension": ".py",
   "mimetype": "text/x-python",
   "name": "python",
   "nbconvert_exporter": "python",
   "pygments_lexer": "ipython3",
   "version": "3.8.10"
  }
 },
 "nbformat": 4,
 "nbformat_minor": 5
}

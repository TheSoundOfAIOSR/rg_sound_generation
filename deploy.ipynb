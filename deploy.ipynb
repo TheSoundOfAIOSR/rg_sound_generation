{
 "cells": [
  {
   "cell_type": "code",
   "execution_count": null,
   "id": "60ed5924",
   "metadata": {},
   "outputs": [],
   "source": [
    "from sound_generator import SoundGenerator\n",
    "from IPython.display import Audio"
   ]
  },
  {
   "cell_type": "code",
   "execution_count": null,
   "id": "41c9ffa2",
   "metadata": {},
   "outputs": [],
   "source": [
    "sg = SoundGenerator()\n",
    "sg.info()"
   ]
  },
  {
   "cell_type": "code",
   "execution_count": null,
   "id": "beaec638",
   "metadata": {},
   "outputs": [],
   "source": [
    "success, audio = sg.get_prediction({\n",
    "    \"input_pitch\": 40,\n",
    "    \"pitch\": 40,\n",
    "    \"velocity\": 100,\n",
    "    \"heuristic_measures\": [0.1] * sg.conf.num_measures,\n",
    "    \"latent_sample\": [0.5] * sg.conf.latent_dim\n",
    "})"
   ]
  },
  {
   "cell_type": "code",
   "execution_count": null,
   "id": "11ea301e",
   "metadata": {},
   "outputs": [],
   "source": [
    "Audio(audio, rate=16000)"
   ]
  },
  {
   "cell_type": "code",
   "execution_count": null,
   "outputs": [],
   "source": [],
   "metadata": {
    "collapsed": false,
    "pycharm": {
     "name": "#%%\n"
    }
   }
  }
 ],
 "metadata": {
  "kernelspec": {
   "display_name": "Python 3",
   "language": "python",
   "name": "python3"
  },
  "language_info": {
   "codemirror_mode": {
    "name": "ipython",
    "version": 3
   },
   "file_extension": ".py",
   "mimetype": "text/x-python",
   "name": "python",
   "nbconvert_exporter": "python",
   "pygments_lexer": "ipython3",
   "version": "3.8.5"
  }
 },
 "nbformat": 4,
 "nbformat_minor": 5
}
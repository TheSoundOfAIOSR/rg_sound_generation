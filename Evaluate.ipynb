{
 "nbformat": 4,
 "nbformat_minor": 0,
 "metadata": {
  "colab": {
   "name": "Evaluate.ipynb",
   "provenance": [],
   "collapsed_sections": []
  },
  "kernelspec": {
   "name": "python3",
   "display_name": "Python 3"
  },
  "language_info": {
   "name": "python"
  }
 },
 "cells": [
  {
   "cell_type": "code",
   "metadata": {
    "colab": {
     "base_uri": "https://localhost:8080/"
    },
    "id": "J0MXBk4JQz_N",
    "outputId": "62973a40-79df-4188-deab-92114c24328d"
   },
   "source": [
    "!git clone https://github.com/TheSoundOfAIOSR/rg_sound_generation.git\n",
    "%cd rg_sound_generation"
   ],
   "execution_count": 1,
   "outputs": [
    {
     "output_type": "stream",
     "text": [
      "fatal: destination path 'rg_sound_generation' already exists and is not an empty directory.\n",
      "/content/rg_sound_generation\n"
     ],
     "name": "stdout"
    }
   ]
  },
  {
   "cell_type": "code",
   "metadata": {
    "id": "dGbX34VcRAMW"
   },
   "source": [
    "!pip install -q -r requirements_colab.txt"
   ],
   "execution_count": 2,
   "outputs": []
  },
  {
   "cell_type": "code",
   "metadata": {
    "colab": {
     "base_uri": "https://localhost:8080/"
    },
    "id": "zmoGJkijRJwL",
    "outputId": "9afffb44-a72b-406b-db11-6d8374d59739"
   },
   "source": [
    "from google.colab import drive\n",
    "drive.mount('/content/drive', force_remount=False)"
   ],
   "execution_count": 3,
   "outputs": [
    {
     "output_type": "stream",
     "text": [
      "Drive already mounted at /content/drive; to attempt to forcibly remount, call drive.mount(\"/content/drive\", force_remount=True).\n"
     ],
     "name": "stdout"
    }
   ]
  },
  {
   "cell_type": "code",
   "metadata": {
    "id": "SnAPH0sHROn5"
   },
   "source": [
    "import os\n",
    "import tensorflow as tf\n",
    "import numpy as np\n",
    "import pandas as pd\n",
    "import soundfile as sf\n",
    "import tsms\n",
    "from tqdm import tqdm\n",
    "from tcae.model import MtVae\n",
    "from tcae.localconfig import LocalConfig\n",
    "from tcae.dataset import get_dataset\n",
    "from tcae.train import get_zero_batch, validation_step\n",
    "\n",
    "\n",
    "conf = LocalConfig()\n",
    "\n",
    "target_dir = \"/content/drive/MyDrive/the_sound_of_ai/new_data/sounds\""
   ],
   "execution_count": 4,
   "outputs": []
  },
  {
   "cell_type": "code",
   "metadata": {
    "id": "EDrn_hnVRdFq"
   },
   "source": [
    "conf.load_config_from_file(\"deployed/conf.json\")\n",
    "conf.dataset_dir = \"/content/drive/MyDrive/the_sound_of_ai/new_data\"\n",
    "conf.batch_size = 1"
   ],
   "execution_count": 5,
   "outputs": []
  },
  {
   "cell_type": "code",
   "metadata": {
    "colab": {
     "base_uri": "https://localhost:8080/"
    },
    "id": "hcXW1bM7RruZ",
    "outputId": "f302b942-64a6-4d48-c231-8e9b3e4e6648"
   },
   "source": [
    "model = MtVae(conf)\n",
    "_ = model(get_zero_batch(conf))\n",
    "model.load_weights(\"deployed/model.h5\")\n",
    "\n",
    "_, _, test_dataset = get_dataset(conf)"
   ],
   "execution_count": 6,
   "outputs": [
    {
     "output_type": "stream",
     "text": [
      "WARNING:tensorflow:From /usr/local/lib/python3.7/dist-packages/tensorflow/python/ops/array_ops.py:5049: calling gather (from tensorflow.python.ops.array_ops) with validate_indices is deprecated and will be removed in a future version.\n",
      "Instructions for updating:\n",
      "The `validate_indices` argument has no effect. Indices are always validated on CPU and never validated on GPU.\n"
     ],
     "name": "stdout"
    }
   ]
  },
  {
   "cell_type": "code",
   "metadata": {
    "colab": {
     "base_uri": "https://localhost:8080/"
    },
    "id": "dxV63yDySL3h",
    "outputId": "7b4efe7f-44a9-4e01-e31d-4135ffb2583b"
   },
   "source": [
    "loss_keys = [\"loss\", \"f0_loss\", \"h_freq_shifts_loss\", \"mag_env_loss\", \n",
    "             \"h_mag_dist_loss\", \"h_mag_loss\", \"no_mask_h_mag_loss\", \"h_phase_diff_loss\"]\n",
    "\n",
    "\n",
    "results = dict((k, []) for k in loss_keys)\n",
    "results[\"name\"] = []\n",
    "\n",
    "\n",
    "for batch in tqdm(iter(test_dataset)):\n",
    "    losses = validation_step(model, batch)\n",
    "    name = batch[\"name\"][0]\n",
    "    name = name.numpy()[0].decode()\n",
    "\n",
    "    for k in loss_keys:\n",
    "        results[k].append(losses[k].numpy())\n",
    "    results[\"name\"].append(name)\n",
    "    \n",
    "    note_number = batch[\"note_number\"]\n",
    "    note_number = tf.argmax(note_number, axis=-1) + conf.starting_midi_pitch\n",
    "    note_number = note_number[:, tf.newaxis, tf.newaxis]\n",
    "    \n",
    "    preds = model.predict(batch)\n",
    "    transformed = conf.data_handler.prediction_transform(preds)\n",
    "\n",
    "    h_freq, h_mag, h_phase = conf.data_handler.denormalize(transformed, batch[\"mask\"], note_number)\n",
    "    audio = tsms.core.harmonic_synthesis(h_freq, h_mag, h_phase, conf.sample_rate, conf.frame_size)\n",
    "    audio = audio[0]\n",
    "    audio = np.array(audio) / np.max(np.abs(audio))\n",
    "\n",
    "    target_path = os.path.join(target_dir, f\"{name}.wav\")\n",
    "    sf.write(target_path, audio, samplerate=conf.sample_rate)"
   ],
   "execution_count": 7,
   "outputs": [
    {
     "output_type": "stream",
     "text": [
      "1588it [1:15:24,  2.85s/it]\n"
     ],
     "name": "stderr"
    }
   ]
  },
  {
   "cell_type": "code",
   "metadata": {
    "id": "GDz2MgbRW_Al",
    "colab": {
     "base_uri": "https://localhost:8080/",
     "height": 206
    },
    "outputId": "5cea1f2d-b22d-4ee5-f491-08ef3d27d3c2"
   },
   "source": [
    "df = pd.DataFrame(results)\n",
    "df.head()"
   ],
   "execution_count": 8,
   "outputs": [
    {
     "output_type": "execute_result",
     "data": {
      "text/html": [
       "<div>\n",
       "<style scoped>\n",
       "    .dataframe tbody tr th:only-of-type {\n",
       "        vertical-align: middle;\n",
       "    }\n",
       "\n",
       "    .dataframe tbody tr th {\n",
       "        vertical-align: top;\n",
       "    }\n",
       "\n",
       "    .dataframe thead th {\n",
       "        text-align: right;\n",
       "    }\n",
       "</style>\n",
       "<table border=\"1\" class=\"dataframe\">\n",
       "  <thead>\n",
       "    <tr style=\"text-align: right;\">\n",
       "      <th></th>\n",
       "      <th>loss</th>\n",
       "      <th>f0_loss</th>\n",
       "      <th>h_freq_shifts_loss</th>\n",
       "      <th>mag_env_loss</th>\n",
       "      <th>h_mag_dist_loss</th>\n",
       "      <th>h_mag_loss</th>\n",
       "      <th>no_mask_h_mag_loss</th>\n",
       "      <th>h_phase_diff_loss</th>\n",
       "      <th>name</th>\n",
       "    </tr>\n",
       "  </thead>\n",
       "  <tbody>\n",
       "    <tr>\n",
       "      <th>0</th>\n",
       "      <td>0.009196</td>\n",
       "      <td>0.000508</td>\n",
       "      <td>0.000211</td>\n",
       "      <td>0.000327</td>\n",
       "      <td>0.002806</td>\n",
       "      <td>0.005344</td>\n",
       "      <td>0.041198</td>\n",
       "      <td>0.0</td>\n",
       "      <td>guitar_electronic_046-072-127</td>\n",
       "    </tr>\n",
       "    <tr>\n",
       "      <th>1</th>\n",
       "      <td>0.013720</td>\n",
       "      <td>0.000239</td>\n",
       "      <td>0.003843</td>\n",
       "      <td>0.000958</td>\n",
       "      <td>0.004710</td>\n",
       "      <td>0.003970</td>\n",
       "      <td>0.020782</td>\n",
       "      <td>0.0</td>\n",
       "      <td>guitar_electronic_021-088-100</td>\n",
       "    </tr>\n",
       "    <tr>\n",
       "      <th>2</th>\n",
       "      <td>0.006630</td>\n",
       "      <td>0.000009</td>\n",
       "      <td>0.000031</td>\n",
       "      <td>0.000240</td>\n",
       "      <td>0.000631</td>\n",
       "      <td>0.005719</td>\n",
       "      <td>0.055289</td>\n",
       "      <td>0.0</td>\n",
       "      <td>guitar_electronic_013-058-127</td>\n",
       "    </tr>\n",
       "    <tr>\n",
       "      <th>3</th>\n",
       "      <td>0.004384</td>\n",
       "      <td>0.000133</td>\n",
       "      <td>0.001927</td>\n",
       "      <td>0.000409</td>\n",
       "      <td>0.000581</td>\n",
       "      <td>0.001334</td>\n",
       "      <td>0.020037</td>\n",
       "      <td>0.0</td>\n",
       "      <td>guitar_acoustic_003-056-075</td>\n",
       "    </tr>\n",
       "    <tr>\n",
       "      <th>4</th>\n",
       "      <td>0.006099</td>\n",
       "      <td>0.000501</td>\n",
       "      <td>0.001530</td>\n",
       "      <td>0.000525</td>\n",
       "      <td>0.000632</td>\n",
       "      <td>0.002911</td>\n",
       "      <td>0.028897</td>\n",
       "      <td>0.0</td>\n",
       "      <td>guitar_acoustic_003-087-075</td>\n",
       "    </tr>\n",
       "  </tbody>\n",
       "</table>\n",
       "</div>"
      ],
      "text/plain": [
       "       loss   f0_loss  ...  h_phase_diff_loss                           name\n",
       "0  0.009196  0.000508  ...                0.0  guitar_electronic_046-072-127\n",
       "1  0.013720  0.000239  ...                0.0  guitar_electronic_021-088-100\n",
       "2  0.006630  0.000009  ...                0.0  guitar_electronic_013-058-127\n",
       "3  0.004384  0.000133  ...                0.0    guitar_acoustic_003-056-075\n",
       "4  0.006099  0.000501  ...                0.0    guitar_acoustic_003-087-075\n",
       "\n",
       "[5 rows x 9 columns]"
      ]
     },
     "metadata": {
      "tags": []
     },
     "execution_count": 8
    }
   ]
  },
  {
   "cell_type": "code",
   "metadata": {
    "id": "7upSofaKrs31"
   },
   "source": [
    "df.to_csv(\"test_results.csv\")\n",
    "\n",
    "!mv test_results.csv $conf.checkpoints_dir"
   ],
   "execution_count": 10,
   "outputs": []
  },
  {
   "cell_type": "markdown",
   "metadata": {
    "id": "m4FoDxSduP_a"
   },
   "source": [
    "Export synthesised audio for ground truth"
   ]
  },
  {
   "cell_type": "code",
   "metadata": {
    "colab": {
     "base_uri": "https://localhost:8080/"
    },
    "id": "tIetw3Zrrts1",
    "outputId": "12959a5c-ed8e-4906-8faf-cadadcd58897"
   },
   "source": [
    "for batch in tqdm(iter(test_dataset)):\n",
    "    name = batch[\"name\"][0]\n",
    "    name = name.numpy()[0].decode()\n",
    "\n",
    "    note_number = batch[\"note_number\"]\n",
    "    note_number = tf.argmax(note_number, axis=-1) + conf.starting_midi_pitch\n",
    "    note_number = note_number[:, tf.newaxis, tf.newaxis]\n",
    "\n",
    "    h_freq, h_mag, h_phase = conf.data_handler.denormalize(batch, batch[\"mask\"], note_number)\n",
    "    audio = tsms.core.harmonic_synthesis(h_freq, h_mag, h_phase, conf.sample_rate, conf.frame_size)\n",
    "    audio = audio[0]\n",
    "    audio = np.array(audio) / np.max(np.abs(audio))\n",
    "\n",
    "    target_path = os.path.join(target_dir, f\"{name}_true.wav\")\n",
    "    sf.write(target_path, audio, samplerate=conf.sample_rate)"
   ],
   "execution_count": 12,
   "outputs": [
    {
     "output_type": "stream",
     "text": [
      "1588it [03:18,  8.01it/s]\n"
     ],
     "name": "stderr"
    }
   ]
  }
 ]
}
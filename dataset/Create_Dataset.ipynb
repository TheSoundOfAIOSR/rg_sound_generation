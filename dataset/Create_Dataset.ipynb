{
  "nbformat": 4,
  "nbformat_minor": 0,
  "metadata": {
    "colab": {
      "name": "Create Dataset.ipynb",
      "provenance": [],
      "collapsed_sections": []
    },
    "kernelspec": {
      "name": "python3",
      "display_name": "Python 3"
    },
    "language_info": {
      "name": "python"
    }
  },
  "cells": [
    {
      "cell_type": "code",
      "metadata": {
        "id": "qbv9ccCX7Spj"
      },
      "source": [
        "!git clone -b dataset https://github.com/TheSoundOfAIOSR/rg_sound_generation.git"
      ],
      "execution_count": null,
      "outputs": []
    },
    {
      "cell_type": "code",
      "metadata": {
        "id": "zIWWRCLDezIZ"
      },
      "source": [
        "%cd rg_sound_generation/\n",
        "!pip install -q -r requirements.txt"
      ],
      "execution_count": null,
      "outputs": []
    },
    {
      "cell_type": "markdown",
      "metadata": {
        "id": "4KsQY4XHg4eW"
      },
      "source": [
        "Using latest from tsms\n",
        "\n",
        "pydub is not in requirements.txt because it's not needed elsewhere"
      ]
    },
    {
      "cell_type": "code",
      "metadata": {
        "id": "b-ettxece_r2"
      },
      "source": [
        "!pip install -q git+https://github.com/fabiodimarco/tf-spectral-modeling-synthesis.git\n",
        "!pip install -q pydub"
      ],
      "execution_count": null,
      "outputs": []
    },
    {
      "cell_type": "code",
      "metadata": {
        "id": "MILlv7Z-fUdT"
      },
      "source": [
        "%cd dataset"
      ],
      "execution_count": null,
      "outputs": []
    },
    {
      "cell_type": "code",
      "metadata": {
        "id": "TnfcATMvfjIW"
      },
      "source": [
        "from create_subset import create_subset\n",
        "from create_dataset import create_dataset"
      ],
      "execution_count": null,
      "outputs": []
    },
    {
      "cell_type": "code",
      "metadata": {
        "id": "ErpLWPZOfopi"
      },
      "source": [
        "download_dir = \"nsynth\"\n",
        "subset_dir = \"nsynth_subset\"\n",
        "final_dataset_dir = \"final\""
      ],
      "execution_count": null,
      "outputs": []
    },
    {
      "cell_type": "code",
      "metadata": {
        "id": "kXPaY4Izf7aE"
      },
      "source": [
        "create_subset(source_dir=download_dir, target_dir=subset_dir)"
      ],
      "execution_count": null,
      "outputs": []
    },
    {
      "cell_type": "code",
      "metadata": {
        "id": "t3XcP7SZgIIE"
      },
      "source": [
        "create_dataset(source_dir=subset_dir, target_dir=final_dataset_dir)"
      ],
      "execution_count": null,
      "outputs": []
    },
    {
      "cell_type": "code",
      "metadata": {
        "id": "i_Zu-UGAjlQc"
      },
      "source": [
        ""
      ],
      "execution_count": null,
      "outputs": []
    }
  ]
}
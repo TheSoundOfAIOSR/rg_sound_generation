{
  "nbformat": 4,
  "nbformat_minor": 0,
  "metadata": {
    "colab": {
      "name": "Create_Dataset.ipynb",
      "provenance": [],
      "collapsed_sections": []
    },
    "kernelspec": {
      "name": "python3",
      "display_name": "Python 3"
    },
    "language_info": {
      "name": "python"
    }
  },
  "cells": [
    {
      "cell_type": "code",
      "metadata": {
        "id": "qbv9ccCX7Spj"
      },
      "source": [
        "!git clone -b dataset https://github.com/TheSoundOfAIOSR/rg_sound_generation.git"
      ],
      "execution_count": null,
      "outputs": []
    },
    {
      "cell_type": "code",
      "metadata": {
        "id": "zIWWRCLDezIZ"
      },
      "source": [
        "%cd rg_sound_generation/dataset"
      ],
      "execution_count": null,
      "outputs": []
    },
    {
      "cell_type": "markdown",
      "metadata": {
        "id": "4KsQY4XHg4eW"
      },
      "source": [
        "Using Latest from tsms. This can be removed once requirements.txt is updated in main branch"
      ]
    },
    {
      "cell_type": "code",
      "metadata": {
        "id": "b-ettxece_r2"
      },
      "source": [
        "!pip install -q pydub wget tqdm\n",
        "!pip install -q git+https://github.com/fabiodimarco/tf-spectral-modeling-synthesis.git"
      ],
      "execution_count": null,
      "outputs": []
    },
    {
      "cell_type": "code",
      "metadata": {
        "id": "TnfcATMvfjIW"
      },
      "source": [
        "from create_subset import create_subset\n",
        "from create_dataset import create_dataset\n",
        "from split_dataset import split_dataset"
      ],
      "execution_count": null,
      "outputs": []
    },
    {
      "cell_type": "code",
      "metadata": {
        "id": "ErpLWPZOfopi"
      },
      "source": [
        "download_dir = \"nsynth_complete\"\n",
        "subset_dir = \"nsynth_guitar_subset\"\n",
        "tfrecord_dir = \"nsynth_guitar_tfrecord\"\n",
        "final_dir = \"nsynth_guitar_splits\""
      ],
      "execution_count": null,
      "outputs": []
    },
    {
      "cell_type": "markdown",
      "metadata": {
        "id": "kXPaY4Izf7aE",
        "pycharm": {
          "name": "#%% md\n"
        }
      },
      "source": [
        "Download NSynth and Create Guitar Subset"
      ]
    },
    {
      "cell_type": "code",
      "metadata": {
        "pycharm": {
          "name": "#%%\n"
        },
        "id": "7nujrEW4q2id"
      },
      "source": [
        "create_subset(source_dir=download_dir, target_dir=subset_dir)"
      ],
      "execution_count": null,
      "outputs": []
    },
    {
      "cell_type": "code",
      "metadata": {
        "id": "irs6MeR_rDpU"
      },
      "source": [
        "!rm -r $download_dir"
      ],
      "execution_count": null,
      "outputs": []
    },
    {
      "cell_type": "markdown",
      "metadata": {
        "id": "t3XcP7SZgIIE",
        "pycharm": {
          "name": "#%% md\n"
        }
      },
      "source": [
        "Prepare TFRecord from Guitar Subset"
      ]
    },
    {
      "cell_type": "code",
      "metadata": {
        "pycharm": {
          "name": "#%%\n"
        },
        "id": "M5ekXm3_q2if"
      },
      "source": [
        "create_dataset(source_dir=subset_dir, target_dir=tfrecord_dir)"
      ],
      "execution_count": null,
      "outputs": []
    },
    {
      "cell_type": "code",
      "metadata": {
        "id": "xitfFDSHm9lj"
      },
      "source": [
        "!rm -r $subset_dir"
      ],
      "execution_count": null,
      "outputs": []
    },
    {
      "cell_type": "markdown",
      "metadata": {
        "id": "i_Zu-UGAjlQc",
        "pycharm": {
          "name": "#%% md\n"
        }
      },
      "source": [
        "Randomize and Split into two sets"
      ]
    },
    {
      "cell_type": "code",
      "metadata": {
        "pycharm": {
          "name": "#%%\n"
        },
        "id": "osE_HzKCq2ig"
      },
      "source": [
        "split_dataset(source_dir=tfrecord_dir, target_dir=final_dir)"
      ],
      "execution_count": null,
      "outputs": []
    },
    {
      "cell_type": "code",
      "metadata": {
        "id": "iFMQWUElnIJn"
      },
      "source": [
        "!rm -r $tfrecord_dir"
      ],
      "execution_count": null,
      "outputs": []
    },
    {
      "cell_type": "code",
      "metadata": {
        "id": "50VVytz_b4pR"
      },
      "source": [
        "from google.colab import drive\n",
        "\n",
        "drive.mount('/content/drive', force_remount=False)"
      ],
      "execution_count": null,
      "outputs": []
    },
    {
      "cell_type": "code",
      "metadata": {
        "id": "EMcy409QmTfs"
      },
      "source": [
        "!cp -r $final_dir /content/drive/MyDrive/the_sound_of_ai/dataset/"
      ],
      "execution_count": null,
      "outputs": []
    },
    {
      "cell_type": "code",
      "metadata": {
        "id": "FHR97G9QnETP"
      },
      "source": [
        ""
      ],
      "execution_count": null,
      "outputs": []
    }
  ]
}
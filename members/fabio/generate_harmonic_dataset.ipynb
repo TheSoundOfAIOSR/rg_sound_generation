{
  "nbformat": 4,
  "nbformat_minor": 0,
  "metadata": {
    "colab": {
      "name": "generate_harmonic_dataset.ipynb",
      "provenance": [],
      "collapsed_sections": [],
      "toc_visible": true
    },
    "kernelspec": {
      "name": "python3",
      "display_name": "Python 3"
    },
    "language_info": {
      "name": "python"
    },
    "accelerator": "GPU"
  },
  "cells": [
    {
      "cell_type": "markdown",
      "metadata": {
        "id": "PcAvS4amzDrZ"
      },
      "source": [
        "# Mapping model training"
      ]
    },
    {
      "cell_type": "markdown",
      "metadata": {
        "id": "w0fVn8yUJl_v"
      },
      "source": [
        "## Setup Google Drive"
      ]
    },
    {
      "cell_type": "code",
      "metadata": {
        "colab": {
          "base_uri": "https://localhost:8080/"
        },
        "id": "XTjJuD9AmeYy",
        "outputId": "b6ad3fcf-be8e-40de-dcb4-06811ee0d0da"
      },
      "source": [
        "from google.colab import drive\n",
        "drive.mount('/content/drive', force_remount=False)"
      ],
      "execution_count": 9,
      "outputs": [
        {
          "output_type": "stream",
          "text": [
            "Drive already mounted at /content/drive; to attempt to forcibly remount, call drive.mount(\"/content/drive\", force_remount=True).\n"
          ],
          "name": "stdout"
        }
      ]
    },
    {
      "cell_type": "markdown",
      "metadata": {
        "id": "SxRUhnmKsUj9"
      },
      "source": [
        "### Download Complete NSynth Guitar Subset"
      ]
    },
    {
      "cell_type": "code",
      "metadata": {
        "id": "tTVOibF9sb3y"
      },
      "source": [
        "import os\n",
        "\n",
        "'''This one download the folder recursively'''\n",
        "def folder_download(folder_id):\n",
        "  # authenticate\n",
        "  from google.colab import auth\n",
        "  auth.authenticate_user()\n",
        "  # get folder_name\n",
        "  from googleapiclient.discovery import build\n",
        "  service = build('drive', 'v3')\n",
        "  folder_name = service.files().get(fileId=folder_id).execute()['name']\n",
        "  # import library and download\n",
        "  !wget -qnc https://github.com/segnolin/google-drive-folder-downloader/raw/master/download.py\n",
        "  from download import download_folder\n",
        "  download_folder(service, folder_id, './', folder_name)\n",
        "  return folder_name\n",
        "\n",
        "dataset_dir = '/content/complete_dataset'\n",
        "if not os.path.exists(dataset_dir):\n",
        "  folder_name = folder_download('1-lJfBAVswi8JXR_kKbOkfvNHRNvAZ1TB')"
      ],
      "execution_count": 10,
      "outputs": []
    },
    {
      "cell_type": "markdown",
      "metadata": {
        "id": "Vn7CQ4GQizHy"
      },
      "source": [
        "## Install Dependencies\n",
        "\n",
        "First we install the required dependencies with `pip`."
      ]
    },
    {
      "cell_type": "code",
      "metadata": {
        "id": "mjhdKFJbvRVU"
      },
      "source": [
        "%tensorflow_version 2.x\n",
        "!pip install -qU ddsp[data_preparation]==1.0.1\n",
        "!pip install git+https://github.com/fabiodimarco/tf-spectral-modeling-synthesis.git"
      ],
      "execution_count": null,
      "outputs": []
    },
    {
      "cell_type": "markdown",
      "metadata": {
        "id": "s9AWf8NpBiB4"
      },
      "source": [
        "## Define DataProvider class"
      ]
    },
    {
      "cell_type": "code",
      "metadata": {
        "id": "EB0sWNuRoW4I"
      },
      "source": [
        "import tensorflow as tf\n",
        "import ddsp.training.data as data\n",
        "\n",
        "\n",
        "class CompleteTFRecordProvider(data.RecordProvider):\n",
        "  def __init__(self,\n",
        "               file_pattern=None,\n",
        "               example_secs=4,\n",
        "               sample_rate=16000,\n",
        "               frame_rate=250,\n",
        "               map_func=None):\n",
        "    super().__init__(file_pattern, example_secs, sample_rate,\n",
        "                      frame_rate, tf.data.TFRecordDataset)\n",
        "    self._map_func = map_func\n",
        "\n",
        "  def get_dataset(self, shuffle=True):\n",
        "    def parse_tfexample(record):\n",
        "      features = tf.io.parse_single_example(record, self.features_dict)\n",
        "      if self._map_func is not None:\n",
        "        return self._map_func(features)\n",
        "      else:\n",
        "        return features\n",
        "\n",
        "    filenames = tf.data.Dataset.list_files(self._file_pattern, shuffle=shuffle)\n",
        "    dataset = filenames.interleave(\n",
        "        map_func=self._data_format_map_fn,\n",
        "        cycle_length=40,\n",
        "        num_parallel_calls=tf.data.experimental.AUTOTUNE)\n",
        "    dataset = dataset.map(parse_tfexample,\n",
        "                          num_parallel_calls=tf.data.experimental.AUTOTUNE)\n",
        "    return dataset\n",
        "\n",
        "  @property\n",
        "  def features_dict(self):\n",
        "    return {\n",
        "      'sample_name':\n",
        "        tf.io.FixedLenFeature([1], dtype=tf.string),\n",
        "      'note_number':\n",
        "        tf.io.FixedLenFeature([1], dtype=tf.int64),\n",
        "      'velocity':\n",
        "        tf.io.FixedLenFeature([1], dtype=tf.int64),\n",
        "      'instrument_source':\n",
        "        tf.io.FixedLenFeature([1], dtype=tf.int64),\n",
        "      'qualities':\n",
        "        tf.io.FixedLenFeature([10], dtype=tf.int64),\n",
        "      'audio':\n",
        "        tf.io.FixedLenFeature([self._audio_length], dtype=tf.float32),\n",
        "      'f0_hz':\n",
        "        tf.io.FixedLenFeature([self._feature_length], dtype=tf.float32),\n",
        "      'f0_confidence':\n",
        "        tf.io.FixedLenFeature([self._feature_length], dtype=tf.float32),\n",
        "      'loudness_db':\n",
        "        tf.io.FixedLenFeature([self._feature_length], dtype=tf.float32),\n",
        "      'f0_scaled':\n",
        "        tf.io.FixedLenFeature([self._feature_length], dtype=tf.float32),\n",
        "      'ld_scaled':\n",
        "        tf.io.FixedLenFeature([self._feature_length], dtype=tf.float32),\n",
        "      'z':\n",
        "        tf.io.FixedLenFeature([self._feature_length * 16], dtype=tf.float32),\n",
        "    }\n",
        "\n",
        "\n",
        "class HarmonicTFRecordProvider(data.RecordProvider):\n",
        "  def __init__(self,\n",
        "               file_pattern=None,\n",
        "               example_secs=4,\n",
        "               sample_rate=16000,\n",
        "               frame_rate=250,\n",
        "               map_func=None):\n",
        "    super().__init__(file_pattern, example_secs, sample_rate,\n",
        "                      frame_rate, tf.data.TFRecordDataset)\n",
        "    self._map_func = map_func\n",
        "\n",
        "  def get_dataset(self, shuffle=True):\n",
        "    def parse_tfexample(record):\n",
        "      features = tf.io.parse_single_example(record, self.features_dict)\n",
        "      if self._map_func is not None:\n",
        "        return self._map_func(features)\n",
        "      else:\n",
        "        return features\n",
        "\n",
        "    filenames = tf.data.Dataset.list_files(self._file_pattern, shuffle=shuffle)\n",
        "    dataset = filenames.interleave(\n",
        "        map_func=self._data_format_map_fn,\n",
        "        cycle_length=40,\n",
        "        num_parallel_calls=tf.data.experimental.AUTOTUNE)\n",
        "    dataset = dataset.map(parse_tfexample,\n",
        "                          num_parallel_calls=tf.data.experimental.AUTOTUNE)\n",
        "    return dataset\n",
        "\n",
        "  @property\n",
        "  def features_dict(self):\n",
        "    return {\n",
        "      'sample_name':\n",
        "        tf.io.FixedLenFeature([], dtype=tf.string),\n",
        "      'note_number':\n",
        "        tf.io.FixedLenFeature([1], dtype=tf.int64),\n",
        "      'velocity':\n",
        "        tf.io.FixedLenFeature([1], dtype=tf.int64),\n",
        "      'instrument_source':\n",
        "        tf.io.FixedLenFeature([1], dtype=tf.int64),\n",
        "      'qualities':\n",
        "        tf.io.FixedLenFeature([10], dtype=tf.int64),\n",
        "      'audio':\n",
        "        tf.io.FixedLenFeature([self._audio_length], dtype=tf.float32),\n",
        "      'f0_hz':\n",
        "        tf.io.FixedLenFeature([self._feature_length], dtype=tf.float32),\n",
        "      'f0_confidence':\n",
        "        tf.io.FixedLenFeature([self._feature_length], dtype=tf.float32),\n",
        "      'loudness_db':\n",
        "        tf.io.FixedLenFeature([self._feature_length], dtype=tf.float32),\n",
        "      'f0_estimate':\n",
        "        tf.io.FixedLenFeature([], dtype=tf.string),\n",
        "      'h_freq':\n",
        "        tf.io.FixedLenFeature([], dtype=tf.string),\n",
        "      'h_mag':\n",
        "        tf.io.FixedLenFeature([], dtype=tf.string),\n",
        "      'h_phase':\n",
        "        tf.io.FixedLenFeature([], dtype=tf.string),\n",
        "    }"
      ],
      "execution_count": 12,
      "outputs": []
    },
    {
      "cell_type": "markdown",
      "metadata": {
        "id": "d7dYOU811Ni4"
      },
      "source": [
        "## Create datasets"
      ]
    },
    {
      "cell_type": "code",
      "metadata": {
        "id": "rBa055Xy1MIL"
      },
      "source": [
        "train_dataset_dir = os.path.join(dataset_dir, 'train')\n",
        "valid_dataset_dir = os.path.join(dataset_dir, 'valid')\n",
        "test_dataset_dir = os.path.join(dataset_dir, 'test')\n",
        "\n",
        "train_tfrecord_file = os.path.join(train_dataset_dir, 'complete.tfrecord')\n",
        "valid_tfrecord_file = os.path.join(valid_dataset_dir, 'complete.tfrecord')\n",
        "test_tfrecord_file = os.path.join(test_dataset_dir, 'complete.tfrecord')\n",
        "\n",
        "example_secs = 4\n",
        "sample_rate = 16000\n",
        "frame_rate = 250\n",
        "\n",
        "# Create train dataset\n",
        "train_data_provider = CompleteTFRecordProvider(\n",
        "    file_pattern=train_tfrecord_file + '*',\n",
        "    example_secs=example_secs,\n",
        "    sample_rate=sample_rate,\n",
        "    frame_rate=frame_rate)\n",
        "\n",
        "train_dataset = train_data_provider.get_batch(1, shuffle=False, repeats=1)\n",
        "\n",
        "# Create valid dataset\n",
        "valid_data_provider = CompleteTFRecordProvider(\n",
        "    file_pattern=valid_tfrecord_file + '*',\n",
        "    example_secs=example_secs,\n",
        "    sample_rate=sample_rate,\n",
        "    frame_rate=frame_rate)\n",
        "\n",
        "valid_dataset = valid_data_provider.get_batch(1, shuffle=False, repeats=1)\n",
        "\n",
        "# Create test dataset\n",
        "test_data_provider = CompleteTFRecordProvider(\n",
        "    file_pattern=test_tfrecord_file + '*',\n",
        "    example_secs=example_secs,\n",
        "    sample_rate=sample_rate,\n",
        "    frame_rate=frame_rate)\n",
        "\n",
        "test_dataset = test_data_provider.get_batch(1, shuffle=False, repeats=1)"
      ],
      "execution_count": 13,
      "outputs": []
    },
    {
      "cell_type": "markdown",
      "metadata": {
        "id": "6LVV4Dc61HHY"
      },
      "source": [
        "## Make directories to save model and data"
      ]
    },
    {
      "cell_type": "code",
      "metadata": {
        "id": "9XJcymGj1IwY"
      },
      "source": [
        "!ln -s \"/content/drive/My Drive\" /gdrive\n",
        "\n",
        "dataset_dir = os.path.normpath('/gdrive/nsynth_guitar/dataset/harmonic')\n",
        "\n",
        "assert os.path.exists(dataset_dir)\n",
        "print('Dataset Directory Exists:', dataset_dir)"
      ],
      "execution_count": null,
      "outputs": []
    },
    {
      "cell_type": "code",
      "metadata": {
        "id": "iC7zEuoHnqI_"
      },
      "source": [
        "import glob\n",
        "import os\n",
        "import time\n",
        "import matplotlib.pyplot as plt\n",
        "import ddsp\n",
        "import tsms\n",
        "\n",
        "\n",
        "def _byte_feature(value):\n",
        "    return tf.train.Feature(\n",
        "        bytes_list=tf.train.BytesList(value=value))\n",
        "\n",
        "\n",
        "def _float_feature(value):\n",
        "    return tf.train.Feature(\n",
        "        float_list=tf.train.FloatList(value=value))\n",
        "\n",
        "\n",
        "def _int64_feature(value):\n",
        "    return tf.train.Feature(\n",
        "        int64_list=tf.train.Int64List(value=value))\n",
        "  \n",
        "\n",
        "def _tensor_feature(value):\n",
        "    value = tf.constant(value)\n",
        "    value = tf.io.serialize_tensor(value)\n",
        "    value = tf.expand_dims(value, axis=0)\n",
        "    return _byte_feature(value.numpy())\n",
        "\n",
        "\n",
        "def prepare_harmonic_tfrecord(dataset,\n",
        "                              save_dir,\n",
        "                              split='train',\n",
        "                              sample_rate=16000,\n",
        "                              frame_rate=250):\n",
        "\n",
        "  split_dir = os.path.join(save_dir, split)\n",
        "  file_list = glob.glob(os.path.join(split_dir, \"harmonic.tfrecord*\"))\n",
        "\n",
        "  if len(file_list) == 0:\n",
        "    start_index = 0\n",
        "  else:\n",
        "    # harmonic.tfrecord-00000-to-00099\n",
        "    last_file = file_list[-1]\n",
        "    start_index = int(last_file[-5:]) + 1\n",
        "  \n",
        "  def filter_fn(e):\n",
        "    note_number = e['note_number'][0][0]\n",
        "\n",
        "    return tf.math.logical_and(\n",
        "        tf.math.greater_equal(note_number, 36),\n",
        "        tf.math.less_equal(note_number, 84))\n",
        "\n",
        "  window_size = 100\n",
        "\n",
        "  dataset = dataset.filter(filter_fn)\n",
        "  dataset = dataset.skip(start_index)\n",
        "  dataset = dataset.window(window_size)\n",
        "\n",
        "  start_index -= window_size\n",
        "\n",
        "  for window in dataset:\n",
        "    window = tf.data.Dataset.zip(window)\n",
        "    cardinality = window.cardinality()\n",
        "\n",
        "    start_index += window_size\n",
        "    end_index = start_index + cardinality - 1\n",
        "\n",
        "    tfrecord_filename = f\"harmonic.tfrecord-{start_index:05n}-{end_index:05n}\"\n",
        "    harmonic_tfrecord_file = os.path.join(split_dir, tfrecord_filename)\n",
        "\n",
        "    print('\\nFile: ', tfrecord_filename)\n",
        "    print('Complete Path: ', harmonic_tfrecord_file)\n",
        "    print('Start Index: ', start_index)\n",
        "    print('End Index: ', end_index.numpy())\n",
        "    print('Cardinality: ', cardinality.numpy())\n",
        "\n",
        "    with tf.io.TFRecordWriter(harmonic_tfrecord_file) as writer:\n",
        "        window_start_time = time.perf_counter()\n",
        "        for step, e in enumerate(window):\n",
        "            start_time = time.perf_counter()\n",
        "\n",
        "            sample_name = e['sample_name'][0].numpy()\n",
        "            note_number = e['note_number'][0].numpy()\n",
        "            velocity = e['velocity'][0].numpy()\n",
        "            instrument_source = e['instrument_source'][0].numpy()\n",
        "            qualities = e['qualities'][0].numpy()\n",
        "            audio = e['audio'][0].numpy()\n",
        "            f0_hz = e['f0_hz'][0].numpy()\n",
        "            f0_confidence = e['f0_confidence'][0].numpy()\n",
        "            loudness_db = e['loudness_db'][0].numpy()\n",
        "\n",
        "            print('{} - sample_name: {}'.format(\n",
        "                step, e['sample_name'][0][0].numpy().decode('UTF-8')),\n",
        "                end='')\n",
        "\n",
        "            signals = tf.cast(audio, dtype=tf.float32)\n",
        "            signals = tf.reshape(signals, shape=(1, -1))\n",
        "\n",
        "            frame_step = 64\n",
        "\n",
        "            f0_estimate = tsms.core.midi_to_f0_estimate(\n",
        "                note_number, signals.shape[1], frame_step)\n",
        "            f0_estimate = tf.cast(f0_estimate, dtype=tf.float32)\n",
        "\n",
        "            f0_estimate, _, _ = tsms.core.refine_f0(\n",
        "                signals, f0_estimate, sample_rate, frame_step)\n",
        "            \n",
        "            h_freq, h_mag, h_phase = tsms.core.iterative_harmonic_analysis(\n",
        "                signals=signals,\n",
        "                f0_estimate=f0_estimate,\n",
        "                sample_rate=sample_rate,\n",
        "                frame_step=frame_step)\n",
        "            \n",
        "            f0_estimate = tf.squeeze(f0_estimate, axis=0)\n",
        "            h_freq = tf.squeeze(h_freq, axis=0)\n",
        "            h_mag = tf.squeeze(h_mag, axis=0)\n",
        "            h_phase = tf.squeeze(h_phase, axis=0)\n",
        "\n",
        "            harmonic_dataset_dict = {\n",
        "                'sample_name': _byte_feature(sample_name),\n",
        "                'note_number': _int64_feature(note_number),\n",
        "                'velocity': _int64_feature(velocity),\n",
        "                'instrument_source': _int64_feature(instrument_source),\n",
        "                'qualities': _int64_feature(qualities),\n",
        "                'audio': _float_feature(audio),\n",
        "                'f0_hz': _float_feature(f0_hz),\n",
        "                'f0_confidence': _float_feature(f0_confidence),\n",
        "                'loudness_db': _float_feature(loudness_db),\n",
        "                'f0_estimate': _tensor_feature(f0_estimate),\n",
        "                'h_freq': _tensor_feature(h_freq),\n",
        "                'h_mag': _tensor_feature(h_mag),\n",
        "                'h_phase': _tensor_feature(h_phase),\n",
        "            }\n",
        "\n",
        "            tf_example = tf.train.Example(\n",
        "                features=tf.train.Features(feature=harmonic_dataset_dict))\n",
        "\n",
        "            writer.write(tf_example.SerializeToString())\n",
        "\n",
        "            stop_time = time.perf_counter()\n",
        "            elapsed_time = stop_time - start_time\n",
        "            print(' - elapsed_time: {:.3f}'.format(elapsed_time))\n",
        "        \n",
        "        window_stop_time = time.perf_counter()\n",
        "        window_elapsed_time = window_stop_time - window_start_time\n",
        "        print('Window elapsed_time: ', window_elapsed_time)"
      ],
      "execution_count": 15,
      "outputs": []
    },
    {
      "cell_type": "markdown",
      "metadata": {
        "id": "9ShG2OJ7c-EW"
      },
      "source": [
        "## Prepare Harmonic tfrecord"
      ]
    },
    {
      "cell_type": "code",
      "metadata": {
        "id": "Um2WqBW2c9C-"
      },
      "source": [
        "prepare_harmonic_tfrecord(\n",
        "    dataset=train_dataset,\n",
        "    save_dir=dataset_dir,\n",
        "    split='train',\n",
        "    sample_rate=16000,\n",
        "    frame_rate=250)\n",
        "  \n",
        "prepare_harmonic_tfrecord(\n",
        "  dataset=valid_dataset,\n",
        "  save_dir=dataset_dir,\n",
        "  split='valid',\n",
        "  sample_rate=16000,\n",
        "  frame_rate=250)\n",
        "\n",
        "prepare_harmonic_tfrecord(\n",
        "  dataset=test_dataset,\n",
        "  save_dir=dataset_dir,\n",
        "  split='test',\n",
        "  sample_rate=16000,\n",
        "  frame_rate=250)"
      ],
      "execution_count": null,
      "outputs": []
    }
  ]
}
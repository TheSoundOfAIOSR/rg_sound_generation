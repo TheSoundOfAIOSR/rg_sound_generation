{
  "nbformat": 4,
  "nbformat_minor": 0,
  "metadata": {
    "colab": {
      "name": "train_on_colab.ipynb",
      "provenance": [],
      "collapsed_sections": []
    },
    "kernelspec": {
      "name": "python3",
      "display_name": "Python 3"
    },
    "language_info": {
      "name": "python"
    },
    "accelerator": "GPU"
  },
  "cells": [
    {
      "cell_type": "code",
      "metadata": {
        "id": "OySBCytSuLjp"
      },
      "source": [
        "!git clone https://github.com/TheSoundOfAIOSR/rg_sound_generation.git\n",
        "!mv /content/rg_sound_generation/members/amit/harmonic_decomp/* .\n",
        "!pip install -q ddsp"
      ],
      "execution_count": null,
      "outputs": []
    },
    {
      "cell_type": "code",
      "metadata": {
        "id": "M8_qQrfqupBy"
      },
      "source": [
        "from google.colab import drive\n",
        "drive.mount('/content/drive', force_remount=False)"
      ],
      "execution_count": null,
      "outputs": []
    },
    {
      "cell_type": "code",
      "metadata": {
        "id": "vR2CxwrHvK36"
      },
      "source": [
        "from train import train\n",
        "from csv_logger import show_logs\n",
        "from localconfig import LocalConfig"
      ],
      "execution_count": null,
      "outputs": []
    },
    {
      "cell_type": "code",
      "metadata": {
        "id": "yTN5DbnPvNxh"
      },
      "source": [
        "conf = LocalConfig()\n",
        "conf.dataset_dir = \"/content/drive/MyDrive/the_sound_of_ai/new_data\"\n",
        "conf.batch_size = 8\n",
        "conf.latent_dim = 256\n",
        "conf.log_steps = False\n",
        "conf.learning_rate = 0.001\n",
        "conf.best_loss = 0.0202"
      ],
      "execution_count": null,
      "outputs": []
    },
    {
      "cell_type": "code",
      "metadata": {
        "id": "IK8BksMivYyA"
      },
      "source": [
        "train(conf)"
      ],
      "execution_count": null,
      "outputs": []
    },
    {
      "cell_type": "code",
      "metadata": {
        "id": "K6Cwq-8LGB6-"
      },
      "source": [
        "show_logs(\"train\", conf, all_steps=False)"
      ],
      "execution_count": null,
      "outputs": []
    },
    {
      "cell_type": "code",
      "metadata": {
        "id": "3tcK-M8gGDMr"
      },
      "source": [
        "show_logs(\"val\", conf, all_steps=False)"
      ],
      "execution_count": null,
      "outputs": []
    }
  ]
}
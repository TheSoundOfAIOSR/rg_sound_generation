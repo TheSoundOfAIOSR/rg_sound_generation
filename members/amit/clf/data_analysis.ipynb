{
 "cells": [
  {
   "cell_type": "code",
   "execution_count": 3,
   "metadata": {
    "collapsed": true
   },
   "outputs": [],
   "source": [
    "%matplotlib inline\n",
    "\n",
    "import os\n",
    "import numpy as np\n",
    "import pandas as pd\n",
    "import data_loader\n",
    "import config\n",
    "import audio_processing\n",
    "import matplotlib.pyplot as plt\n",
    "from tqdm import tqdm\n",
    "\n",
    "plt.style.use(\"dark_background\")"
   ]
  },
  {
   "cell_type": "code",
   "execution_count": 4,
   "outputs": [
    {
     "name": "stderr",
     "output_type": "stream",
     "text": [
      "2021-05-19 20:58:19.972 | INFO     | data_loader:data_loader:28 - Loading csv and checking audio files\n",
      "2021-05-19 20:58:19.998 | INFO     | data_loader:data_loader:31 - Creating dataset\n"
     ]
    },
    {
     "name": "stdout",
     "output_type": "stream",
     "text": [
      "[{'bright_vs_dark': 20, 'count': 1, 'audio_file_name': 'guitar_electronic_007-060-127', 'user_id': 1}\n",
      " {'bright_vs_dark': 34, 'count': 2, 'audio_file_name': 'guitar_synthetic_001-060-025', 'user_id': 9}\n",
      " {'bright_vs_dark': 29, 'count': 1, 'audio_file_name': 'guitar_electronic_021-060-025', 'user_id': 1}\n",
      " {'bright_vs_dark': 50} {'bright_vs_dark': 9}\n",
      " {'bright_vs_dark': 89, 'count': 3, 'audio_file_name': 'guitar_electronic_046-060-127', 'user_id': 23}\n",
      " {'bright_vs_dark': 114, 'count': 3, 'audio_file_name': 'guitar_electronic_012-060-075', 'user_id': 91}\n",
      " {'bright_vs_dark': 84, 'count': 1, 'audio_file_name': 'guitar_synthetic_007-060-100', 'user_id': 1}\n",
      " {'bright_vs_dark': 82}\n",
      " {'bright_vs_dark': 50, 'count': 1, 'audio_file_name': 'guitar_electronic_013-060-025', 'user_id': 1}\n",
      " {'bright_vs_dark': 0} {'bright_vs_dark': 11}\n",
      " {'bright_vs_dark': 0, 'count': 1, 'audio_file_name': 'guitar_electronic_041-060-050', 'user_id': 1}\n",
      " {'bright_vs_dark': 0, 'count': 1, 'audio_file_name': 'guitar_acoustic_025-060-050', 'user_id': 1}\n",
      " {'bright_vs_dark': 0}\n",
      " {'bright_vs_dark': 0, 'count': 1, 'audio_file_name': 'p+guitar_acoustic_006-055-025', 'user_id': 1}\n",
      " {'bright_vs_dark': 29}\n",
      " {'bright_vs_dark': 139, 'count': 2, 'audio_file_name': 'p+guitar_acoustic_010-065-100', 'user_id': 98}\n",
      " {'bright_vs_dark': 32, 'count': 1, 'audio_file_name': 'guitar_electronic_044-060-050', 'user_id': 1}\n",
      " {'bright_vs_dark': 87, 'count': 1, 'audio_file_name': 'p+guitar_acoustic_022-055-025', 'user_id': 1}\n",
      " {'bright_vs_dark': 50, 'count': 1, 'audio_file_name': 'guitar_electronic_016-060-050', 'user_id': 1}\n",
      " {'bright_vs_dark': 15} {'bright_vs_dark': 50}\n",
      " {'bright_vs_dark': 86, 'count': 1, 'audio_file_name': 'p+guitar_electronic_020-056-025', 'user_id': 1}\n",
      " {'bright_vs_dark': 54} {'bright_vs_dark': 0} {'bright_vs_dark': 73}\n",
      " {'bright_vs_dark': 0}\n",
      " {'bright_vs_dark': 85, 'count': 1, 'audio_file_name': 'p+guitar_electronic_041-064-025', 'user_id': 1}\n",
      " {'bright_vs_dark': 13}\n",
      " {'bright_vs_dark': 136, 'count': 2, 'audio_file_name': 'p+guitar_acoustic_027-057-100', 'user_id': 100}\n",
      " {'bright_vs_dark': 82, 'count': 1, 'audio_file_name': 'p+guitar_synthetic_009-058-100', 'user_id': 1}\n",
      " {'bright_vs_dark': 99}\n",
      " {'bright_vs_dark': 92, 'count': 1, 'audio_file_name': 'p+guitar_acoustic_018-055-025', 'user_id': 1}\n",
      " {'bright_vs_dark': 78}\n",
      " {'bright_vs_dark': 0, 'count': 1, 'audio_file_name': 'p+guitar_acoustic_012-055-025', 'user_id': 1}\n",
      " {'bright_vs_dark': 11, 'count': 1, 'audio_file_name': 'p+guitar_electronic_044-064-100', 'user_id': 1}\n",
      " {'bright_vs_dark': 82, 'count': 1, 'audio_file_name': 'p+guitar_acoustic_001-062-025', 'user_id': 1}\n",
      " {'bright_vs_dark': 0, 'count': 1, 'audio_file_name': 'p+guitar_acoustic_034-057-100', 'user_id': 1}\n",
      " {'bright_vs_dark': 0} {'bright_vs_dark': 99} {'bright_vs_dark': 11}\n",
      " {'bright_vs_dark': 99, 'count': 1, 'audio_file_name': 'p+guitar_electronic_007-061-127', 'user_id': 1}\n",
      " {'bright_vs_dark': 0, 'count': 1, 'audio_file_name': 'p+guitar_synthetic_001-063-025', 'user_id': 1}\n",
      " {'bright_vs_dark': 0, 'count': 1, 'audio_file_name': 'p+guitar_electronic_005-056-025', 'user_id': 1}\n",
      " {'bright_vs_dark': 80, 'count': 1, 'audio_file_name': 'p+guitar_acoustic_014-062-075', 'user_id': 1}\n",
      " {'bright_vs_dark': 99}\n",
      " {'bright_vs_dark': 99, 'count': 1, 'audio_file_name': 'p+guitar_acoustic_021-055-025', 'user_id': 1}\n",
      " {'bright_vs_dark': 12, 'count': 1, 'audio_file_name': 'p+guitar_electronic_008-062-075', 'user_id': 1}\n",
      " {'bright_vs_dark': 0}\n",
      " {'bright_vs_dark': 0, 'count': 1, 'audio_file_name': 'p+guitar_synthetic_012-065-025', 'user_id': 1}\n",
      " {'bright_vs_dark': 99}\n",
      " {'bright_vs_dark': 9, 'count': 1, 'audio_file_name': 'p+guitar_electronic_028-055-127', 'user_id': 1}\n",
      " {'bright_vs_dark': 128, 'count': 2, 'audio_file_name': 'p+guitar_acoustic_024-058-050', 'user_id': 100}\n",
      " {'bright_vs_dark': 99} {'bright_vs_dark': 95}\n",
      " {'bright_vs_dark': 19, 'count': 1, 'audio_file_name': 'p+guitar_acoustic_026-062-075', 'user_id': 1}\n",
      " {'bright_vs_dark': 87, 'count': 1, 'audio_file_name': 'p+guitar_electronic_017-057-025', 'user_id': 1}\n",
      " {'bright_vs_dark': 91}\n",
      " {'bright_vs_dark': 83, 'count': 1, 'audio_file_name': 'p+guitar_acoustic_004-056-127', 'user_id': 1}\n",
      " {'bright_vs_dark': 0, 'count': 1, 'audio_file_name': 'p+guitar_synthetic_004-058-075', 'user_id': 1}\n",
      " {'bright_vs_dark': 30, 'count': 1, 'audio_file_name': 'p+guitar_acoustic_020-059-050', 'user_id': 1}\n",
      " {'bright_vs_dark': 89, 'count': 1, 'audio_file_name': 'p+guitar_electronic_015-059-025', 'user_id': 1}\n",
      " {'bright_vs_dark': 98} {'bright_vs_dark': 99} {'bright_vs_dark': 0}\n",
      " {'bright_vs_dark': 99} {'bright_vs_dark': 13} {'bright_vs_dark': 82}\n",
      " {'bright_vs_dark': 99, 'count': 1, 'audio_file_name': 'p+guitar_electronic_040-057-100', 'user_id': 1}\n",
      " {'bright_vs_dark': 99, 'count': 1, 'audio_file_name': 'p+guitar_acoustic_027-055-075', 'user_id': 1}\n",
      " {'bright_vs_dark': 25} {'bright_vs_dark': 85} {'bright_vs_dark': 19}\n",
      " {'bright_vs_dark': 88, 'count': 1, 'audio_file_name': 'p+guitar_acoustic_022-059-025', 'user_id': 1}\n",
      " {'bright_vs_dark': 81} {'bright_vs_dark': 82}\n",
      " {'bright_vs_dark': 86, 'count': 1, 'audio_file_name': 'p+guitar_acoustic_035-065-050', 'user_id': 1}\n",
      " {'bright_vs_dark': 20, 'count': 1, 'audio_file_name': 'p+guitar_acoustic_023-058-050', 'user_id': 1}]\n"
     ]
    },
    {
     "ename": "TypeError",
     "evalue": "unsupported operand type(s) for +: 'dict' and 'dict'",
     "output_type": "error",
     "traceback": [
      "\u001B[1;31m---------------------------------------------------------------------------\u001B[0m",
      "\u001B[1;31mTypeError\u001B[0m                                 Traceback (most recent call last)",
      "\u001B[1;32m<ipython-input-4-0951507efdbf>\u001B[0m in \u001B[0;36m<module>\u001B[1;34m\u001B[0m\n\u001B[0;32m      6\u001B[0m })\n\u001B[0;32m      7\u001B[0m \u001B[1;33m\u001B[0m\u001B[0m\n\u001B[1;32m----> 8\u001B[1;33m \u001B[0mexamples\u001B[0m \u001B[1;33m=\u001B[0m \u001B[0mdata_loader\u001B[0m\u001B[1;33m.\u001B[0m\u001B[0mdata_loader\u001B[0m\u001B[1;33m(\u001B[0m\u001B[0mconf\u001B[0m\u001B[1;33m)\u001B[0m\u001B[1;33m\u001B[0m\u001B[1;33m\u001B[0m\u001B[0m\n\u001B[0m\u001B[0;32m      9\u001B[0m \u001B[1;33m\u001B[0m\u001B[0m\n",
      "\u001B[1;32mD:\\soundofai\\rg_sound_generation\\members\\amit\\clf\\data_loader.py\u001B[0m in \u001B[0;36mdata_loader\u001B[1;34m(conf)\u001B[0m\n",
      "\u001B[1;32m<__array_function__ internals>\u001B[0m in \u001B[0;36mmean\u001B[1;34m(*args, **kwargs)\u001B[0m\n",
      "\u001B[1;32mD:\\miniconda3\\envs\\ddsp\\lib\\site-packages\\numpy\\core\\fromnumeric.py\u001B[0m in \u001B[0;36mmean\u001B[1;34m(a, axis, dtype, out, keepdims)\u001B[0m\n\u001B[0;32m   3332\u001B[0m             \u001B[1;32mreturn\u001B[0m \u001B[0mmean\u001B[0m\u001B[1;33m(\u001B[0m\u001B[0maxis\u001B[0m\u001B[1;33m=\u001B[0m\u001B[0maxis\u001B[0m\u001B[1;33m,\u001B[0m \u001B[0mdtype\u001B[0m\u001B[1;33m=\u001B[0m\u001B[0mdtype\u001B[0m\u001B[1;33m,\u001B[0m \u001B[0mout\u001B[0m\u001B[1;33m=\u001B[0m\u001B[0mout\u001B[0m\u001B[1;33m,\u001B[0m \u001B[1;33m**\u001B[0m\u001B[0mkwargs\u001B[0m\u001B[1;33m)\u001B[0m\u001B[1;33m\u001B[0m\u001B[1;33m\u001B[0m\u001B[0m\n\u001B[0;32m   3333\u001B[0m \u001B[1;33m\u001B[0m\u001B[0m\n\u001B[1;32m-> 3334\u001B[1;33m     return _methods._mean(a, axis=axis, dtype=dtype,\n\u001B[0m\u001B[0;32m   3335\u001B[0m                           out=out, **kwargs)\n\u001B[0;32m   3336\u001B[0m \u001B[1;33m\u001B[0m\u001B[0m\n",
      "\u001B[1;32mD:\\miniconda3\\envs\\ddsp\\lib\\site-packages\\numpy\\core\\_methods.py\u001B[0m in \u001B[0;36m_mean\u001B[1;34m(a, axis, dtype, out, keepdims)\u001B[0m\n\u001B[0;32m    149\u001B[0m             \u001B[0mis_float16_result\u001B[0m \u001B[1;33m=\u001B[0m \u001B[1;32mTrue\u001B[0m\u001B[1;33m\u001B[0m\u001B[1;33m\u001B[0m\u001B[0m\n\u001B[0;32m    150\u001B[0m \u001B[1;33m\u001B[0m\u001B[0m\n\u001B[1;32m--> 151\u001B[1;33m     \u001B[0mret\u001B[0m \u001B[1;33m=\u001B[0m \u001B[0mumr_sum\u001B[0m\u001B[1;33m(\u001B[0m\u001B[0marr\u001B[0m\u001B[1;33m,\u001B[0m \u001B[0maxis\u001B[0m\u001B[1;33m,\u001B[0m \u001B[0mdtype\u001B[0m\u001B[1;33m,\u001B[0m \u001B[0mout\u001B[0m\u001B[1;33m,\u001B[0m \u001B[0mkeepdims\u001B[0m\u001B[1;33m)\u001B[0m\u001B[1;33m\u001B[0m\u001B[1;33m\u001B[0m\u001B[0m\n\u001B[0m\u001B[0;32m    152\u001B[0m     \u001B[1;32mif\u001B[0m \u001B[0misinstance\u001B[0m\u001B[1;33m(\u001B[0m\u001B[0mret\u001B[0m\u001B[1;33m,\u001B[0m \u001B[0mmu\u001B[0m\u001B[1;33m.\u001B[0m\u001B[0mndarray\u001B[0m\u001B[1;33m)\u001B[0m\u001B[1;33m:\u001B[0m\u001B[1;33m\u001B[0m\u001B[1;33m\u001B[0m\u001B[0m\n\u001B[0;32m    153\u001B[0m         ret = um.true_divide(\n",
      "\u001B[1;31mTypeError\u001B[0m: unsupported operand type(s) for +: 'dict' and 'dict'"
     ]
    }
   ],
   "source": [
    "conf = config.get_config()\n",
    "f = \"bright_vs_dark\"\n",
    "conf.update({\n",
    "    \"features\": [f],\n",
    "    \"valid_split\": 0.0\n",
    "})\n",
    "\n",
    "examples = data_loader.data_loader(conf)"
   ],
   "metadata": {
    "collapsed": false,
    "pycharm": {
     "name": "#%%\n"
    }
   }
  },
  {
   "cell_type": "code",
   "execution_count": null,
   "outputs": [],
   "source": [],
   "metadata": {
    "collapsed": false,
    "pycharm": {
     "name": "#%%\n"
    }
   }
  },
  {
   "cell_type": "code",
   "execution_count": null,
   "outputs": [],
   "source": [
    "multiple_annots = {}\n",
    "\n",
    "for _, value in examples.items():\n",
    "    file_name = value[\"audio_file_name\"]\n",
    "    feature_val = value[f]\n",
    "\n",
    "    if file_name not in multiple_annots:\n",
    "        multiple_annots[file_name] = [feature_val]\n",
    "    else:\n",
    "        multiple_annots[file_name].append(feature_val)"
   ],
   "metadata": {
    "collapsed": false,
    "pycharm": {
     "name": "#%%\n"
    }
   }
  },
  {
   "cell_type": "code",
   "execution_count": null,
   "outputs": [],
   "source": [
    "only_multiple = {}\n",
    "\n",
    "for key, value in multiple_annots.items():\n",
    "    if len(value) > 1:\n",
    "        only_multiple[key] = value"
   ],
   "metadata": {
    "collapsed": false,
    "pycharm": {
     "name": "#%%\n"
    }
   }
  },
  {
   "cell_type": "code",
   "execution_count": null,
   "outputs": [],
   "source": [
    "stats = {\n",
    "    \"mean\": [],\n",
    "    \"std\": [],\n",
    "    \"count\": [],\n",
    "    \"count_class\": []\n",
    "}\n",
    "\n",
    "for _, value in only_multiple.items():\n",
    "    stats[\"mean\"].append(np.mean(value))\n",
    "    stats[\"std\"].append(np.std(value))\n",
    "    stats[\"count\"].append(len(value))\n",
    "    stats[\"count_class\"].append(int(len(value) >= 4))"
   ],
   "metadata": {
    "collapsed": false,
    "pycharm": {
     "name": "#%%\n"
    }
   }
  },
  {
   "cell_type": "code",
   "execution_count": null,
   "outputs": [],
   "source": [
    "df = pd.DataFrame(stats)"
   ],
   "metadata": {
    "collapsed": false,
    "pycharm": {
     "name": "#%%\n"
    }
   }
  },
  {
   "cell_type": "code",
   "execution_count": null,
   "outputs": [],
   "source": [
    "plt.figure(figsize=(12, 8))\n",
    "plt.scatter(range(len(df)), df.loc[:, \"std\"],\n",
    "            c=df.loc[:, \"count\"])\n",
    "plt.ylim([0., 100.])\n",
    "plt.colorbar()\n",
    "plt.title(\"standard deviation in examples with more than 1 annotations\")\n",
    "plt.savefig(\"standard_deviation.png\")"
   ],
   "metadata": {
    "collapsed": false,
    "pycharm": {
     "name": "#%%\n"
    }
   }
  },
  {
   "cell_type": "code",
   "execution_count": null,
   "outputs": [],
   "source": [
    "plt.figure(figsize=(12, 8))\n",
    "plt.scatter(range(len(df)), df.loc[:, \"std\"],\n",
    "            c=df.loc[:, \"count_class\"])\n",
    "plt.ylim([0., 100.])\n",
    "plt.colorbar()\n",
    "plt.title(\"standard deviation, high annotations (4, 5) vs low (2)\")\n",
    "plt.savefig(\"standard_deviation_45.png\")"
   ],
   "metadata": {
    "collapsed": false,
    "pycharm": {
     "name": "#%%\n"
    }
   }
  },
  {
   "cell_type": "code",
   "execution_count": null,
   "outputs": [],
   "source": [],
   "metadata": {
    "collapsed": false,
    "pycharm": {
     "name": "#%%\n"
    }
   }
  },
  {
   "cell_type": "code",
   "execution_count": null,
   "outputs": [],
   "source": [],
   "metadata": {
    "collapsed": false,
    "pycharm": {
     "name": "#%%\n"
    }
   }
  }
 ],
 "metadata": {
  "kernelspec": {
   "display_name": "Python 3",
   "language": "python",
   "name": "python3"
  },
  "language_info": {
   "codemirror_mode": {
    "name": "ipython",
    "version": 2
   },
   "file_extension": ".py",
   "mimetype": "text/x-python",
   "name": "python",
   "nbconvert_exporter": "python",
   "pygments_lexer": "ipython2",
   "version": "2.7.6"
  }
 },
 "nbformat": 4,
 "nbformat_minor": 0
}
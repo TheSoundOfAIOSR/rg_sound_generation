{
 "cells": [
  {
   "cell_type": "code",
   "execution_count": 1,
   "metadata": {
    "collapsed": true,
    "pycharm": {
     "name": "#%%\n"
    }
   },
   "outputs": [],
   "source": [
    "%matplotlib inline\n",
    "\n",
    "import numpy as np\n",
    "\n",
    "from create_model_fb import create_model\n",
    "# from data_generator import DataGenerator\n",
    "from data_generator_fb import DataGenerator\n",
    "from config import get_config"
   ]
  },
  {
   "cell_type": "code",
   "execution_count": 2,
   "outputs": [
    {
     "name": "stderr",
     "output_type": "stream",
     "text": [
      "2021-06-06 14:39:06.586 | INFO     | data_generator_fb:__init__:32 - DataGenerator instantiated\n",
      "2021-06-06 14:39:06.588 | INFO     | data_generator_fb:preprocess:37 - Preprocessing examples\n",
      "100%|██████████| 10999/10999 [00:01<00:00, 10127.98it/s]\n",
      "2021-06-06 14:39:07.676 | INFO     | data_generator_fb:preprocess:65 - Examples in training set: 10999\n",
      "2021-06-06 14:39:07.677 | INFO     | data_generator_fb:preprocess:66 - Examples in validation set: 0\n",
      "2021-06-06 14:39:07.677 | INFO     | data_generator_fb:__init__:34 - Preprocessing complete\n"
     ]
    }
   ],
   "source": [
    "conf = get_config()\n",
    "batch_size = 4\n",
    "# f = \"bright_vs_dark\"\n",
    "# conf[\"features\"] = [f]\n",
    "conf[\"valid_split\"] = 0.0\n",
    "\n",
    "data_gen = DataGenerator(conf, batch_size)"
   ],
   "metadata": {
    "collapsed": false,
    "pycharm": {
     "name": "#%%\n"
    }
   }
  },
  {
   "cell_type": "code",
   "execution_count": 3,
   "outputs": [],
   "source": [
    "model = create_model(conf, data_gen.input_shapes)\n",
    "model.load_weights(\"checkpoints/fb_qualities_loss_0.3983_acc_0.34.h5\")"
   ],
   "metadata": {
    "collapsed": false,
    "pycharm": {
     "name": "#%%\n"
    }
   }
  },
  {
   "cell_type": "code",
   "execution_count": 4,
   "outputs": [],
   "source": [
    "data = iter(data_gen.generator(\"train\"))"
   ],
   "metadata": {
    "collapsed": false,
    "pycharm": {
     "name": "#%%\n"
    }
   }
  },
  {
   "cell_type": "code",
   "execution_count": 5,
   "outputs": [
    {
     "name": "stdout",
     "output_type": "stream",
     "text": [
      "==========\n",
      "[0 0 0 0 0 0 0 0 0 0 0 0]\n",
      "[0. 0. 1. 0. 1. 0. 0. 1. 0. 0. 0. 0.]\n",
      "==========\n",
      "[0 0 0 0 0 0 0 0 0 0 1 0]\n",
      "[0. 0. 1. 0. 0. 0. 0. 0. 0. 0. 1. 0.]\n",
      "==========\n",
      "[0 0 0 0 0 0 0 0 0 0 0 0]\n",
      "[0. 0. 1. 1. 1. 1. 0. 1. 0. 0. 0. 0.]\n",
      "==========\n",
      "[0 0 0 0 0 0 0 0 0 0 0 0]\n",
      "[1. 1. 0. 0. 0. 0. 1. 0. 0. 1. 0. 1.]\n"
     ]
    }
   ],
   "source": [
    "x, y = next(data)\n",
    "preds = model.predict(x)\n",
    "\n",
    "for index in range(0, batch_size):\n",
    "    print(\"=\"*10)\n",
    "    print((preds[index] > 0.5).astype(\"uint8\"))\n",
    "    print(y[\"output\"][index])"
   ],
   "metadata": {
    "collapsed": false,
    "pycharm": {
     "name": "#%%\n"
    }
   }
  },
  {
   "cell_type": "code",
   "execution_count": null,
   "outputs": [],
   "source": [],
   "metadata": {
    "collapsed": false,
    "pycharm": {
     "name": "#%%\n"
    }
   }
  }
 ],
 "metadata": {
  "kernelspec": {
   "display_name": "Python 3",
   "language": "python",
   "name": "python3"
  },
  "language_info": {
   "codemirror_mode": {
    "name": "ipython",
    "version": 2
   },
   "file_extension": ".py",
   "mimetype": "text/x-python",
   "name": "python",
   "nbconvert_exporter": "python",
   "pygments_lexer": "ipython2",
   "version": "2.7.6"
  }
 },
 "nbformat": 4,
 "nbformat_minor": 0
}
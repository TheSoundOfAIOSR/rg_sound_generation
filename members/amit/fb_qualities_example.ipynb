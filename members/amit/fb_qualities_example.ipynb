{
 "cells": [
  {
   "cell_type": "code",
   "execution_count": 1,
   "metadata": {
    "collapsed": true
   },
   "outputs": [],
   "source": [
    "from fb_qualities import find_fb_qualities\n",
    "from pprint import pprint"
   ]
  },
  {
   "cell_type": "code",
   "execution_count": 2,
   "outputs": [
    {
     "name": "stdout",
     "output_type": "stream",
     "text": [
      "['fb_dark', 'fb_warm']\n",
      "====================\n",
      "{}\n"
     ]
    }
   ],
   "source": [
    "sample_path = \"samples/guitar_acoustic_000-028-075.wav\"\n",
    "\n",
    "# Get just the found qualities back\n",
    "found_qualities, raw_values = find_fb_qualities(sample_path)\n",
    "\n",
    "pprint(found_qualities)\n",
    "print(\"=\" * 20)\n",
    "pprint(raw_values)"
   ],
   "metadata": {
    "collapsed": false,
    "pycharm": {
     "name": "#%%\n"
    }
   }
  },
  {
   "cell_type": "code",
   "execution_count": 3,
   "outputs": [
    {
     "name": "stdout",
     "output_type": "stream",
     "text": [
      "['fb_dark', 'fb_warm']\n",
      "====================\n",
      "{'fb_dark': {'r_thres_high': 0.2, 'r_thres_low': 0.0, 'ratio': 0.17368393},\n",
      " 'fb_warm': {'r_thres_high': 1.0, 'r_thres_low': 0.31, 'ratio': 0.4559548}}\n"
     ]
    }
   ],
   "source": [
    "# or get raw values along with the result\n",
    "found_qualities, raw_values = find_fb_qualities(sample_path,\n",
    "                                                raw_values=True)\n",
    "\n",
    "pprint(found_qualities)\n",
    "print(\"=\" * 20)\n",
    "pprint(raw_values)"
   ],
   "metadata": {
    "collapsed": false,
    "pycharm": {
     "name": "#%%\n"
    }
   }
  },
  {
   "cell_type": "code",
   "execution_count": 4,
   "outputs": [
    {
     "name": "stdout",
     "output_type": "stream",
     "text": [
      "['fb_dark', 'fb_warm']\n",
      "====================\n",
      "{'fb_boxy': {'r_thres_high': 1.0, 'r_thres_low': 0.34, 'ratio': 0.25711375},\n",
      " 'fb_bright': {'r_thres_high': 1.0, 'r_thres_low': 0.47, 'ratio': 0.2736982},\n",
      " 'fb_dark': {'r_thres_high': 0.2, 'r_thres_low': 0.0, 'ratio': 0.17368393},\n",
      " 'fb_full': {'r_thres_high': 1.0, 'r_thres_low': 0.6, 'ratio': 0.5906073},\n",
      " 'fb_harsh': {'r_thres_high': 1.0, 'r_thres_low': 0.65, 'ratio': 0.271103},\n",
      " 'fb_hollow': {'r_thres_high': 0.39, 'r_thres_low': 0.0, 'ratio': 0.65868855},\n",
      " 'fb_honky': {'r_thres_high': 1.0, 'r_thres_low': 0.43, 'ratio': 0.1712808},\n",
      " 'fb_muddy': {'r_thres_high': 1.0, 'r_thres_low': 0.46, 'ratio': 0.4559548},\n",
      " 'fb_sibilance': {'r_thres_high': 1.0,\n",
      "                  'r_thres_low': 0.21,\n",
      "                  'ratio': 0.111967035},\n",
      " 'fb_thin': {'r_thres_high': 0.08, 'r_thres_low': 0.0, 'ratio': 0.4559548},\n",
      " 'fb_tinny': {'r_thres_high': 1.0, 'r_thres_low': 0.24, 'ratio': 0.08506228},\n",
      " 'fb_warm': {'r_thres_high': 1.0, 'r_thres_low': 0.31, 'ratio': 0.4559548}}\n"
     ]
    }
   ],
   "source": [
    "# or get raw values of all the fb qualities along with the result\n",
    "found_qualities, raw_values = find_fb_qualities(sample_path,\n",
    "                                                raw_values=True,\n",
    "                                                return_all=True)\n",
    "\n",
    "pprint(found_qualities)\n",
    "print(\"=\" * 20)\n",
    "pprint(raw_values)\n"
   ],
   "metadata": {
    "collapsed": false,
    "pycharm": {
     "name": "#%%\n"
    }
   }
  },
  {
   "cell_type": "code",
   "execution_count": 4,
   "outputs": [],
   "source": [],
   "metadata": {
    "collapsed": false,
    "pycharm": {
     "name": "#%%\n"
    }
   }
  }
 ],
 "metadata": {
  "kernelspec": {
   "display_name": "Python 3",
   "language": "python",
   "name": "python3"
  },
  "language_info": {
   "codemirror_mode": {
    "name": "ipython",
    "version": 2
   },
   "file_extension": ".py",
   "mimetype": "text/x-python",
   "name": "python",
   "nbconvert_exporter": "python",
   "pygments_lexer": "ipython2",
   "version": "2.7.6"
  }
 },
 "nbformat": 4,
 "nbformat_minor": 0
}
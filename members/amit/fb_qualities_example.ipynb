{
 "cells": [
  {
   "cell_type": "code",
   "execution_count": null,
   "metadata": {},
   "outputs": [],
   "source": [
    "import os\n",
    "import random\n",
    "from fb_qualities import find_fb_qualities\n",
    "from pprint import pprint\n",
    "from IPython.display import Audio\n",
    "from tqdm import tqdm"
   ]
  },
  {
   "cell_type": "code",
   "execution_count": null,
   "metadata": {
    "pycharm": {
     "name": "#%%\n"
    }
   },
   "outputs": [],
   "source": [
    "base_dir = \"D:\\soundofai\\\\all_nsynth_audio\"\n",
    "files = [x for x in os.listdir(base_dir) if x.lower().endswith(\".wav\")]\n",
    "print(len(files))"
   ]
  },
  {
   "cell_type": "code",
   "execution_count": null,
   "metadata": {
    "pycharm": {
     "name": "#%%\n"
    }
   },
   "outputs": [],
   "source": [
    "raw_values = {\n",
    "    \"file\": [],\n",
    "    \"pitch\": []\n",
    "}\n",
    "\n",
    "for i, file in tqdm(enumerate(files)):\n",
    "    _, pitch, _ = file.split(\"-\")\n",
    "    pitch = int(pitch)\n",
    "    if 36 <= pitch <= 84:\n",
    "        file_path = os.path.join(base_dir, file)\n",
    "        _, raw = find_fb_qualities(file_path, raw_values=True,\n",
    "                                   return_all=True)\n",
    "        for key, value in raw.items():\n",
    "            if f\"{key}_ratio\" not in raw_values:\n",
    "                raw_values[f\"{key}_ratio\"] = []\n",
    "            if f\"{key}_band_amp\" not in raw_values:\n",
    "                raw_values[f\"{key}_band_amp\"] = []\n",
    "            if f\"{key}_total_amp\" not in raw_values:\n",
    "                raw_values[f\"{key}_total_amp\"] = []\n",
    "            raw_values[f\"{key}_ratio\"].append(value[\"ratio\"])\n",
    "            raw_values[f\"{key}_band_amp\"].append(value[\"band_amp\"])\n",
    "            raw_values[f\"{key}_total_amp\"].append(value[\"total_amp\"])\n",
    "        raw_values[\"file\"].append(file)\n",
    "        raw_values[\"pitch\"].append(pitch)"
   ]
  },
  {
   "cell_type": "code",
   "execution_count": null,
   "metadata": {
    "pycharm": {
     "name": "#%%\n"
    }
   },
   "outputs": [],
   "source": [
    "import pandas as pd\n",
    "\n",
    "df = pd.DataFrame(raw_values)\n",
    "df.head()"
   ]
  },
  {
   "cell_type": "code",
   "execution_count": null,
   "metadata": {
    "pycharm": {
     "name": "#%%\n"
    }
   },
   "outputs": [],
   "source": [
    "df.to_csv(\"fb_ratios.csv\")"
   ]
  },
  {
   "cell_type": "code",
   "execution_count": null,
   "metadata": {
    "pycharm": {
     "name": "#%%\n"
    }
   },
   "outputs": [],
   "source": [
    "# Get just the found qualities back\n",
    "file_path = os.path.join(base_dir, random.choice(files))\n",
    "found_qualities, raw_values = find_fb_qualities(file_path)\n",
    "\n",
    "Audio(file_path, rate=16000)"
   ]
  },
  {
   "cell_type": "code",
   "execution_count": null,
   "metadata": {
    "pycharm": {
     "name": "#%%\n"
    }
   },
   "outputs": [],
   "source": [
    "pprint(found_qualities)\n",
    "print(\"=\" * 20)\n",
    "pprint(raw_values)"
   ]
  },
  {
   "cell_type": "code",
   "execution_count": null,
   "metadata": {
    "pycharm": {
     "name": "#%%\n"
    }
   },
   "outputs": [],
   "source": [
    "# or get raw values along with the result\n",
    "found_qualities, raw_values = find_fb_qualities(file_path,\n",
    "                                                raw_values=True)\n",
    "\n",
    "pprint(found_qualities)\n",
    "print(\"=\" * 20)\n",
    "pprint(raw_values)"
   ]
  },
  {
   "cell_type": "code",
   "execution_count": null,
   "metadata": {
    "pycharm": {
     "name": "#%%\n"
    }
   },
   "outputs": [],
   "source": [
    "# or get raw values of all the fb qualities along with the result\n",
    "found_qualities, raw_values = find_fb_qualities(file_path,\n",
    "                                                raw_values=True,\n",
    "                                                return_all=True)\n",
    "\n",
    "pprint(found_qualities)\n",
    "print(\"=\" * 20)\n",
    "pprint(raw_values)\n"
   ]
  },
  {
   "cell_type": "code",
   "execution_count": null,
   "metadata": {
    "pycharm": {
     "name": "#%%\n"
    }
   },
   "outputs": [],
   "source": [
    "import shutil\n",
    "\n",
    "target_dir = \"D:\\soundofai\\\\blindtest\"\n",
    "gt = \"D:\\soundofai\\\\blindtest\\\\gt.txt\"\n",
    "\n",
    "f = open(gt, \"w\")\n",
    "\n",
    "for i in range(0, 25):\n",
    "    fn = random.choice(files)\n",
    "    file_path = os.path.join(base_dir, fn)\n",
    "    found_qualities, _ = find_fb_qualities(file_path)\n",
    "    found_qualities_str = \",\".join(found_qualities)\n",
    "    f.write(f\"{i}:{fn}:{found_qualities_str}\\n\")\n",
    "    target_path = os.path.join(target_dir, f\"{i}.wav\")\n",
    "    shutil.copy(file_path, target_path)\n",
    "\n",
    "f.close()"
   ]
  },
  {
   "cell_type": "code",
   "execution_count": null,
   "metadata": {
    "pycharm": {
     "name": "#%%\n"
    }
   },
   "outputs": [],
   "source": []
  },
  {
   "cell_type": "code",
   "execution_count": null,
   "metadata": {},
   "outputs": [],
   "source": []
  },
  {
   "cell_type": "code",
   "execution_count": null,
   "metadata": {},
   "outputs": [],
   "source": []
  },
  {
   "cell_type": "code",
   "execution_count": null,
   "metadata": {},
   "outputs": [],
   "source": []
  },
  {
   "cell_type": "code",
   "execution_count": 1,
   "metadata": {},
   "outputs": [],
   "source": [
    "import numpy as np\n",
    "import fb_qualities\n",
    "import os"
   ]
  },
  {
   "cell_type": "code",
   "execution_count": 2,
   "metadata": {},
   "outputs": [],
   "source": [
    "base_dir = \"D:\\soundofai\\\\all_nsynth_audio\"\n",
    "files = [x for x in os.listdir(base_dir) if x.lower().endswith(\".wav\")]"
   ]
  },
  {
   "cell_type": "code",
   "execution_count": 76,
   "metadata": {},
   "outputs": [],
   "source": [
    "f = np.random.choice(files)\n",
    "file_path = os.path.join(base_dir, f)"
   ]
  },
  {
   "cell_type": "code",
   "execution_count": 4,
   "metadata": {},
   "outputs": [],
   "source": [
    "import matplotlib.pyplot as plt"
   ]
  },
  {
   "cell_type": "code",
   "execution_count": 92,
   "metadata": {},
   "outputs": [
    {
     "data": {
      "image/png": "[encoded data removed]",
      "text/plain": [
       "<Figure size 432x288 with 2 Axes>"
      ]
     },
     "metadata": {
      "needs_background": "light"
     },
     "output_type": "display_data"
    }
   ],
   "source": [
    "_, a = wavfile.read(file_path)\n",
    "s = fb_qualities.get_spectrogram(a)\n",
    "\n",
    "max_time = s.shape[-1]\n",
    "max_time = int(max_time / 2)\n",
    "s = s[:, :max_time]\n",
    "\n",
    "plt.imshow(s)\n",
    "plt.colorbar();"
   ]
  },
  {
   "cell_type": "code",
   "execution_count": 93,
   "metadata": {},
   "outputs": [],
   "source": [
    "import tensorflow as tf"
   ]
  },
  {
   "cell_type": "code",
   "execution_count": 94,
   "metadata": {},
   "outputs": [],
   "source": [
    "s_composite = tf.reduce_mean(s, axis=-1)"
   ]
  },
  {
   "cell_type": "code",
   "execution_count": 95,
   "metadata": {},
   "outputs": [],
   "source": [
    "s_range = len(s_composite)\n",
    "\n",
    "PI = np.pi\n",
    "\n",
    "timestep_to_angle = lambda t: (t/s_range) * PI\n",
    "\n",
    "circle_range = [timestep_to_angle(i) for i in range(0, s_range)]\n",
    "circle = np.sin(circle_range)"
   ]
  },
  {
   "cell_type": "code",
   "execution_count": 96,
   "metadata": {},
   "outputs": [],
   "source": [
    "result = s_composite * circle"
   ]
  },
  {
   "cell_type": "code",
   "execution_count": 97,
   "metadata": {},
   "outputs": [
    {
     "data": {
      "image/png": "[encoded data removed]",
      "text/plain": [
       "<Figure size 432x288 with 2 Axes>"
      ]
     },
     "metadata": {
      "needs_background": "light"
     },
     "output_type": "display_data"
    }
   ],
   "source": [
    "ylim = [np.min(s_composite), np.max(s_composite)]\n",
    "\n",
    "plt.subplot(2, 1, 1)\n",
    "plt.plot(s_composite)\n",
    "plt.plot(result)\n",
    "plt.ylim(ylim)\n",
    "\n",
    "plt.subplot(2, 1, 2)\n",
    "plt.plot(circle)\n",
    "\n",
    "plt.show()"
   ]
  },
  {
   "cell_type": "code",
   "execution_count": 98,
   "metadata": {},
   "outputs": [
    {
     "data": {
      "text/plain": [
       "(64000,)"
      ]
     },
     "execution_count": 98,
     "metadata": {},
     "output_type": "execute_result"
    }
   ],
   "source": [
    "a.shape"
   ]
  },
  {
   "cell_type": "code",
   "execution_count": 99,
   "metadata": {},
   "outputs": [
    {
     "data": {
      "text/plain": [
       "-1.465359375"
      ]
     },
     "execution_count": 99,
     "metadata": {},
     "output_type": "execute_result"
    }
   ],
   "source": [
    "a.mean()"
   ]
  },
  {
   "cell_type": "code",
   "execution_count": 100,
   "metadata": {},
   "outputs": [],
   "source": [
    "from scipy.io import wavfile"
   ]
  },
  {
   "cell_type": "code",
   "execution_count": 101,
   "metadata": {},
   "outputs": [],
   "source": [
    "sr, audio = wavfile.read(file_path)"
   ]
  },
  {
   "cell_type": "code",
   "execution_count": 102,
   "metadata": {},
   "outputs": [
    {
     "data": {
      "text/plain": [
       "(64000,)"
      ]
     },
     "execution_count": 102,
     "metadata": {},
     "output_type": "execute_result"
    }
   ],
   "source": [
    "audio.shape"
   ]
  },
  {
   "cell_type": "code",
   "execution_count": 103,
   "metadata": {},
   "outputs": [
    {
     "data": {
      "text/plain": [
       "-1.465359375"
      ]
     },
     "execution_count": 103,
     "metadata": {},
     "output_type": "execute_result"
    }
   ],
   "source": [
    "np.mean(audio)"
   ]
  },
  {
   "cell_type": "code",
   "execution_count": 88,
   "metadata": {},
   "outputs": [
    {
     "data": {
      "text/plain": [
       "-4.4719218e-05"
      ]
     },
     "execution_count": 88,
     "metadata": {},
     "output_type": "execute_result"
    }
   ],
   "source": [
    "np.mean(a)"
   ]
  },
  {
   "cell_type": "code",
   "execution_count": 90,
   "metadata": {},
   "outputs": [
    {
     "data": {
      "text/plain": [
       "dtype('int16')"
      ]
     },
     "execution_count": 90,
     "metadata": {},
     "output_type": "execute_result"
    }
   ],
   "source": [
    "audio.dtype"
   ]
  },
  {
   "cell_type": "code",
   "execution_count": 91,
   "metadata": {},
   "outputs": [
    {
     "data": {
      "text/plain": [
       "dtype('float32')"
      ]
     },
     "execution_count": 91,
     "metadata": {},
     "output_type": "execute_result"
    }
   ],
   "source": [
    "a.dtype"
   ]
  },
  {
   "cell_type": "code",
   "execution_count": null,
   "metadata": {},
   "outputs": [],
   "source": []
  }
 ],
 "metadata": {
  "kernelspec": {
   "display_name": "Python 3",
   "language": "python",
   "name": "python3"
  },
  "language_info": {
   "codemirror_mode": {
    "name": "ipython",
    "version": 3
   },
   "file_extension": ".py",
   "mimetype": "text/x-python",
   "name": "python",
   "nbconvert_exporter": "python",
   "pygments_lexer": "ipython3",
   "version": "3.8.5"
  }
 },
 "nbformat": 4,
 "nbformat_minor": 1
}

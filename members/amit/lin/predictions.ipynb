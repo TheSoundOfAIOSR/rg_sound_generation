{
 "cells": [
  {
   "cell_type": "code",
   "execution_count": 1,
   "metadata": {
    "collapsed": true
   },
   "outputs": [],
   "source": [
    "from model import create_model\n",
    "from train import data_generator, split_data"
   ]
  },
  {
   "cell_type": "code",
   "execution_count": 2,
   "outputs": [],
   "source": [
    "m = create_model()\n",
    "m.load_weights(\"checkpoints/val_loss_0.0559.h5\")"
   ],
   "metadata": {
    "collapsed": false,
    "pycharm": {
     "name": "#%%\n"
    }
   }
  },
  {
   "cell_type": "code",
   "execution_count": 3,
   "outputs": [
    {
     "name": "stderr",
     "output_type": "stream",
     "text": [
      "2021-05-19 21:26:35.572 | INFO     | data_loader:load_data:11 - loading csv file\n",
      "2021-05-19 21:26:35.586 | INFO     | data_loader:load_data:16 - creating examples\n",
      "2021-05-19 21:26:35.933 | INFO     | data_loader:load_data:43 - normalizing examples\n"
     ]
    }
   ],
   "source": [
    "train, _ = split_data(0)"
   ],
   "metadata": {
    "collapsed": false,
    "pycharm": {
     "name": "#%%\n"
    }
   }
  },
  {
   "cell_type": "code",
   "execution_count": 4,
   "outputs": [],
   "source": [
    "data_iter = data_generator(train, 1)"
   ],
   "metadata": {
    "collapsed": false,
    "pycharm": {
     "name": "#%%\n"
    }
   }
  },
  {
   "cell_type": "code",
   "execution_count": 11,
   "outputs": [
    {
     "name": "stdout",
     "output_type": "stream",
     "text": [
      "0.68 0.3902028\n",
      "0.55 0.4404823\n",
      "0.4 0.42591882\n",
      "0.57 0.504571\n",
      "0.26 0.41786227\n",
      "0.31 0.49862507\n",
      "0.44 0.43778867\n",
      "0.6 0.40879446\n",
      "0.57 0.4817834\n"
     ]
    }
   ],
   "source": [
    "example, label = next(data_iter)\n",
    "pred = m.predict(example)\n",
    "\n",
    "for i in range(0, 9):\n",
    "    print(label[0][i], pred[0][i])"
   ],
   "metadata": {
    "collapsed": false,
    "pycharm": {
     "name": "#%%\n"
    }
   }
  },
  {
   "cell_type": "code",
   "execution_count": null,
   "outputs": [],
   "source": [],
   "metadata": {
    "collapsed": false,
    "pycharm": {
     "name": "#%%\n"
    }
   }
  }
 ],
 "metadata": {
  "kernelspec": {
   "display_name": "Python 3",
   "language": "python",
   "name": "python3"
  },
  "language_info": {
   "codemirror_mode": {
    "name": "ipython",
    "version": 2
   },
   "file_extension": ".py",
   "mimetype": "text/x-python",
   "name": "python",
   "nbconvert_exporter": "python",
   "pygments_lexer": "ipython2",
   "version": "2.7.6"
  }
 },
 "nbformat": 4,
 "nbformat_minor": 0
}
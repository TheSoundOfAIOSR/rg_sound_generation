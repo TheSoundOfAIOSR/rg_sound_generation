{
 "cells": [
  {
   "cell_type": "markdown",
   "id": "d5f59eb8",
   "metadata": {},
   "source": [
    "Import the `fb_qualities` module"
   ]
  },
  {
   "cell_type": "code",
   "execution_count": 1,
   "id": "d87f8123",
   "metadata": {},
   "outputs": [],
   "source": [
    "import os\n",
    "import fb_qualities"
   ]
  },
  {
   "cell_type": "markdown",
   "id": "bf2e74ab",
   "metadata": {},
   "source": [
    "Create and build an instance of `FBQualities` class. Building it loads default qualities and thersholds from `list_of_fb_qualities.csv`"
   ]
  },
  {
   "cell_type": "code",
   "execution_count": 3,
   "id": "d6221c47",
   "metadata": {},
   "outputs": [],
   "source": [
    "path_to_guitar_sample = \"d:/soundofai/all_nsynth_audio/guitar_acoustic_000-073-127.wav\"\n",
    "\n",
    "fbq = fb_qualities.FBQualities()\n",
    "fbq.build()"
   ]
  },
  {
   "cell_type": "markdown",
   "id": "a8627c62",
   "metadata": {},
   "source": [
    "Load audio and find which categories does it belong to according to current thresholds"
   ]
  },
  {
   "cell_type": "code",
   "execution_count": 4,
   "id": "3ecfa541",
   "metadata": {},
   "outputs": [
    {
     "data": {
      "text/plain": [
       "['thin', 'bright', 'tinny']"
      ]
     },
     "execution_count": 4,
     "metadata": {},
     "output_type": "execute_result"
    }
   ],
   "source": [
    "audio = fb_qualities.get_audio(path_to_guitar_sample)\n",
    "\n",
    "fbq.get_qualities_for(audio)"
   ]
  },
  {
   "cell_type": "markdown",
   "id": "1ab06b45",
   "metadata": {},
   "source": [
    "We can also look at ratios for specific qualities"
   ]
  },
  {
   "cell_type": "code",
   "execution_count": 5,
   "id": "52f2914c",
   "metadata": {},
   "outputs": [
    {
     "data": {
      "text/plain": [
       "0.07245543"
      ]
     },
     "execution_count": 5,
     "metadata": {},
     "output_type": "execute_result"
    }
   ],
   "source": [
    "fbq.thin.get_ratio(audio)"
   ]
  },
  {
   "cell_type": "code",
   "execution_count": 6,
   "id": "9c704863",
   "metadata": {},
   "outputs": [
    {
     "data": {
      "text/plain": [
       "0.5402983"
      ]
     },
     "execution_count": 6,
     "metadata": {},
     "output_type": "execute_result"
    }
   ],
   "source": [
    "fbq.bright.get_ratio(audio)"
   ]
  },
  {
   "cell_type": "markdown",
   "id": "bb896fca",
   "metadata": {},
   "source": [
    "If you need to change any thresholds in the default csv, you will have to rebuild the fbq instance. For example, after changing `thres_low` to `0.6` for the quality `bright` in the csv, we get the following result"
   ]
  },
  {
   "cell_type": "code",
   "execution_count": 7,
   "id": "99786d17",
   "metadata": {},
   "outputs": [
    {
     "data": {
      "text/plain": [
       "['thin', 'tinny']"
      ]
     },
     "execution_count": 7,
     "metadata": {},
     "output_type": "execute_result"
    }
   ],
   "source": [
    "fbq.rebuild()\n",
    "\n",
    "fbq.get_qualities_for(audio)"
   ]
  },
  {
   "cell_type": "markdown",
   "id": "ac26da0e",
   "metadata": {},
   "source": [
    "Now `bright` does not satisfy the threshold anymore"
   ]
  },
  {
   "cell_type": "code",
   "execution_count": null,
   "id": "db2f36e3",
   "metadata": {},
   "outputs": [],
   "source": []
  }
 ],
 "metadata": {
  "kernelspec": {
   "display_name": "Python 3",
   "language": "python",
   "name": "python3"
  },
  "language_info": {
   "codemirror_mode": {
    "name": "ipython",
    "version": 3
   },
   "file_extension": ".py",
   "mimetype": "text/x-python",
   "name": "python",
   "nbconvert_exporter": "python",
   "pygments_lexer": "ipython3",
   "version": "3.8.5"
  }
 },
 "nbformat": 4,
 "nbformat_minor": 5
}

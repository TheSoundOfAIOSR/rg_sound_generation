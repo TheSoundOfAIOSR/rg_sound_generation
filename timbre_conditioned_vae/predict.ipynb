{
 "cells": [
  {
   "cell_type": "markdown",
   "metadata": {},
   "source": [
    "# Sound Generation\n",
    "\n",
    "## Overview\n",
    "\n",
    "![System](docs/SG_System.jpg)\n",
    "\n",
    "## Encoder\n",
    "\n",
    "![Encoder](docs/SG_Encoder.jpg)\n",
    "\n",
    "## Decoder\n",
    "\n",
    "![Decoder](docs/SG_Decoder.jpg)"
   ]
  },
  {
   "cell_type": "code",
   "execution_count": null,
   "metadata": {
    "pycharm": {
     "name": "#%%\n"
    }
   },
   "outputs": [],
   "source": [
    "import os\n",
    "os.environ[\"CUDA_VISIBLE_DEVICES\"] = \"-1\"\n",
    "import numpy as np\n",
    "import soundfile as sf\n",
    "import tsms\n",
    "from tcvae import dataset, localconfig, model\n",
    "from tcvae.compute_measures import heuristic_names\n",
    "from IPython.display import Audio"
   ]
  },
  {
   "cell_type": "markdown",
   "metadata": {},
   "source": [
    "## Load Config, Data and Model"
   ]
  },
  {
   "cell_type": "code",
   "execution_count": null,
   "metadata": {
    "pycharm": {
     "name": "#%%\n"
    }
   },
   "outputs": [],
   "source": [
    "conf = localconfig.LocalConfig()\n",
    "conf.load_config_from_file(\"checkpoints/mt_no_phase/conf.txt\")\n",
    "\n",
    "conf.dataset_dir = \"complete_dataset\"\n",
    "conf.batch_size = 1\n",
    "\n",
    "measure_to_index = dict((n, i) for i, n in enumerate(heuristic_names))\n",
    "index_to_measure = dict((v, k) for k, v in measure_to_index.items())\n",
    "\n",
    "print(\"Configuration loaded\")\n",
    "\n",
    "_, valid, test = dataset.get_dataset(conf)\n",
    "test_iter = iter(test)\n",
    "valid_iter = iter(valid)\n",
    "\n",
    "print(\"Data loaded\")\n",
    "\n",
    "mt_model = model.MtVae(conf)\n",
    "_ = mt_model(next(valid_iter))\n",
    "\n",
    "mt_model.load_weights(\"checkpoints/mt_no_phase/74_mt_no_phase_0.01227.h5\")\n",
    "\n",
    "print(\"Model loaded\")"
   ]
  },
  {
   "cell_type": "markdown",
   "metadata": {},
   "source": [
    "## Helper Functions"
   ]
  },
  {
   "cell_type": "code",
   "execution_count": null,
   "metadata": {
    "pycharm": {
     "name": "#%%\n"
    }
   },
   "outputs": [],
   "source": [
    "def change_params(batch, params):\n",
    "    note_number = params.get(\"note_number\")\n",
    "    velocity = params.get(\"velocity\")\n",
    "    measures = params.get(\"measures\")\n",
    "    \n",
    "    original_note = np.argmax(batch[\"note_number\"], axis=-1)[0] + conf.starting_midi_pitch\n",
    "    original_vel = (np.argmax(batch[\"velocity\"], axis=-1)[0] + 1) * 25\n",
    "    original_measures = batch[\"measures\"]\n",
    "    \n",
    "    if note_number is not None:\n",
    "        assert 40 <= note_number <= 88\n",
    "        print(f\"note_number changed from {original_note} to {note_number}\")\n",
    "        note_number -= conf.starting_midi_pitch\n",
    "        updated_note = np.zeros((1, conf.num_pitches))\n",
    "        updated_note[:, note_number] = 1.\n",
    "        batch[\"note_number\"] = updated_note\n",
    "    if velocity is not None:\n",
    "        assert 25 <= velocity <= 127\n",
    "        print(f\"velocity changed from {original_vel} to {velocity}\")\n",
    "        velocity = int(velocity / 25 - 1)\n",
    "        updated_vel = np.zeros((1, conf.num_velocities))\n",
    "        updated_vel[:, velocity] = 1.\n",
    "        batch[\"velocity\"] = updated_vel\n",
    "    if measure_to_index is not None:\n",
    "        if bool(measures):\n",
    "            updated_measures = original_measures.numpy()\n",
    "            for m, val in measures.items():\n",
    "                assert m in heuristic_names\n",
    "                original_value = updated_measures[:, measure_to_index[m]][0]\n",
    "                print(f\"{m} changed from {original_value} to {val}\")\n",
    "                updated_measures[:, measure_to_index[m]] = val\n",
    "            batch[\"measures\"] = updated_measures\n",
    "    return batch\n",
    "\n",
    "\n",
    "def get_prediction(batch, conf, prediction=None):\n",
    "    batch = batch.copy()\n",
    "    pred = True if prediction is not None else False\n",
    "    transform_input = prediction if prediction is not None else batch\n",
    "    note_number = np.argmax(batch[\"note_number\"], axis=-1) + conf.starting_midi_pitch\n",
    "    transform = conf.data_handler.output_transform(transform_input, pred=pred)\n",
    "    f, m, p = conf.data_handler.denormalize(transform, batch[\"mask\"], note_number)\n",
    "    audio = tsms.core.harmonic_synthesis(f, m, p, conf.sample_rate, conf.frame_size)\n",
    "    return np.squeeze(audio.numpy())\n",
    "\n",
    "\n",
    "def get_audios(batch, update_params=None, use_encoder=True):\n",
    "    batch = batch.copy()\n",
    "    audio_gt = get_prediction(batch, conf, prediction=None)\n",
    "    \n",
    "    if use_encoder:\n",
    "        batch[\"z\"] = mt_model.encoder.predict(batch)\n",
    "    \n",
    "    if update_params is not None:\n",
    "        batch = change_params(batch, update_params)\n",
    "        if \"z\" in update_params:\n",
    "            updated_z = update_params.get(\"z\")\n",
    "            updated_z = np.expand_dims(z, axis=0)\n",
    "            assert updated_z.shape == (1, 16)\n",
    "            print(\"Updating Z from user input\")\n",
    "            batch[\"z\"] = updated_z\n",
    "    \n",
    "    if \"z\" not in batch:\n",
    "        print(\"Updating z from random values\")\n",
    "        batch[\"z\"] = np.random.rand(1, 16)\n",
    "    \n",
    "    prediction = mt_model.decoder.predict(batch)\n",
    "    audio_pred = get_prediction(batch, conf, prediction=prediction)\n",
    "\n",
    "    return audio_pred, audio_gt"
   ]
  },
  {
   "cell_type": "markdown",
   "metadata": {},
   "source": [
    "## Get Predictions"
   ]
  },
  {
   "cell_type": "code",
   "execution_count": null,
   "metadata": {},
   "outputs": [],
   "source": [
    "batch = next(valid_iter)"
   ]
  },
  {
   "cell_type": "code",
   "execution_count": null,
   "metadata": {},
   "outputs": [],
   "source": [
    "update_params = {\n",
    "    # \"note_number\": 49,\n",
    "    # \"velocity\": 127,\n",
    "    \"measures\": {\n",
    "        # \"bass\": 1.,\n",
    "        # \"mid\": 1.,\n",
    "        # \"high_mid\": 0.,\n",
    "        # \"high\": 1.,\n",
    "        # \"inharmonicity\": 1.,\n",
    "        # \"even_odd\": 1.,\n",
    "        # \"sparse_rich\": 1.,\n",
    "        # \"decay_time\": 0.3\n",
    "    }\n",
    "}\n",
    "\n",
    "audio_pred, audio_gt = get_audios(batch, update_params, use_encoder=False)"
   ]
  },
  {
   "cell_type": "code",
   "execution_count": null,
   "metadata": {
    "pycharm": {
     "name": "#%%\n"
    }
   },
   "outputs": [],
   "source": [
    "Audio(audio_gt, rate=conf.sample_rate)"
   ]
  },
  {
   "cell_type": "code",
   "execution_count": null,
   "metadata": {},
   "outputs": [],
   "source": [
    "Audio(audio_pred, rate=conf.sample_rate)"
   ]
  },
  {
   "cell_type": "markdown",
   "metadata": {
    "pycharm": {
     "name": "#%% md\n"
    }
   },
   "source": [
    "\n",
    "## Export Audio Files"
   ]
  },
  {
   "cell_type": "code",
   "execution_count": null,
   "metadata": {
    "pycharm": {
     "name": "#%%\n"
    }
   },
   "outputs": [],
   "source": [
    "test_iter = iter(test)\n",
    "\n",
    "def write_audio(audio, conf, audio_path):\n",
    "    audio = audio / np.max(np.abs(audio))\n",
    "    sf.write(audio_path, audio, samplerate=conf.sample_rate)\n",
    "\n",
    "\n",
    "for i in range(0, 20):\n",
    "    batch = next(test_iter)\n",
    "\n",
    "    audio_pred, audio_gt = get_pred_and_get(batch)\n",
    "\n",
    "    true_path = os.path.join(os.getcwd(), \"predictions\", f\"{i}_true.wav\")\n",
    "    pred_path = os.path.join(os.getcwd(), \"predictions\", f\"{i}_pred.wav\")\n",
    "\n",
    "    write_audio(audio_pred, conf, pred_path)\n",
    "    write_audio(audio_gt, conf, true_path)\n",
    "\n",
    "    print(i)"
   ]
  }
 ],
 "metadata": {
  "colab": {
   "collapsed_sections": [],
   "name": "predict.ipynb",
   "provenance": []
  },
  "kernelspec": {
   "display_name": "Python 3",
   "language": "python",
   "name": "python3"
  },
  "language_info": {
   "codemirror_mode": {
    "name": "ipython",
    "version": 3
   },
   "file_extension": ".py",
   "mimetype": "text/x-python",
   "name": "python",
   "nbconvert_exporter": "python",
   "pygments_lexer": "ipython3",
   "version": "3.8.5"
  }
 },
 "nbformat": 4,
 "nbformat_minor": 1
}

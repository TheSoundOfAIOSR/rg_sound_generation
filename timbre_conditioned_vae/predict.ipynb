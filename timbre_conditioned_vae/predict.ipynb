{
 "nbformat": 4,
 "nbformat_minor": 0,
 "metadata": {
  "kernelspec": {
   "display_name": "Python 3",
   "language": "python",
   "name": "python3"
  },
  "language_info": {
   "codemirror_mode": {
    "name": "ipython",
    "version": 2
   },
   "file_extension": ".py",
   "mimetype": "text/x-python",
   "name": "python",
   "nbconvert_exporter": "python",
   "pygments_lexer": "ipython2",
   "version": "2.7.6"
  },
  "colab": {
   "name": "predict.ipynb",
   "provenance": [],
   "collapsed_sections": []
  }
 },
 "cells": [
  {
   "cell_type": "code",
   "execution_count": null,
   "outputs": [],
   "source": [
    "import os\n",
    "os.environ[\"CUDA_VISIBLE_DEVICES\"] = \"-1\"\n",
    "import numpy as np\n",
    "from tcvae import predict, dataset, localconfig\n"
   ],
   "metadata": {
    "collapsed": false,
    "pycharm": {
     "name": "#%%\n"
    }
   }
  },
  {
   "cell_type": "code",
   "execution_count": null,
   "outputs": [],
   "source": [
    "conf = localconfig.LocalConfig()\n",
    "conf.load_config_from_file(\n",
    "    \"checkpoints/cnn_ae5_2d/Default_cnn_ae5_2d.json\"\n",
    ")\n",
    "conf.dataset_dir = \"complete_dataset\"\n",
    "conf.batch_size = 1\n",
    "\n",
    "_, _, test = dataset.get_dataset(conf)\n",
    "test_iter = iter(test)"
   ],
   "metadata": {
    "collapsed": false,
    "pycharm": {
     "name": "#%%\n"
    }
   }
  },
  {
   "cell_type": "code",
   "execution_count": null,
   "outputs": [],
   "source": [
    "_model = predict.load_model(\n",
    "    conf,\n",
    "    \"checkpoints/cnn_ae5_2d/79_cnn_ae5_2d_0.01495.h5\"\n",
    ")"
   ],
   "metadata": {
    "collapsed": false,
    "pycharm": {
     "name": "#%%\n"
    }
   }
  },
  {
   "cell_type": "markdown",
   "source": [
    "## Export Some Examples"
   ],
   "metadata": {
    "collapsed": false
   }
  },
  {
   "cell_type": "code",
   "execution_count": null,
   "outputs": [],
   "source": [
    "import soundfile as sf\n",
    "import tsms\n",
    "\n",
    "\n",
    "def write_audio(h_freq, h_mag, h_phase, conf, audio_path):\n",
    "    audio = tsms.core.harmonic_synthesis(\n",
    "        h_freq, h_mag, h_phase, conf.sample_rate, conf.frame_size)\n",
    "    audio = np.squeeze(audio.numpy())\n",
    "    audio = audio / np.max(np.abs(audio))\n",
    "    sf.write(audio_path, audio, samplerate=conf.sample_rate)\n",
    "\n",
    "\n",
    "for i in range(0, 20):\n",
    "    batch = next(test_iter)\n",
    "    (h_freq_true, h_mag_true, h_phase_true,\n",
    "     h_freq_pred, h_mag_pred, h_phase_pred) = predict.get_prediction(_model, batch, conf)\n",
    "\n",
    "    true_path = os.path.join(os.getcwd(), \"predictions\", f\"{i}_true.wav\")\n",
    "    pred_path = os.path.join(os.getcwd(), \"predictions\", f\"{i}_pred.wav\")\n",
    "\n",
    "    write_audio(h_freq_true, h_mag_true, h_phase_true, conf, true_path)\n",
    "    write_audio(h_freq_pred, h_mag_pred, h_phase_pred, conf, pred_path)\n",
    "\n",
    "    print(i)"
   ],
   "metadata": {
    "collapsed": false,
    "pycharm": {
     "name": "#%%\n"
    }
   }
  },
  {
   "cell_type": "code",
   "execution_count": null,
   "outputs": [],
   "source": [],
   "metadata": {
    "collapsed": false,
    "pycharm": {
     "name": "#%%\n"
    }
   }
  }
 ]
}
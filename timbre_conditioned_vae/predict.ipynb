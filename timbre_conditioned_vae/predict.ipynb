{
 "cells": [
  {
   "cell_type": "code",
   "execution_count": 2,
   "metadata": {
    "collapsed": true
   },
   "outputs": [
    {
     "name": "stderr",
     "output_type": "stream",
     "text": [
      "WARNING:root:Argument whitelist is deprecated. Please use allowlist.\n",
      "2021-07-09 16:03:46.779 | INFO     | tcvae.train:<module>:18 - 1\n"
     ]
    }
   ],
   "source": [
    "import os\n",
    "import tensorflow as tf\n",
    "import numpy as np\n",
    "import matplotlib.pyplot as plt\n",
    "from tcvae import tsms\n",
    "from tcvae import dataset, model, localconfig, utils\n",
    "from IPython.display import Audio\n",
    "import soundfile as sf\n",
    "\n",
    "plt.style.use(\"dark_background\")"
   ]
  },
  {
   "cell_type": "markdown",
   "source": [
    "## Setup Config, Load Test Set and Model"
   ],
   "metadata": {
    "collapsed": false,
    "pycharm": {
     "name": "#%% md\n"
    }
   }
  },
  {
   "cell_type": "code",
   "execution_count": 3,
   "outputs": [],
   "source": [
    "conf = localconfig.LocalConfig()\n",
    "conf.load_config_from_file(\"checkpoints/Default_rnn_decoder_only.json\")\n",
    "conf.dataset_dir = \"complete_dataset\"\n",
    "\n",
    "_, _, test = dataset.get_dataset(conf)\n",
    "test_iterable = iter(test)\n",
    "\n",
    "if conf.use_encoder:\n",
    "    vae = model.create_vae(conf)\n",
    "else:\n",
    "    if conf.decoder_type == \"rnn\":\n",
    "        vae = model.create_rnn_decoder(conf)\n",
    "    else:\n",
    "        vae = model.create_decoder(conf)\n",
    "\n",
    "vae.load_weights(\"checkpoints/34_rnn_decoder_only_2.197.h5\")\n",
    "\n",
    "if conf.use_encoder:\n",
    "    encoder = model.create_encoder(conf)\n",
    "    encoder_weights = vae.layers[1].get_weights()\n",
    "    encoder.set_weights(encoder_weights)\n",
    "\n",
    "    z, p, i, v = model.decoder_inputs(conf)\n",
    "\n",
    "    decoder_output = vae.layers[-1]([z, p, v, i])\n",
    "    decoder = tf.keras.Model([z, p, i, v], decoder_output)\n"
   ],
   "metadata": {
    "collapsed": false,
    "pycharm": {
     "name": "#%%\n"
    }
   }
  },
  {
   "cell_type": "code",
   "execution_count": 4,
   "outputs": [],
   "source": [
    "z_mean, z_log_variance = None, None\n",
    "\n",
    "\n",
    "def reconstruct_audio(freq, mag):\n",
    "    phase = tsms.core.generate_phase(\n",
    "        freq, conf.sample_rate,\n",
    "        conf.frame_size\n",
    "    )\n",
    "    return tsms.core.harmonic_synthesis(\n",
    "        h_freq=freq, h_mag=mag, h_phase=phase,\n",
    "        sample_rate=conf.sample_rate,\n",
    "        frame_step=conf.frame_size\n",
    "    )\n",
    "\n",
    "\n",
    "def get_prediction(batch, **kwargs):\n",
    "    global z_mean, z_log_variance\n",
    "\n",
    "    h = batch[\"h\"]\n",
    "    note_number = batch[\"note_number\"]\n",
    "    velocity= batch[\"velocity\"]\n",
    "    instrument_id = batch[\"instrument_id\"]\n",
    "    using_z = False\n",
    "\n",
    "    print(\"Original id\", np.argmax(instrument_id))\n",
    "\n",
    "    if kwargs.get(\"instrument_id\") is not None:\n",
    "        desired_id = kwargs.get(\"instrument_id\")\n",
    "        instrument_id = np.zeros((1, 74))\n",
    "        instrument_id[0, desired_id] = 1.\n",
    "\n",
    "    if kwargs.get(\"note_number\") is not None:\n",
    "        desired_pitch = kwargs.get(\"note_number\")\n",
    "        note_number = np.zeros((1, 49))\n",
    "        note_number[0, desired_pitch] = 1.\n",
    "\n",
    "    if kwargs.get(\"velocity\") is not None:\n",
    "        desired_velocity = kwargs.get(\"velocity\")\n",
    "        velocity = np.zeros((1, 5))\n",
    "        velocity[0, desired_velocity] = 1.\n",
    "\n",
    "    if kwargs.get(\"z\") is not None:\n",
    "        desired_z = kwargs.get(\"z\")\n",
    "        using_z = True\n",
    "\n",
    "    if conf.use_encoder:\n",
    "        z, z_mean, z_log_variance = encoder.predict(h)\n",
    "        inputs = [z, note_number, instrument_id, velocity]\n",
    "    else:\n",
    "        inputs = [note_number, velocity, instrument_id]\n",
    "\n",
    "    if using_z:\n",
    "        inputs[0] = desired_z\n",
    "        print(\"Using custom z\")\n",
    "\n",
    "    if conf.use_encoder:\n",
    "        pred = decoder.predict(inputs)\n",
    "    else:\n",
    "        pred = vae.predict(inputs)\n",
    "    pitch = 40 + tf.argmax(note_number[0])\n",
    "    f0_from_note = tsms.core.midi_to_hz(\n",
    "        tf.cast(pitch, dtype=tf.float32)\n",
    "    )\n",
    "\n",
    "    harmonics = tsms.core.get_number_harmonics(\n",
    "        f0_from_note, conf.sample_rate\n",
    "    )\n",
    "\n",
    "    h_freq_pred = pred[:, :1001, :harmonics, 0]\n",
    "    h_mag_pred = pred[:, :1001, :harmonics, 1]\n",
    "\n",
    "    h_freq_gt = h[:, :1001, :harmonics, 0]\n",
    "    h_mag_gt = h[:, :1001, :harmonics, 1]\n",
    "\n",
    "    h_freq_gt = utils.denormalize_h_freq(h_freq_gt, pitch)\n",
    "    h_freq_pred = utils.denormalize_h_freq(h_freq_pred, pitch)\n",
    "    h_mag_gt = utils.denormalize_h_mag(h_mag_gt)\n",
    "    h_mag_pred = utils.denormalize_h_mag(h_mag_pred)\n",
    "\n",
    "    return (h_freq_pred, h_mag_pred), (h_freq_gt, h_mag_gt)"
   ],
   "metadata": {
    "collapsed": false,
    "pycharm": {
     "name": "#%%\n"
    }
   }
  },
  {
   "cell_type": "markdown",
   "source": [
    "## Get Predictions"
   ],
   "metadata": {
    "collapsed": false,
    "pycharm": {
     "name": "#%% md\n"
    }
   }
  },
  {
   "cell_type": "code",
   "source": [
    "def save_predictions(batch, prefix, display=False,\n",
    "                     instrument_id=None,\n",
    "                     note_number=None,\n",
    "                     velocity=None,\n",
    "                     z=None):\n",
    "    prefix = os.path.join(\"predictions\", prefix)\n",
    "\n",
    "    if not os.path.isdir(prefix):\n",
    "        os.mkdir(prefix)\n",
    "\n",
    "    (h_freq_pred, h_mag_pred), (h_freq_gt, h_mag_gt) = get_prediction(\n",
    "        batch, instrument_id=instrument_id, velocity=velocity,\n",
    "        note_number=note_number, z=z\n",
    "    )\n",
    "\n",
    "    audio_pred = reconstruct_audio(\n",
    "        h_freq_pred, h_mag_pred\n",
    "    )\n",
    "    audio_gt = reconstruct_audio(\n",
    "        h_freq_gt, h_mag_gt\n",
    "    )\n",
    "\n",
    "    plt.figure(figsize=(12, 12))\n",
    "    plt.subplot(2, 1, 1)\n",
    "    plt.plot(h_freq_gt[0])\n",
    "\n",
    "    plt.subplot(2, 1, 2)\n",
    "    plt.plot(h_freq_pred[0])\n",
    "\n",
    "    if display:\n",
    "        plt.show()\n",
    "    else:\n",
    "        plt.savefig(os.path.join(prefix, \"freq.png\"))\n",
    "    plt.close()\n",
    "\n",
    "    plt.figure(figsize=(12, 12))\n",
    "    plt.subplot(2, 1, 1)\n",
    "    plt.plot(h_mag_gt[0])\n",
    "\n",
    "    plt.subplot(2, 1, 2)\n",
    "    plt.plot(h_mag_pred[0])\n",
    "\n",
    "    if display:\n",
    "        plt.show()\n",
    "    else:\n",
    "        plt.savefig(os.path.join(prefix, \"mag.png\"))\n",
    "    plt.close()\n",
    "\n",
    "    if not display:\n",
    "        gt_path = os.path.join(prefix, \"gt_audio.wav\")\n",
    "        pred_path = os.path.join(prefix, \"pred_audio.wav\")\n",
    "\n",
    "        sf.write(gt_path, audio_gt.numpy()[0], samplerate=conf.sample_rate,)\n",
    "        sf.write(pred_path, audio_pred.numpy()[0], samplerate=conf.sample_rate)\n",
    "        return\n",
    "    return audio_gt, audio_pred\n",
    "\n",
    "\n",
    "def get_sample():\n",
    "    sample = model.sample_from_latent_space([z_mean, z_log_variance])\n",
    "    print(np.mean(sample), np.min(sample), np.max(sample))\n",
    "    return sample"
   ],
   "metadata": {
    "collapsed": false,
    "pycharm": {
     "name": "#%%\n"
    }
   },
   "execution_count": 5,
   "outputs": []
  },
  {
   "cell_type": "code",
   "execution_count": null,
   "outputs": [
    {
     "name": "stdout",
     "output_type": "stream",
     "text": [
      "Original id 62\n",
      "Original id 46\n",
      "Original id 39\n",
      "Original id 3\n"
     ]
    }
   ],
   "source": [
    "for i in range(0, 20):\n",
    "    batch = next(test_iterable)\n",
    "    save_predictions(batch, str(i))"
   ],
   "metadata": {
    "collapsed": false,
    "pycharm": {
     "name": "#%%\n",
     "is_executing": true
    }
   }
  },
  {
   "cell_type": "code",
   "execution_count": 21,
   "outputs": [],
   "source": [
    "batch = next(test_iterable)"
   ],
   "metadata": {
    "collapsed": false,
    "pycharm": {
     "name": "#%%\n"
    }
   }
  },
  {
   "cell_type": "code",
   "execution_count": null,
   "outputs": [],
   "source": [
    "gt, pred = save_predictions(\n",
    "    batch, \"\", display=True,\n",
    "    # z=get_sample(),\n",
    "    # instrument_id=9,\n",
    "    # note_number=10\n",
    ")"
   ],
   "metadata": {
    "collapsed": false,
    "pycharm": {
     "name": "#%%\n",
     "is_executing": true
    }
   }
  },
  {
   "cell_type": "code",
   "execution_count": null,
   "outputs": [],
   "source": [
    "Audio(gt, rate=conf.sample_rate)"
   ],
   "metadata": {
    "collapsed": false,
    "pycharm": {
     "name": "#%%\n",
     "is_executing": true
    }
   }
  },
  {
   "cell_type": "code",
   "execution_count": null,
   "outputs": [],
   "source": [
    "Audio(pred, rate=conf.sample_rate)"
   ],
   "metadata": {
    "collapsed": false,
    "pycharm": {
     "name": "#%%\n",
     "is_executing": true
    }
   }
  },
  {
   "cell_type": "code",
   "execution_count": null,
   "outputs": [],
   "source": [],
   "metadata": {
    "collapsed": false,
    "pycharm": {
     "name": "#%%\n"
    }
   }
  }
 ],
 "metadata": {
  "kernelspec": {
   "display_name": "Python 3",
   "language": "python",
   "name": "python3"
  },
  "language_info": {
   "codemirror_mode": {
    "name": "ipython",
    "version": 2
   },
   "file_extension": ".py",
   "mimetype": "text/x-python",
   "name": "python",
   "nbconvert_exporter": "python",
   "pygments_lexer": "ipython2",
   "version": "2.7.6"
  }
 },
 "nbformat": 4,
 "nbformat_minor": 0
}
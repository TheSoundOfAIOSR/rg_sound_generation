{
 "cells": [
  {
   "cell_type": "markdown",
   "metadata": {},
   "source": [
    "# Sound Generation\n",
    "\n",
    "## Overview\n",
    "\n",
    "![System](docs/SG_System.jpg)\n",
    "\n",
    "## Encoder\n",
    "\n",
    "![Encoder](docs/SG_Encoder.jpg)\n",
    "\n",
    "## Decoder\n",
    "\n",
    "![Decoder](docs/SG_Decoder.jpg)"
   ]
  },
  {
   "cell_type": "code",
   "execution_count": 1,
   "metadata": {
    "pycharm": {
     "name": "#%%\n"
    }
   },
   "outputs": [],
   "source": [
    "import os\n",
    "os.environ[\"CUDA_VISIBLE_DEVICES\"] = \"-1\"\n",
    "import numpy as np\n",
    "import soundfile as sf\n",
    "import tsms\n",
    "from tcvae import dataset, localconfig, model\n",
    "from tcvae.compute_measures import heuristic_names\n",
    "from IPython.display import Audio"
   ]
  },
  {
   "cell_type": "markdown",
   "metadata": {},
   "source": [
    "## Load Config, Data and Model"
   ]
  },
  {
   "cell_type": "code",
   "execution_count": 3,
   "metadata": {
    "pycharm": {
     "name": "#%%\n"
    }
   },
   "outputs": [
    {
     "name": "stdout",
     "output_type": "stream",
     "text": [
      "Configuration loaded\n",
      "Data loaded\n"
     ]
    },
    {
     "ename": "ValueError",
     "evalue": "Shapes (5, 110, 64) and (5, 128, 64) are incompatible",
     "output_type": "error",
     "traceback": [
      "\u001B[1;31m---------------------------------------------------------------------------\u001B[0m",
      "\u001B[1;31mValueError\u001B[0m                                Traceback (most recent call last)",
      "\u001B[1;32m<ipython-input-3-53a0f7b8f3cc>\u001B[0m in \u001B[0;36m<module>\u001B[1;34m\u001B[0m\n\u001B[0;32m     21\u001B[0m \u001B[0m_\u001B[0m \u001B[1;33m=\u001B[0m \u001B[0mmt_model\u001B[0m\u001B[1;33m(\u001B[0m\u001B[0mnext\u001B[0m\u001B[1;33m(\u001B[0m\u001B[0mvalid_iter\u001B[0m\u001B[1;33m)\u001B[0m\u001B[1;33m)\u001B[0m\u001B[1;33m\u001B[0m\u001B[1;33m\u001B[0m\u001B[0m\n\u001B[0;32m     22\u001B[0m \u001B[1;33m\u001B[0m\u001B[0m\n\u001B[1;32m---> 23\u001B[1;33m \u001B[0mmt_model\u001B[0m\u001B[1;33m.\u001B[0m\u001B[0mload_weights\u001B[0m\u001B[1;33m(\u001B[0m\u001B[1;34m\"checkpoints/mt_no_phase/74_mt_no_phase_0.01227.h5\"\u001B[0m\u001B[1;33m)\u001B[0m\u001B[1;33m\u001B[0m\u001B[1;33m\u001B[0m\u001B[0m\n\u001B[0m\u001B[0;32m     24\u001B[0m \u001B[1;33m\u001B[0m\u001B[0m\n\u001B[0;32m     25\u001B[0m \u001B[0mprint\u001B[0m\u001B[1;33m(\u001B[0m\u001B[1;34m\"Model loaded\"\u001B[0m\u001B[1;33m)\u001B[0m\u001B[1;33m\u001B[0m\u001B[1;33m\u001B[0m\u001B[0m\n",
      "\u001B[1;32mD:\\miniconda3\\envs\\ddsp\\lib\\site-packages\\tensorflow\\python\\keras\\engine\\training.py\u001B[0m in \u001B[0;36mload_weights\u001B[1;34m(self, filepath, by_name, skip_mismatch, options)\u001B[0m\n\u001B[0;32m   2209\u001B[0m             f, self.layers, skip_mismatch=skip_mismatch)\n\u001B[0;32m   2210\u001B[0m       \u001B[1;32melse\u001B[0m\u001B[1;33m:\u001B[0m\u001B[1;33m\u001B[0m\u001B[1;33m\u001B[0m\u001B[0m\n\u001B[1;32m-> 2211\u001B[1;33m         \u001B[0mhdf5_format\u001B[0m\u001B[1;33m.\u001B[0m\u001B[0mload_weights_from_hdf5_group\u001B[0m\u001B[1;33m(\u001B[0m\u001B[0mf\u001B[0m\u001B[1;33m,\u001B[0m \u001B[0mself\u001B[0m\u001B[1;33m.\u001B[0m\u001B[0mlayers\u001B[0m\u001B[1;33m)\u001B[0m\u001B[1;33m\u001B[0m\u001B[1;33m\u001B[0m\u001B[0m\n\u001B[0m\u001B[0;32m   2212\u001B[0m \u001B[1;33m\u001B[0m\u001B[0m\n\u001B[0;32m   2213\u001B[0m   \u001B[1;32mdef\u001B[0m \u001B[0m_updated_config\u001B[0m\u001B[1;33m(\u001B[0m\u001B[0mself\u001B[0m\u001B[1;33m)\u001B[0m\u001B[1;33m:\u001B[0m\u001B[1;33m\u001B[0m\u001B[1;33m\u001B[0m\u001B[0m\n",
      "\u001B[1;32mD:\\miniconda3\\envs\\ddsp\\lib\\site-packages\\tensorflow\\python\\keras\\saving\\hdf5_format.py\u001B[0m in \u001B[0;36mload_weights_from_hdf5_group\u001B[1;34m(f, layers)\u001B[0m\n\u001B[0;32m    706\u001B[0m                        str(len(weight_values)) + ' elements.')\n\u001B[0;32m    707\u001B[0m     \u001B[0mweight_value_tuples\u001B[0m \u001B[1;33m+=\u001B[0m \u001B[0mzip\u001B[0m\u001B[1;33m(\u001B[0m\u001B[0msymbolic_weights\u001B[0m\u001B[1;33m,\u001B[0m \u001B[0mweight_values\u001B[0m\u001B[1;33m)\u001B[0m\u001B[1;33m\u001B[0m\u001B[1;33m\u001B[0m\u001B[0m\n\u001B[1;32m--> 708\u001B[1;33m   \u001B[0mK\u001B[0m\u001B[1;33m.\u001B[0m\u001B[0mbatch_set_value\u001B[0m\u001B[1;33m(\u001B[0m\u001B[0mweight_value_tuples\u001B[0m\u001B[1;33m)\u001B[0m\u001B[1;33m\u001B[0m\u001B[1;33m\u001B[0m\u001B[0m\n\u001B[0m\u001B[0;32m    709\u001B[0m \u001B[1;33m\u001B[0m\u001B[0m\n\u001B[0;32m    710\u001B[0m \u001B[1;33m\u001B[0m\u001B[0m\n",
      "\u001B[1;32mD:\\miniconda3\\envs\\ddsp\\lib\\site-packages\\tensorflow\\python\\util\\dispatch.py\u001B[0m in \u001B[0;36mwrapper\u001B[1;34m(*args, **kwargs)\u001B[0m\n\u001B[0;32m    199\u001B[0m     \u001B[1;34m\"\"\"Call target, and fall back on dispatchers if there is a TypeError.\"\"\"\u001B[0m\u001B[1;33m\u001B[0m\u001B[1;33m\u001B[0m\u001B[0m\n\u001B[0;32m    200\u001B[0m     \u001B[1;32mtry\u001B[0m\u001B[1;33m:\u001B[0m\u001B[1;33m\u001B[0m\u001B[1;33m\u001B[0m\u001B[0m\n\u001B[1;32m--> 201\u001B[1;33m       \u001B[1;32mreturn\u001B[0m \u001B[0mtarget\u001B[0m\u001B[1;33m(\u001B[0m\u001B[1;33m*\u001B[0m\u001B[0margs\u001B[0m\u001B[1;33m,\u001B[0m \u001B[1;33m**\u001B[0m\u001B[0mkwargs\u001B[0m\u001B[1;33m)\u001B[0m\u001B[1;33m\u001B[0m\u001B[1;33m\u001B[0m\u001B[0m\n\u001B[0m\u001B[0;32m    202\u001B[0m     \u001B[1;32mexcept\u001B[0m \u001B[1;33m(\u001B[0m\u001B[0mTypeError\u001B[0m\u001B[1;33m,\u001B[0m \u001B[0mValueError\u001B[0m\u001B[1;33m)\u001B[0m\u001B[1;33m:\u001B[0m\u001B[1;33m\u001B[0m\u001B[1;33m\u001B[0m\u001B[0m\n\u001B[0;32m    203\u001B[0m       \u001B[1;31m# Note: convert_to_eager_tensor currently raises a ValueError, not a\u001B[0m\u001B[1;33m\u001B[0m\u001B[1;33m\u001B[0m\u001B[1;33m\u001B[0m\u001B[0m\n",
      "\u001B[1;32mD:\\miniconda3\\envs\\ddsp\\lib\\site-packages\\tensorflow\\python\\keras\\backend.py\u001B[0m in \u001B[0;36mbatch_set_value\u001B[1;34m(tuples)\u001B[0m\n\u001B[0;32m   3574\u001B[0m   \u001B[1;32mif\u001B[0m \u001B[0mops\u001B[0m\u001B[1;33m.\u001B[0m\u001B[0mexecuting_eagerly_outside_functions\u001B[0m\u001B[1;33m(\u001B[0m\u001B[1;33m)\u001B[0m\u001B[1;33m:\u001B[0m\u001B[1;33m\u001B[0m\u001B[1;33m\u001B[0m\u001B[0m\n\u001B[0;32m   3575\u001B[0m     \u001B[1;32mfor\u001B[0m \u001B[0mx\u001B[0m\u001B[1;33m,\u001B[0m \u001B[0mvalue\u001B[0m \u001B[1;32min\u001B[0m \u001B[0mtuples\u001B[0m\u001B[1;33m:\u001B[0m\u001B[1;33m\u001B[0m\u001B[1;33m\u001B[0m\u001B[0m\n\u001B[1;32m-> 3576\u001B[1;33m       \u001B[0mx\u001B[0m\u001B[1;33m.\u001B[0m\u001B[0massign\u001B[0m\u001B[1;33m(\u001B[0m\u001B[0mnp\u001B[0m\u001B[1;33m.\u001B[0m\u001B[0masarray\u001B[0m\u001B[1;33m(\u001B[0m\u001B[0mvalue\u001B[0m\u001B[1;33m,\u001B[0m \u001B[0mdtype\u001B[0m\u001B[1;33m=\u001B[0m\u001B[0mdtype\u001B[0m\u001B[1;33m(\u001B[0m\u001B[0mx\u001B[0m\u001B[1;33m)\u001B[0m\u001B[1;33m)\u001B[0m\u001B[1;33m)\u001B[0m\u001B[1;33m\u001B[0m\u001B[1;33m\u001B[0m\u001B[0m\n\u001B[0m\u001B[0;32m   3577\u001B[0m   \u001B[1;32melse\u001B[0m\u001B[1;33m:\u001B[0m\u001B[1;33m\u001B[0m\u001B[1;33m\u001B[0m\u001B[0m\n\u001B[0;32m   3578\u001B[0m     \u001B[1;32mwith\u001B[0m \u001B[0mget_graph\u001B[0m\u001B[1;33m(\u001B[0m\u001B[1;33m)\u001B[0m\u001B[1;33m.\u001B[0m\u001B[0mas_default\u001B[0m\u001B[1;33m(\u001B[0m\u001B[1;33m)\u001B[0m\u001B[1;33m:\u001B[0m\u001B[1;33m\u001B[0m\u001B[1;33m\u001B[0m\u001B[0m\n",
      "\u001B[1;32mD:\\miniconda3\\envs\\ddsp\\lib\\site-packages\\tensorflow\\python\\ops\\resource_variable_ops.py\u001B[0m in \u001B[0;36massign\u001B[1;34m(self, value, use_locking, name, read_value)\u001B[0m\n\u001B[0;32m    856\u001B[0m     \u001B[1;32mwith\u001B[0m \u001B[0m_handle_graph\u001B[0m\u001B[1;33m(\u001B[0m\u001B[0mself\u001B[0m\u001B[1;33m.\u001B[0m\u001B[0mhandle\u001B[0m\u001B[1;33m)\u001B[0m\u001B[1;33m:\u001B[0m\u001B[1;33m\u001B[0m\u001B[1;33m\u001B[0m\u001B[0m\n\u001B[0;32m    857\u001B[0m       \u001B[0mvalue_tensor\u001B[0m \u001B[1;33m=\u001B[0m \u001B[0mops\u001B[0m\u001B[1;33m.\u001B[0m\u001B[0mconvert_to_tensor\u001B[0m\u001B[1;33m(\u001B[0m\u001B[0mvalue\u001B[0m\u001B[1;33m,\u001B[0m \u001B[0mdtype\u001B[0m\u001B[1;33m=\u001B[0m\u001B[0mself\u001B[0m\u001B[1;33m.\u001B[0m\u001B[0mdtype\u001B[0m\u001B[1;33m)\u001B[0m\u001B[1;33m\u001B[0m\u001B[1;33m\u001B[0m\u001B[0m\n\u001B[1;32m--> 858\u001B[1;33m       \u001B[0mself\u001B[0m\u001B[1;33m.\u001B[0m\u001B[0m_shape\u001B[0m\u001B[1;33m.\u001B[0m\u001B[0massert_is_compatible_with\u001B[0m\u001B[1;33m(\u001B[0m\u001B[0mvalue_tensor\u001B[0m\u001B[1;33m.\u001B[0m\u001B[0mshape\u001B[0m\u001B[1;33m)\u001B[0m\u001B[1;33m\u001B[0m\u001B[1;33m\u001B[0m\u001B[0m\n\u001B[0m\u001B[0;32m    859\u001B[0m       assign_op = gen_resource_variable_ops.assign_variable_op(\n\u001B[0;32m    860\u001B[0m           self.handle, value_tensor, name=name)\n",
      "\u001B[1;32mD:\\miniconda3\\envs\\ddsp\\lib\\site-packages\\tensorflow\\python\\framework\\tensor_shape.py\u001B[0m in \u001B[0;36massert_is_compatible_with\u001B[1;34m(self, other)\u001B[0m\n\u001B[0;32m   1132\u001B[0m     \"\"\"\n\u001B[0;32m   1133\u001B[0m     \u001B[1;32mif\u001B[0m \u001B[1;32mnot\u001B[0m \u001B[0mself\u001B[0m\u001B[1;33m.\u001B[0m\u001B[0mis_compatible_with\u001B[0m\u001B[1;33m(\u001B[0m\u001B[0mother\u001B[0m\u001B[1;33m)\u001B[0m\u001B[1;33m:\u001B[0m\u001B[1;33m\u001B[0m\u001B[1;33m\u001B[0m\u001B[0m\n\u001B[1;32m-> 1134\u001B[1;33m       \u001B[1;32mraise\u001B[0m \u001B[0mValueError\u001B[0m\u001B[1;33m(\u001B[0m\u001B[1;34m\"Shapes %s and %s are incompatible\"\u001B[0m \u001B[1;33m%\u001B[0m \u001B[1;33m(\u001B[0m\u001B[0mself\u001B[0m\u001B[1;33m,\u001B[0m \u001B[0mother\u001B[0m\u001B[1;33m)\u001B[0m\u001B[1;33m)\u001B[0m\u001B[1;33m\u001B[0m\u001B[1;33m\u001B[0m\u001B[0m\n\u001B[0m\u001B[0;32m   1135\u001B[0m \u001B[1;33m\u001B[0m\u001B[0m\n\u001B[0;32m   1136\u001B[0m   \u001B[1;32mdef\u001B[0m \u001B[0mmost_specific_compatible_shape\u001B[0m\u001B[1;33m(\u001B[0m\u001B[0mself\u001B[0m\u001B[1;33m,\u001B[0m \u001B[0mother\u001B[0m\u001B[1;33m)\u001B[0m\u001B[1;33m:\u001B[0m\u001B[1;33m\u001B[0m\u001B[1;33m\u001B[0m\u001B[0m\n",
      "\u001B[1;31mValueError\u001B[0m: Shapes (5, 110, 64) and (5, 128, 64) are incompatible"
     ]
    }
   ],
   "source": [
    "conf = localconfig.LocalConfig()\n",
    "conf.load_config_from_file(\"checkpoints/mt_no_phase/conf.txt\")\n",
    "conf.simple_encoder = False\n",
    "conf.simple_decoder = False\n",
    "\n",
    "conf.dataset_dir = \"complete_dataset\"\n",
    "conf.batch_size = 1\n",
    "\n",
    "measure_to_index = dict((n, i) for i, n in enumerate(heuristic_names))\n",
    "index_to_measure = dict((v, k) for k, v in measure_to_index.items())\n",
    "\n",
    "print(\"Configuration loaded\")\n",
    "\n",
    "_, valid, test = dataset.get_dataset(conf)\n",
    "test_iter = iter(test)\n",
    "valid_iter = iter(valid)\n",
    "\n",
    "print(\"Data loaded\")\n",
    "\n",
    "mt_model = model.MtVae(conf)\n",
    "_ = mt_model(next(valid_iter))\n",
    "\n",
    "mt_model.load_weights(\"checkpoints/mt_no_phase/74_mt_no_phase_0.01227.h5\")\n",
    "\n",
    "print(\"Model loaded\")"
   ]
  },
  {
   "cell_type": "code",
   "execution_count": null,
   "outputs": [],
   "source": [
    "mt_model.decoder"
   ],
   "metadata": {
    "collapsed": false,
    "pycharm": {
     "name": "#%%\n"
    }
   }
  },
  {
   "cell_type": "markdown",
   "metadata": {},
   "source": [
    "## Helper Functions"
   ]
  },
  {
   "cell_type": "code",
   "execution_count": null,
   "metadata": {
    "pycharm": {
     "name": "#%%\n"
    }
   },
   "outputs": [],
   "source": [
    "def change_params(batch, params):\n",
    "    note_number = params.get(\"note_number\")\n",
    "    velocity = params.get(\"velocity\")\n",
    "    measures = params.get(\"measures\")\n",
    "    \n",
    "    original_note = np.argmax(batch[\"note_number\"], axis=-1)[0] + conf.starting_midi_pitch\n",
    "    original_vel = (np.argmax(batch[\"velocity\"], axis=-1)[0] + 1) * 25\n",
    "    original_measures = batch[\"measures\"]\n",
    "    \n",
    "    if note_number is not None:\n",
    "        assert 40 <= note_number <= 88\n",
    "        print(f\"note_number changed from {original_note} to {note_number}\")\n",
    "        note_number -= conf.starting_midi_pitch\n",
    "        updated_note = np.zeros((1, conf.num_pitches))\n",
    "        updated_note[:, note_number] = 1.\n",
    "        batch[\"note_number\"] = updated_note\n",
    "    if velocity is not None:\n",
    "        assert 25 <= velocity <= 127\n",
    "        print(f\"velocity changed from {original_vel} to {velocity}\")\n",
    "        velocity = int(velocity / 25 - 1)\n",
    "        updated_vel = np.zeros((1, conf.num_velocities))\n",
    "        updated_vel[:, velocity] = 1.\n",
    "        batch[\"velocity\"] = updated_vel\n",
    "    if measure_to_index is not None:\n",
    "        if bool(measures):\n",
    "            updated_measures = original_measures.numpy()\n",
    "            for m, val in measures.items():\n",
    "                assert m in heuristic_names\n",
    "                original_value = updated_measures[:, measure_to_index[m]][0]\n",
    "                print(f\"{m} changed from {original_value} to {val}\")\n",
    "                updated_measures[:, measure_to_index[m]] = val\n",
    "            batch[\"measures\"] = updated_measures\n",
    "    return batch\n",
    "\n",
    "\n",
    "def get_prediction(batch, conf, prediction=None):\n",
    "    batch = batch.copy()\n",
    "    pred = True if prediction is not None else False\n",
    "    transform_input = prediction if prediction is not None else batch\n",
    "    note_number = np.argmax(batch[\"note_number\"], axis=-1) + conf.starting_midi_pitch\n",
    "    transform = conf.data_handler.output_transform(transform_input, pred=pred)\n",
    "    f, m, p = conf.data_handler.denormalize(transform, batch[\"mask\"], note_number)\n",
    "    audio = tsms.core.harmonic_synthesis(f, m, p, conf.sample_rate, conf.frame_size)\n",
    "    return np.squeeze(audio.numpy())\n",
    "\n",
    "\n",
    "def get_audios(batch, update_params=None, use_encoder=True):\n",
    "    batch = batch.copy()\n",
    "    audio_gt = get_prediction(batch, conf, prediction=None)\n",
    "    \n",
    "    if use_encoder:\n",
    "        batch[\"z\"] = mt_model.encoder.predict(batch)\n",
    "    \n",
    "    if update_params is not None:\n",
    "        batch = change_params(batch, update_params)\n",
    "        if \"z\" in update_params:\n",
    "            updated_z = update_params.get(\"z\")\n",
    "            updated_z = np.expand_dims(z, axis=0)\n",
    "            assert updated_z.shape == (1, 16)\n",
    "            print(\"Updating Z from user input\")\n",
    "            batch[\"z\"] = updated_z\n",
    "    \n",
    "    if \"z\" not in batch:\n",
    "        print(\"Updating z from random values\")\n",
    "        batch[\"z\"] = np.random.rand(1, 16)\n",
    "    \n",
    "    prediction = mt_model.decoder.predict(batch)\n",
    "    audio_pred = get_prediction(batch, conf, prediction=prediction)\n",
    "\n",
    "    return audio_pred, audio_gt"
   ]
  },
  {
   "cell_type": "markdown",
   "metadata": {},
   "source": [
    "## Get Predictions"
   ]
  },
  {
   "cell_type": "code",
   "execution_count": null,
   "metadata": {},
   "outputs": [],
   "source": [
    "batch = next(valid_iter)"
   ]
  },
  {
   "cell_type": "code",
   "execution_count": null,
   "metadata": {},
   "outputs": [],
   "source": [
    "update_params = {\n",
    "    # \"note_number\": 49,\n",
    "    # \"velocity\": 127,\n",
    "    \"measures\": {\n",
    "        # \"bass\": 1.,\n",
    "        # \"mid\": 1.,\n",
    "        # \"high_mid\": 0.,\n",
    "        # \"high\": 1.,\n",
    "        # \"inharmonicity\": 1.,\n",
    "        # \"even_odd\": 1.,\n",
    "        # \"sparse_rich\": 1.,\n",
    "        # \"decay_time\": 0.3\n",
    "    }\n",
    "}\n",
    "\n",
    "audio_pred, audio_gt = get_audios(batch, update_params, use_encoder=False)"
   ]
  },
  {
   "cell_type": "code",
   "execution_count": null,
   "metadata": {
    "pycharm": {
     "name": "#%%\n"
    }
   },
   "outputs": [],
   "source": [
    "Audio(audio_gt, rate=conf.sample_rate)"
   ]
  },
  {
   "cell_type": "code",
   "execution_count": null,
   "metadata": {},
   "outputs": [],
   "source": [
    "Audio(audio_pred, rate=conf.sample_rate)"
   ]
  },
  {
   "cell_type": "markdown",
   "metadata": {
    "pycharm": {
     "name": "#%% md\n"
    }
   },
   "source": [
    "\n",
    "## Export Audio Files"
   ]
  },
  {
   "cell_type": "code",
   "execution_count": null,
   "metadata": {
    "pycharm": {
     "name": "#%%\n"
    }
   },
   "outputs": [],
   "source": [
    "test_iter = iter(test)\n",
    "\n",
    "def write_audio(audio, conf, audio_path):\n",
    "    audio = audio / np.max(np.abs(audio))\n",
    "    sf.write(audio_path, audio, samplerate=conf.sample_rate)\n",
    "\n",
    "\n",
    "for i in range(0, 20):\n",
    "    batch = next(test_iter)\n",
    "\n",
    "    audio_pred, audio_gt = get_pred_and_get(batch)\n",
    "\n",
    "    true_path = os.path.join(os.getcwd(), \"predictions\", f\"{i}_true.wav\")\n",
    "    pred_path = os.path.join(os.getcwd(), \"predictions\", f\"{i}_pred.wav\")\n",
    "\n",
    "    write_audio(audio_pred, conf, pred_path)\n",
    "    write_audio(audio_gt, conf, true_path)\n",
    "\n",
    "    print(i)"
   ]
  }
 ],
 "metadata": {
  "colab": {
   "collapsed_sections": [],
   "name": "predict.ipynb",
   "provenance": []
  },
  "kernelspec": {
   "display_name": "Python 3",
   "language": "python",
   "name": "python3"
  },
  "language_info": {
   "codemirror_mode": {
    "name": "ipython",
    "version": 3
   },
   "file_extension": ".py",
   "mimetype": "text/x-python",
   "name": "python",
   "nbconvert_exporter": "python",
   "pygments_lexer": "ipython3",
   "version": "3.8.5"
  }
 },
 "nbformat": 4,
 "nbformat_minor": 1
}
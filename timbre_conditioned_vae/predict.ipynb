{
 "nbformat": 4,
 "nbformat_minor": 0,
 "metadata": {
  "kernelspec": {
   "display_name": "Python 3",
   "language": "python",
   "name": "python3"
  },
  "language_info": {
   "codemirror_mode": {
    "name": "ipython",
    "version": 2
   },
   "file_extension": ".py",
   "mimetype": "text/x-python",
   "name": "python",
   "nbconvert_exporter": "python",
   "pygments_lexer": "ipython2",
   "version": "2.7.6"
  },
  "colab": {
   "name": "predict.ipynb",
   "provenance": [],
   "collapsed_sections": []
  }
 },
 "cells": [
  {
   "cell_type": "code",
   "metadata": {
    "collapsed": true,
    "pycharm": {
     "name": "#%%\n"
    },
    "id": "ZQyFZwvfGTP7",
    "outputId": "a3e02175-34d1-479d-fcc8-767954f1b9fb"
   },
   "source": [
    "import os\n",
    "os.environ[\"CUDA_VISIBLE_DEVICES\"] = \"-1\"\n",
    "import numpy as np\n",
    "from tcvae import predict, dataset, localconfig\n",
    "from tcvae.compute_measures import heuristic_names\n",
    "from matplotlib import pyplot as plt\n",
    "from IPython.display import Audio\n",
    "plt.style.use(\"dark_background\")"
   ],
   "execution_count": null,
   "outputs": []
  },
  {
   "cell_type": "code",
   "metadata": {
    "pycharm": {
     "name": "#%%\n"
    },
    "id": "HKOvviKQGTP-"
   },
   "source": [
    "conf = localconfig.LocalConfig()\n",
    "conf.load_config_from_file(\"checkpoints/cnn_decoder_heuristics_default/Default_cnn_decoder_heuristic_default.json\")\n",
    "conf.dataset_dir = \"complete_dataset\"\n",
    "conf.batch_size = 1\n",
    "\n",
    "_, _, test = dataset.get_dataset(conf)\n",
    "test_iter = iter(test)"
   ],
   "execution_count": null,
   "outputs": []
  },
  {
   "cell_type": "code",
   "metadata": {
    "pycharm": {
     "name": "#%%\n"
    },
    "id": "sYbYrZpAGTP-"
   },
   "source": [
    "_model = predict.load_model(conf, \"checkpoints/cnn_decoder_heuristics_default/99_cnn_decoder_heuristic_default_0.0223.h5\")"
   ],
   "execution_count": null,
   "outputs": []
  },
  {
   "cell_type": "code",
   "metadata": {
    "pycharm": {
     "name": "#%%\n"
    },
    "id": "1sGJtWJGGTP_"
   },
   "source": [
    "batch = next(test_iter)"
   ],
   "execution_count": null,
   "outputs": []
  },
  {
   "cell_type": "code",
   "execution_count": null,
   "outputs": [],
   "source": [
    "heuristic_names"
   ],
   "metadata": {
    "collapsed": false,
    "pycharm": {
     "name": "#%%\n"
    }
   }
  },
  {
   "cell_type": "code",
   "metadata": {
    "pycharm": {
     "name": "#%%\n"
    },
    "id": "zq5L0ofIGTP_"
   },
   "source": [
    "(f0_shifts_true, f0_shifts_pred, mag_env_true, mag_env_pred,\n",
    "     h_freq_shifts_true, h_freq_shifts_pred, h_mag_dist_true,\n",
    "     h_mag_dist_pred, mask), note_number_orig = predict.get_intermediate_values(\n",
    "    _model, batch, conf)"
   ],
   "execution_count": null,
   "outputs": []
  },
  {
   "cell_type": "code",
   "metadata": {
    "pycharm": {
     "name": "#%%\n"
    },
    "id": "veHGxL7zGTP_",
    "outputId": "f0bcd1f8-f14a-41c2-d73e-ad4370dac099"
   },
   "source": [
    "plt.plot(f0_shifts_true[0]);"
   ],
   "execution_count": null,
   "outputs": []
  },
  {
   "cell_type": "code",
   "metadata": {
    "pycharm": {
     "name": "#%%\n"
    },
    "id": "z8X4zZ1-GTQA",
    "outputId": "c7d61506-9ee3-4412-a9a6-98b31559cd0f"
   },
   "source": [
    "plt.plot(f0_shifts_pred[0]);"
   ],
   "execution_count": null,
   "outputs": []
  },
  {
   "cell_type": "code",
   "metadata": {
    "pycharm": {
     "name": "#%%\n"
    },
    "id": "n4hSWLy3GTQA",
    "outputId": "ff61af1c-629d-475f-9386-b5574576c284"
   },
   "source": [
    "plt.plot(mag_env_true[0]);"
   ],
   "execution_count": null,
   "outputs": []
  },
  {
   "cell_type": "code",
   "metadata": {
    "pycharm": {
     "name": "#%%\n"
    },
    "id": "hu56JtWjGTQA",
    "outputId": "7d2a496c-a206-48a4-e686-f72c9c2fe198"
   },
   "source": [
    "plt.plot(mag_env_pred[0]);"
   ],
   "execution_count": null,
   "outputs": []
  },
  {
   "cell_type": "code",
   "metadata": {
    "pycharm": {
     "name": "#%%\n"
    },
    "id": "iLBqwY9EGTQB",
    "outputId": "f8851a68-394f-42a0-f5e2-08fa303fdfbd"
   },
   "source": [
    "plt.plot(h_freq_shifts_true[0]);"
   ],
   "execution_count": null,
   "outputs": []
  },
  {
   "cell_type": "code",
   "metadata": {
    "pycharm": {
     "name": "#%%\n"
    },
    "id": "cGQ2rFYLGTQB",
    "outputId": "2cb4f708-bacf-49c4-c209-8cade0d30f45"
   },
   "source": [
    "plt.plot(h_freq_shifts_pred[0]);"
   ],
   "execution_count": null,
   "outputs": []
  },
  {
   "cell_type": "code",
   "metadata": {
    "id": "Dj4Czsl8GoWh"
   },
   "source": [
    "plt.plot(h_mag_dist_true[0]);"
   ],
   "execution_count": null,
   "outputs": []
  },
  {
   "cell_type": "code",
   "metadata": {
    "id": "g0jMH1a7GoHY"
   },
   "source": [
    "plt.plot(h_mag_dist_pred[0]);"
   ],
   "execution_count": null,
   "outputs": []
  },
  {
   "cell_type": "code",
   "metadata": {
    "pycharm": {
     "name": "#%%\n"
    },
    "id": "w0ORNmXBGTQB"
   },
   "source": [
    "h_freq_true, h_mag_true, h_freq_pred, h_mag_pred = \\\n",
    "    predict.get_freq_and_mag_batch(_model, batch, conf)"
   ],
   "execution_count": null,
   "outputs": []
  },
  {
   "cell_type": "code",
   "metadata": {
    "pycharm": {
     "name": "#%%\n"
    },
    "id": "QhVEsnezGTQC",
    "outputId": "d1110f5a-f42b-46d4-96e0-ad193368a9b4"
   },
   "source": [
    "plt.plot(h_mag_true[0]);"
   ],
   "execution_count": null,
   "outputs": []
  },
  {
   "cell_type": "code",
   "metadata": {
    "pycharm": {
     "name": "#%%\n"
    },
    "id": "w75sjGIiGTQC",
    "outputId": "13d09c86-b0b2-42de-c188-b2ac1d9cfa11"
   },
   "source": [
    "plt.plot(h_mag_pred[0]);"
   ],
   "execution_count": null,
   "outputs": []
  },
  {
   "cell_type": "code",
   "execution_count": null,
   "outputs": [],
   "source": [
    "audio_true = predict.reconstruct_audio(h_freq_true, h_mag_true, conf)\n",
    "audio_pred = predict.reconstruct_audio(h_freq_pred, h_mag_pred, conf)"
   ],
   "metadata": {
    "collapsed": false,
    "pycharm": {
     "name": "#%%\n"
    }
   }
  },
  {
   "cell_type": "code",
   "execution_count": null,
   "outputs": [],
   "source": [
    "Audio(audio_true, rate=16000)"
   ],
   "metadata": {
    "collapsed": false,
    "pycharm": {
     "name": "#%%\n"
    }
   }
  },
  {
   "cell_type": "code",
   "execution_count": null,
   "outputs": [],
   "source": [
    "Audio(audio_pred, rate=16000)"
   ],
   "metadata": {
    "collapsed": false,
    "pycharm": {
     "name": "#%%\n"
    }
   }
  },
  {
   "cell_type": "markdown",
   "source": [
    "## Changing Heurisitic Measures"
   ],
   "metadata": {
    "collapsed": false,
    "pycharm": {
     "name": "#%% md\n"
    }
   }
  },
  {
   "cell_type": "code",
   "execution_count": null,
   "outputs": [],
   "source": [
    "print(heuristic_names)\n",
    "\n",
    "batch = next(test_iter)"
   ],
   "metadata": {
    "collapsed": false,
    "pycharm": {
     "name": "#%%\n"
    }
   }
  },
  {
   "cell_type": "code",
   "execution_count": null,
   "outputs": [],
   "source": [
    "h_freq_true, h_mag_true, h_freq_pred, h_mag_pred = \\\n",
    "    predict.get_freq_and_mag_batch(\n",
    "        _model, batch, conf,\n",
    "        # high_mid=1, high=1\n",
    "        # inharmonicity=0.\n",
    "        # even_odd=1\n",
    "        # sparse_rich=0.7,\n",
    "        # decay_time=0.4,\n",
    "        # attack_time=0.02\n",
    "    )\n",
    "\n",
    "audio_true = predict.reconstruct_audio(h_freq_true, h_mag_true, conf)\n",
    "audio_pred = predict.reconstruct_audio(h_freq_pred, h_mag_pred, conf)"
   ],
   "metadata": {
    "collapsed": false,
    "pycharm": {
     "name": "#%%\n"
    }
   }
  },
  {
   "cell_type": "code",
   "execution_count": null,
   "outputs": [],
   "source": [
    "plt.plot(h_mag_pred[0]);"
   ],
   "metadata": {
    "collapsed": false,
    "pycharm": {
     "name": "#%%\n"
    }
   }
  },
  {
   "cell_type": "code",
   "execution_count": null,
   "outputs": [],
   "source": [
    "Audio(audio_true, rate=16000)"
   ],
   "metadata": {
    "collapsed": false,
    "pycharm": {
     "name": "#%%\n"
    }
   }
  },
  {
   "cell_type": "code",
   "execution_count": null,
   "outputs": [],
   "source": [
    "Audio(audio_pred, rate=16000)"
   ],
   "metadata": {
    "collapsed": false,
    "pycharm": {
     "name": "#%%\n"
    }
   }
  },
  {
   "cell_type": "markdown",
   "source": [
    "## Export Some Examples\n"
   ],
   "metadata": {
    "collapsed": false,
    "pycharm": {
     "name": "#%% md\n"
    }
   }
  },
  {
   "cell_type": "code",
   "execution_count": null,
   "outputs": [],
   "source": [
    "import soundfile as sf\n",
    "\n",
    "\n",
    "def write_audio(h_freq, h_mag, conf, audio_path):\n",
    "    audio = predict.reconstruct_audio(h_freq, h_mag, conf)\n",
    "    audio = np.squeeze(audio.numpy())\n",
    "    audio = audio / np.max(np.abs(audio))\n",
    "    sf.write(audio_path, audio, samplerate=conf.sample_rate)\n",
    "\n",
    "\n",
    "for i in range(0, 20):\n",
    "    batch = next(test_iter)\n",
    "    h_freq_true, h_mag_true, h_freq_pred, h_mag_pred = \\\n",
    "        predict.get_freq_and_mag_batch(_model, batch, conf)\n",
    "\n",
    "    true_path = os.path.join(os.getcwd(), \"predictions\", f\"{i}_true.wav\")\n",
    "    pred_path = os.path.join(os.getcwd(), \"predictions\", f\"{i}_pred.wav\")\n",
    "\n",
    "    write_audio(h_freq_true, h_mag_true, conf, true_path)\n",
    "    write_audio(h_freq_pred, h_mag_pred, conf, pred_path)\n",
    "\n",
    "    print(i)"
   ],
   "metadata": {
    "collapsed": false,
    "pycharm": {
     "name": "#%%\n"
    }
   }
  },
  {
   "cell_type": "code",
   "execution_count": null,
   "outputs": [],
   "source": [],
   "metadata": {
    "collapsed": false,
    "pycharm": {
     "name": "#%%\n"
    }
   }
  }
 ]
}
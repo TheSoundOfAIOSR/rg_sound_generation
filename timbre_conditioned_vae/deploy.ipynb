{
 "cells": [
  {
   "cell_type": "code",
   "execution_count": null,
   "id": "60ed5924",
   "metadata": {},
   "outputs": [],
   "source": [
    "from sound_generator import SoundGenerator, HeuristicMeasures\n",
    "from IPython.display import Audio"
   ]
  },
  {
   "cell_type": "code",
   "execution_count": null,
   "id": "41c9ffa2",
   "metadata": {},
   "outputs": [],
   "source": [
    "sg = SoundGenerator(\n",
    "    config_path=\"checkpoints/mt_new_16/conf.txt\",\n",
    "    checkpoint_path=\"checkpoints/mt_new_16/11_mt_new_16_0.02907.h5\"\n",
    ")\n",
    "\n",
    "measures = HeuristicMeasures()"
   ]
  },
  {
   "cell_type": "code",
   "execution_count": null,
   "id": "4ca25423",
   "metadata": {},
   "outputs": [],
   "source": [
    "measures.inharmonicity = 1.\n",
    "measures.even_odd = 0.\n",
    "measures.sparse_rich = 0.5\n",
    "measures.high = 1."
   ]
  },
  {
   "cell_type": "code",
   "execution_count": null,
   "id": "65298730",
   "metadata": {},
   "outputs": [],
   "source": [
    "measures()"
   ]
  },
  {
   "cell_type": "code",
   "execution_count": null,
   "id": "beaec638",
   "metadata": {},
   "outputs": [],
   "source": [
    "success, audio = sg.get_prediction({\n",
    "    \"input_pitch\": 40,\n",
    "    \"pitch\": 60,\n",
    "    \"velocity\": 100,\n",
    "    \"heuristic_measures\": measures(),\n",
    "    \"latent_sample\": [0.5] * sg.conf.latent_dim\n",
    "})"
   ]
  },
  {
   "cell_type": "code",
   "execution_count": null,
   "id": "11ea301e",
   "metadata": {},
   "outputs": [],
   "source": [
    "Audio(audio, rate=16000)"
   ]
  },
  {
   "cell_type": "code",
   "execution_count": null,
   "id": "825bb718",
   "metadata": {},
   "outputs": [],
   "source": []
  }
 ],
 "metadata": {
  "kernelspec": {
   "display_name": "Python 3",
   "language": "python",
   "name": "python3"
  },
  "language_info": {
   "codemirror_mode": {
    "name": "ipython",
    "version": 3
   },
   "file_extension": ".py",
   "mimetype": "text/x-python",
   "name": "python",
   "nbconvert_exporter": "python",
   "pygments_lexer": "ipython3",
   "version": "3.8.5"
  }
 },
 "nbformat": 4,
 "nbformat_minor": 5
}

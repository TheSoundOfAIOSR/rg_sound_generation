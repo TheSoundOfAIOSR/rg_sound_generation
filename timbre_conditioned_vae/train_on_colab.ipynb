{
 "nbformat": 4,
 "nbformat_minor": 0,
 "metadata": {
  "colab": {
   "name": "train_on_colab.ipynb",
   "provenance": [],
   "collapsed_sections": []
  },
  "kernelspec": {
   "name": "python3",
   "language": "python",
   "display_name": "Python 3"
  },
  "language_info": {
   "name": "python"
  },
  "accelerator": "GPU"
 },
 "cells": [
  {
   "cell_type": "markdown",
   "source": [
    "## Copy Scripts to Current Directory"
   ],
   "metadata": {
    "collapsed": false,
    "pycharm": {
     "name": "#%% md\n"
    }
   }
  },
  {
   "cell_type": "code",
   "metadata": {
    "id": "OySBCytSuLjp"
   },
   "source": [
    "# !git clone https://github.com/TheSoundOfAIOSR/rg_sound_generation.git\n",
    "# !mv /content/rg_sound_generation/tcvae/* .\n",
    "# !pip install -q ddsp"
   ],
   "execution_count": null,
   "outputs": []
  },
  {
   "cell_type": "markdown",
   "source": [
    "## Mount Google Drive"
   ],
   "metadata": {
    "collapsed": false,
    "pycharm": {
     "name": "#%% md\n"
    }
   }
  },
  {
   "cell_type": "code",
   "metadata": {
    "id": "M8_qQrfqupBy"
   },
   "source": [
    "# from google.colab import drive\n",
    "# drive.mount('/content/drive', force_remount=False)"
   ],
   "execution_count": null,
   "outputs": []
  },
  {
   "cell_type": "markdown",
   "source": [
    "## Import Scripts and Setup Config"
   ],
   "metadata": {
    "collapsed": false,
    "pycharm": {
     "name": "#%% md\n"
    }
   }
  },
  {
   "cell_type": "code",
   "metadata": {
    "id": "vR2CxwrHvK36"
   },
   "source": [
    "from tcvae import localconfig, train"
   ],
   "execution_count": null,
   "outputs": []
  },
  {
   "cell_type": "code",
   "metadata": {
    "id": "yTN5DbnPvNxh"
   },
   "source": [
    "conf = localconfig.LocalConfig()\n",
    "# conf.dataset_dir = \"/content/drive/MyDrive/the_sound_of_ai/new_data\"\n",
    "conf.batch_size = 1\n",
    "conf.latent_dim = 16\n",
    "conf.log_steps = True\n",
    "conf.learning_rate = 0.001\n",
    "conf.best_loss = 1"
   ],
   "execution_count": null,
   "outputs": []
  },
  {
   "cell_type": "markdown",
   "source": [
    "## Train"
   ],
   "metadata": {
    "collapsed": false,
    "pycharm": {
     "name": "#%% md\n"
    }
   }
  },
  {
   "cell_type": "code",
   "metadata": {
    "id": "IK8BksMivYyA"
   },
   "source": [
    "train.train(conf)"
   ],
   "execution_count": null,
   "outputs": []
  },
  {
   "cell_type": "code",
   "metadata": {
    "id": "K6Cwq-8LGB6-",
    "pycharm": {
     "name": "#%%\n"
    }
   },
   "source": [],
   "execution_count": null,
   "outputs": []
  }
 ]
}
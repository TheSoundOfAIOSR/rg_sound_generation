{
 "nbformat": 4,
 "nbformat_minor": 0,
 "metadata": {
  "accelerator": "GPU",
  "colab": {
   "name": "train_on_colab_partial.ipynb",
   "provenance": [],
   "collapsed_sections": [],
   "machine_shape": "hm"
  },
  "kernelspec": {
   "display_name": "Python 3",
   "language": "python",
   "name": "python3"
  },
  "language_info": {
   "name": "python"
  }
 },
 "cells": [
  {
   "cell_type": "markdown",
   "metadata": {
    "collapsed": false,
    "id": "l4G14i1g8RCM"
   },
   "source": [
    "## Copy Scripts to Current Directory"
   ]
  },
  {
   "cell_type": "code",
   "metadata": {
    "id": "8VCioGNq-eJh"
   },
   "source": [
    "!rm -r tcvae/\n",
    "!rm -r rg_sound_generation/\n",
    "!rm -r checkpoints/\n",
    "!rm *"
   ],
   "execution_count": null,
   "outputs": []
  },
  {
   "cell_type": "code",
   "metadata": {
    "id": "OySBCytSuLjp"
   },
   "source": [
    "!git clone https://github.com/TheSoundOfAIOSR/rg_sound_generation.git\n",
    "!mv /content/rg_sound_generation/timbre_conditioned_vae/* ."
   ],
   "execution_count": null,
   "outputs": []
  },
  {
   "cell_type": "code",
   "metadata": {
    "id": "xvgTVv_4c_id"
   },
   "source": [
    "!pip install -q -r requirements_colab.txt"
   ],
   "execution_count": null,
   "outputs": []
  },
  {
   "cell_type": "markdown",
   "metadata": {
    "collapsed": false,
    "id": "Z9PVWRb58RCS"
   },
   "source": [
    "## Mount Google Drive"
   ]
  },
  {
   "cell_type": "code",
   "metadata": {
    "id": "M8_qQrfqupBy"
   },
   "source": [
    "from google.colab import drive\n",
    "drive.mount('/content/drive', force_remount=False)"
   ],
   "execution_count": null,
   "outputs": []
  },
  {
   "cell_type": "markdown",
   "metadata": {
    "collapsed": false,
    "id": "1Uvcnco98RCU"
   },
   "source": [
    "## Import Scripts and Setup Config"
   ]
  },
  {
   "cell_type": "code",
   "metadata": {
    "id": "vR2CxwrHvK36"
   },
   "source": [
    "import json\n",
    "from tcvae import localconfig, train\n",
    "\n",
    "data_handler_type = \"data_handler\"\n",
    "conf = localconfig.LocalConfig(data_handler_type)"
   ],
   "execution_count": null,
   "outputs": []
  },
  {
   "cell_type": "code",
   "metadata": {
    "id": "yTN5DbnPvNxh"
   },
   "source": [
    "# %%writefile conf.txt \n",
    "conf.dataset_dir = \"/content/drive/MyDrive/the_sound_of_ai/new_data\"\n",
    "conf.checkpoints_dir = \"/content/drive/MyDrive/the_sound_of_ai/new_data/checkpoints\"\n",
    "conf.pretrained_model_path = \"/content/drive/MyDrive/the_sound_of_ai/new_data/checkpoints/mt_simple_5_run2.h5\"\n",
    "conf.best_loss = 0.007439\n",
    "\n",
    "# Architecture\n",
    "conf.use_embeddings = False\n",
    "conf.use_encoder = True\n",
    "conf.simple_encoder = True\n",
    "conf.simple_decoder = True\n",
    "conf.using_categorical = False\n",
    "conf.use_max_pool = False\n",
    "conf.is_variational = False\n",
    "conf.use_note_number = True\n",
    "conf.use_velocity = True\n",
    "conf.use_heuristics = True\n",
    "conf.latent_dim = 5\n",
    "conf.print_model_summary = False\n",
    "\n",
    "# Outputs\n",
    "conf.mt_outputs[\"f0_shifts\"][\"enabled\"] = True\n",
    "conf.mt_outputs[\"h_freq_shifts\"][\"enabled\"] = True\n",
    "conf.mt_outputs[\"mag_env\"][\"enabled\"] = True\n",
    "conf.mt_outputs[\"h_mag_dist\"][\"enabled\"] = True\n",
    "conf.mt_outputs[\"h_phase_diff\"][\"enabled\"] = False\n",
    "conf.data_handler.losses_weights[\"f0_loss\"] = 1.0\n",
    "conf.data_handler.losses_weights[\"h_freq_shifts_loss\"] = 1.0\n",
    "conf.data_handler.losses_weights[\"mag_env_loss\"] = 1.0\n",
    "conf.data_handler.losses_weights[\"h_mag_dist_loss\"] = 1.0\n",
    "conf.data_handler.losses_weights[\"h_mag_loss\"] = 1.0\n",
    "conf.data_handler.losses_weights[\"h_phase_diff_loss\"] = 0.0\n",
    "conf.data_handler.use_phase = True\n",
    "\n",
    "# Training\n",
    "conf.batch_size = 16\n",
    "conf.learning_rate = 0.00015\n",
    "conf.lr_factor = 0.5\n",
    "conf.lr_plateau = 3\n",
    "conf.model_name = \"mt_simple_5\"\n",
    "conf.early_stopping = 12\n",
    "\n",
    "conf.save_config()"
   ],
   "execution_count": null,
   "outputs": []
  },
  {
   "cell_type": "markdown",
   "metadata": {
    "id": "JuZWnvpid21O"
   },
   "source": [
    "## Freeze Everything Except 1 Output"
   ]
  },
  {
   "cell_type": "code",
   "metadata": {
    "id": "HCFTAFskd99x"
   },
   "source": [
    "# Output layers json file is created when model is built\n",
    "with open(\"output_layers.json\", \"r\") as f:\n",
    "    output_layers = json.load(f)\n",
    "\n",
    "print(output_layers.keys())\n",
    "# This is same as mt_outputs\n",
    "print(conf.mt_outputs.keys())"
   ],
   "execution_count": null,
   "outputs": []
  },
  {
   "cell_type": "code",
   "execution_count": null,
   "outputs": [],
   "source": [
    "# One of the outputs selected to be unfrozen\n",
    "unfrozen_layers = output_layers.get(\"f0_shifts\")"
   ],
   "metadata": {
    "collapsed": false,
    "pycharm": {
     "name": "#%%\n"
    }
   }
  },
  {
   "cell_type": "markdown",
   "metadata": {
    "collapsed": false,
    "id": "oEAzZzoi8RCU"
   },
   "source": [
    "## Train"
   ]
  },
  {
   "cell_type": "code",
   "metadata": {
    "id": "IK8BksMivYyA"
   },
   "source": [
    "# If training just an output submodel: (Only works when pretrained model path is specified)\n",
    "# train.train(conf, unfrozen_layers)\n",
    "\n",
    "# If training from scratch\n",
    "train.train(conf)"
   ],
   "execution_count": null,
   "outputs": []
  },
  {
   "cell_type": "code",
   "metadata": {
    "id": "07CdHCBr1wiH"
   },
   "source": [
    ""
   ],
   "execution_count": null,
   "outputs": []
  }
 ]
}
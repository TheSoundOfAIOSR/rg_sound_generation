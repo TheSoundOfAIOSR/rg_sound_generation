{
 "nbformat": 4,
 "nbformat_minor": 0,
 "metadata": {
  "colab": {
   "name": "train_on_colab.ipynb",
   "provenance": [],
   "collapsed_sections": []
  },
  "kernelspec": {
   "name": "python3",
   "language": "python",
   "display_name": "Python 3"
  },
  "language_info": {
   "name": "python"
  },
  "accelerator": "GPU"
 },
 "cells": [
  {
   "cell_type": "markdown",
   "metadata": {
    "collapsed": false,
    "pycharm": {
     "name": "#%% md\n"
    },
    "id": "l4G14i1g8RCM"
   },
   "source": [
    "## Copy Scripts to Current Directory"
   ]
  },
  {
   "cell_type": "code",
   "metadata": {
    "id": "8VCioGNq-eJh"
   },
   "source": [
    "# !rm -r tcvae/\n",
    "# !rm -r rg_sound_generation/"
   ],
   "execution_count": null,
   "outputs": []
  },
  {
   "cell_type": "code",
   "metadata": {
    "id": "OySBCytSuLjp"
   },
   "source": [
    "!git clone https://github.com/TheSoundOfAIOSR/rg_sound_generation.git\n",
    "!mv /content/rg_sound_generation/timbre_conditioned_vae/* ."
   ],
   "execution_count": null,
   "outputs": []
  },
  {
   "cell_type": "code",
   "metadata": {
    "id": "xvgTVv_4c_id"
   },
   "source": [
    "!pip install -q -r requirements.txt"
   ],
   "execution_count": null,
   "outputs": []
  },
  {
   "cell_type": "markdown",
   "metadata": {
    "collapsed": false,
    "pycharm": {
     "name": "#%% md\n"
    },
    "id": "Z9PVWRb58RCS"
   },
   "source": [
    "## Mount Google Drive"
   ]
  },
  {
   "cell_type": "code",
   "metadata": {
    "id": "M8_qQrfqupBy"
   },
   "source": [
    "from google.colab import drive\n",
    "drive.mount('/content/drive', force_remount=False)"
   ],
   "execution_count": null,
   "outputs": []
  },
  {
   "cell_type": "markdown",
   "metadata": {
    "collapsed": false,
    "pycharm": {
     "name": "#%% md\n"
    },
    "id": "1Uvcnco98RCU"
   },
   "source": [
    "## Import Scripts and Setup Config"
   ]
  },
  {
   "cell_type": "code",
   "metadata": {
    "id": "vR2CxwrHvK36"
   },
   "source": [
    "from tcvae import localconfig, train\n",
    "import tensorflow as tf\n",
    "\n",
    "conf = localconfig.LocalConfig()"
   ],
   "execution_count": null,
   "outputs": []
  },
  {
   "cell_type": "code",
   "metadata": {
    "id": "yTN5DbnPvNxh"
   },
   "source": [
    "conf.dataset_dir = \"/content/drive/MyDrive/the_sound_of_ai/new_data\"\n",
    "conf.checkpoints_dir = \"/content/drive/MyDrive/the_sound_of_ai/new_data/checkpoints\"\n",
    "\n",
    "conf.use_encoder = False\n",
    "conf.decoder_type = \"cnn\"\n",
    "conf.batch_size = 8\n",
    "conf.learning_rate = 2e-3\n",
    "conf.model_name = \"cnn_decoder_heuristics\"\n",
    "conf.step_log_interval = 100\n",
    "conf.data_handler.f0_weight_type = \"mag_max_pool\"\n",
    "conf.data_handler.h_freq_shifts_weight = \"mag_max_pool\"\n",
    "conf.data_handler.mag_loss_type = \"mse\"\n",
    "\n",
    "conf.save_config()"
   ],
   "execution_count": null,
   "outputs": []
  },
  {
   "cell_type": "markdown",
   "metadata": {
    "collapsed": false,
    "pycharm": {
     "name": "#%% md\n"
    },
    "id": "oEAzZzoi8RCU"
   },
   "source": [
    "## Train"
   ]
  },
  {
   "cell_type": "code",
   "metadata": {
    "id": "IK8BksMivYyA"
   },
   "source": [
    "train.train(conf)"
   ],
   "execution_count": null,
   "outputs": []
  },
  {
   "cell_type": "code",
   "metadata": {
    "id": "OBkmDdno5ZWY"
   },
   "source": [
    ""
   ],
   "execution_count": null,
   "outputs": []
  }
 ]
}
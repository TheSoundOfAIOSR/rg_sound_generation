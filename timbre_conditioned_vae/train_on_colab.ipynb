{
  "nbformat": 4,
  "nbformat_minor": 0,
  "metadata": {
    "colab": {
      "name": "train_on_colab.ipynb",
      "provenance": [],
      "collapsed_sections": []
    },
    "kernelspec": {
      "name": "python3",
      "language": "python",
      "display_name": "Python 3"
    },
    "language_info": {
      "name": "python"
    },
    "accelerator": "TPU"
  },
  "cells": [
    {
      "cell_type": "markdown",
      "metadata": {
        "collapsed": false,
        "pycharm": {
          "name": "#%% md\n"
        },
        "id": "l4G14i1g8RCM"
      },
      "source": [
        "## Copy Scripts to Current Directory"
      ]
    },
    {
      "cell_type": "code",
      "metadata": {
        "id": "OySBCytSuLjp"
      },
      "source": [
        "!git clone https://github.com/TheSoundOfAIOSR/rg_sound_generation.git\n",
        "!mv /content/rg_sound_generation/timbre_conditioned_vae/* .\n",
        "!pip install -q ddsp loguru"
      ],
      "execution_count": null,
      "outputs": []
    },
    {
      "cell_type": "markdown",
      "metadata": {
        "collapsed": false,
        "pycharm": {
          "name": "#%% md\n"
        },
        "id": "Z9PVWRb58RCS"
      },
      "source": [
        "## Mount Google Drive"
      ]
    },
    {
      "cell_type": "code",
      "metadata": {
        "id": "M8_qQrfqupBy"
      },
      "source": [
        "from google.colab import drive\n",
        "drive.mount('/content/drive', force_remount=False)"
      ],
      "execution_count": null,
      "outputs": []
    },
    {
      "cell_type": "markdown",
      "metadata": {
        "collapsed": false,
        "pycharm": {
          "name": "#%% md\n"
        },
        "id": "1Uvcnco98RCU"
      },
      "source": [
        "## Import Scripts and Setup Config"
      ]
    },
    {
      "cell_type": "code",
      "metadata": {
        "id": "vR2CxwrHvK36"
      },
      "source": [
        "from tcvae import localconfig, train"
      ],
      "execution_count": null,
      "outputs": []
    },
    {
      "cell_type": "code",
      "metadata": {
        "id": "yTN5DbnPvNxh"
      },
      "source": [
        "conf = localconfig.LocalConfig()\n",
        "conf.dataset_dir = \"/content/drive/MyDrive/the_sound_of_ai/new_data\"\n",
        "conf.batch_size = 16\n",
        "conf.latent_dim = 128\n",
        "conf.log_steps = True\n",
        "conf.step_log_interval = 10\n",
        "conf.learning_rate = 0.001\n",
        "conf.best_loss = 10"
      ],
      "execution_count": null,
      "outputs": []
    },
    {
      "cell_type": "markdown",
      "metadata": {
        "collapsed": false,
        "pycharm": {
          "name": "#%% md\n"
        },
        "id": "oEAzZzoi8RCU"
      },
      "source": [
        "## Train"
      ]
    },
    {
      "cell_type": "code",
      "metadata": {
        "id": "IK8BksMivYyA"
      },
      "source": [
        "train.train(conf)"
      ],
      "execution_count": null,
      "outputs": []
    },
    {
      "cell_type": "code",
      "metadata": {
        "id": "K6Cwq-8LGB6-",
        "pycharm": {
          "name": "#%%\n"
        }
      },
      "source": [
        ""
      ],
      "execution_count": null,
      "outputs": []
    }
  ]
}